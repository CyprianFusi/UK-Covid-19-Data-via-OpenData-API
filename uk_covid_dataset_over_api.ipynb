{
 "cells": [
  {
   "cell_type": "markdown",
   "id": "4fd002f3",
   "metadata": {},
   "source": [
    "**This notebook is about**:\n",
    "* Trying out the UK Open Data API\n",
    "* Requesting data on corona virus from [GOV.UK Coronavirus(COVID-19) Open Data API](https://coronavirus.data.gov.uk/details/developers-guide/main-api)\n",
    "* Doing some pretty quick and dirty data exploration\n",
    "* Getting some simple statistics\n",
    "* Visualising the results"
   ]
  },
  {
   "cell_type": "code",
   "execution_count": 1,
   "id": "968d771b",
   "metadata": {},
   "outputs": [],
   "source": [
    "from typing import Iterable, Dict, Union, List\n",
    "import json\n",
    "from requests import get\n",
    "from http import HTTPStatus"
   ]
  },
  {
   "cell_type": "code",
   "execution_count": 2,
   "id": "3c969d91",
   "metadata": {},
   "outputs": [],
   "source": [
    "StructureType = Dict[str, Union[dict, str]]\n",
    "FiltersType = Iterable[str]\n",
    "APIResponseType = Union[List[StructureType], str]"
   ]
  },
  {
   "cell_type": "code",
   "execution_count": 4,
   "id": "6bda9de4",
   "metadata": {},
   "outputs": [],
   "source": [
    "def get_paginated_dataset(filters: FiltersType, structure: StructureType, as_csv: bool = False) -> APIResponseType:\n",
    "    '''\n",
    "    Extracts paginated data by requesting all of the pages\n",
    "    and combining the results.\n",
    "\n",
    "    Parameters\n",
    "    ----------\n",
    "    filters: Iterable[str]\n",
    "        API filters. See the API documentations for additional\n",
    "        information.\n",
    "\n",
    "    structure: Dict[str, Union[dict, str]]\n",
    "        Structure parameter. See the API documentations for\n",
    "        additional information.\n",
    "        as_csv: bool\n",
    "        Return the data as CSV. [default: ``False``]\n",
    "\n",
    "    Returns\n",
    "    -------\n",
    "    Union[List[StructureType], str]\n",
    "        Comprehensive list of dictionaries containing all the data for\n",
    "        the given ``filters`` and ``structure``.\n",
    "    '''\n",
    "    endpoint = 'https://api.coronavirus.data.gov.uk/v1/data'\n",
    "    \n",
    "    api_params = {'filters': str.join(';', filters),\n",
    "                  'structure': json.dumps(structure, separators = (',', ':')),\n",
    "                  'format': 'json' if not as_csv else 'csv'\n",
    "                 }\n",
    "    data = list()\n",
    "    page_number = 1\n",
    "    while True:\n",
    "        # add page number to query params\n",
    "        api_params['page'] = page_number\n",
    "        response = get(endpoint, params = api_params, timeout = 10)\n",
    "        if response.status_code >= HTTPStatus.BAD_REQUEST:\n",
    "            raise RuntimeError(f'Request failed: {response.text}')\n",
    "        elif response.status_code == HTTPStatus.NO_CONTENT:\n",
    "            break\n",
    "        if as_csv:\n",
    "            csv_content = response.content.decode()\n",
    "            # Removing CSV header (column names) where page number is greater than 1\n",
    "            if page_number > 1:\n",
    "                data_lines = csv_content.split('\\n')[1:]\n",
    "                csv_content = str.join('\\n', data_lines)\n",
    "            data.append(csv_content.strip())\n",
    "            page_number += 1\n",
    "            continue\n",
    "        current_data = response.json()\n",
    "        page_data: List[StructureType] = current_data['data']\n",
    "        data.extend(page_data)\n",
    "        # The \"next\" attribute in \"pagination\" will be `None` when we reach the end\n",
    "        if not current_data['pagination']['next']:\n",
    "            break\n",
    "        page_number += 1\n",
    "    if not as_csv:\n",
    "        return data\n",
    "    # concatenating CSV pages\n",
    "    return str.join('\\n', data)"
   ]
  },
  {
   "cell_type": "code",
   "execution_count": 5,
   "id": "ddc75ea5",
   "metadata": {},
   "outputs": [],
   "source": [
    "query_filters = [f'areaType=region']\n",
    "query_structure = {\"date\": \"date\",\n",
    "                   \"name\": \"areaName\",\n",
    "                   \"code\": \"areaCode\",\n",
    "                   \"daily\": \"newCasesBySpecimenDate\",\n",
    "                   \"cumulative\": \"cumCasesBySpecimenDate\"\n",
    "                  }"
   ]
  },
  {
   "cell_type": "code",
   "execution_count": 6,
   "id": "23f8b7a2",
   "metadata": {},
   "outputs": [],
   "source": [
    "json_data = get_paginated_dataset(query_filters, query_structure)"
   ]
  },
  {
   "cell_type": "code",
   "execution_count": 7,
   "id": "1a73fcfa",
   "metadata": {},
   "outputs": [
    {
     "name": "stdout",
     "output_type": "stream",
     "text": [
      "Length: 6509\n",
      "Data (first 3 items):\n",
      "[{'date': '2022-02-08', 'name': 'North East', 'code': 'E12000001', 'daily': 1274, 'cumulative': 810348}, {'date': '2022-02-07', 'name': 'North East', 'code': 'E12000001', 'daily': 2285, 'cumulative': 809074}, {'date': '2022-02-06', 'name': 'North East', 'code': 'E12000001', 'daily': 1871, 'cumulative': 806789}]\n"
     ]
    }
   ],
   "source": [
    "print(f'Length: {len(json_data)}')\n",
    "print(f'Data (first 3 items):\\n{json_data[:3]}')\n",
    "#print('---' * 10)"
   ]
  },
  {
   "cell_type": "code",
   "execution_count": 9,
   "id": "1c2f2875",
   "metadata": {},
   "outputs": [],
   "source": [
    "csv_data = get_paginated_dataset(query_filters, query_structure, as_csv = True)"
   ]
  },
  {
   "cell_type": "code",
   "execution_count": 10,
   "id": "04e2b41e",
   "metadata": {},
   "outputs": [
    {
     "name": "stdout",
     "output_type": "stream",
     "text": [
      "Length: 6510\n",
      "Data (first 3 lines):\n",
      "['date,name,code,daily,cumulative', '2022-02-08,North East,E12000001,1274,810348', '2022-02-07,North East,E12000001,2285,809074']\n"
     ]
    }
   ],
   "source": [
    "csv_lines = csv_data.split(\"\\n\")\n",
    "#print('CSV:')\n",
    "print(f'Length: {len(csv_lines)}')\n",
    "print(f'Data (first 3 lines):\\n{csv_lines[:3]}')"
   ]
  },
  {
   "cell_type": "markdown",
   "id": "d4ea2b04",
   "metadata": {},
   "source": [
    "**Save the data to disk**"
   ]
  },
  {
   "cell_type": "code",
   "execution_count": 16,
   "id": "3ccccba6",
   "metadata": {},
   "outputs": [],
   "source": [
    "import csv"
   ]
  },
  {
   "cell_type": "code",
   "execution_count": 15,
   "id": "7f849a62",
   "metadata": {},
   "outputs": [],
   "source": [
    "with open('./data/data.json', 'wt') as f:\n",
    "    json.dump(json_data, f)"
   ]
  },
  {
   "cell_type": "code",
   "execution_count": 21,
   "id": "b9cd0380",
   "metadata": {},
   "outputs": [],
   "source": [
    "# with open('./data/data.csv', 'wt') as f:\n",
    "#     f_csv = csv.writer(f)\n",
    "#     f_csv.writerows(csv_lines)"
   ]
  },
  {
   "cell_type": "markdown",
   "id": "176d19a9",
   "metadata": {},
   "source": [
    "**Load and analyse data**"
   ]
  },
  {
   "cell_type": "code",
   "execution_count": 2,
   "id": "b2b24ce3",
   "metadata": {},
   "outputs": [],
   "source": [
    "import matplotlib.pyplot as plt\n",
    "import numpy as np\n",
    "import pandas as pd\n",
    "import seaborn as sns\n",
    "import warnings\n",
    "\n",
    "# Set Matplotlib defaults\n",
    "plt.style.use(\"seaborn-whitegrid\")\n",
    "plt.rc(\"figure\", autolayout=True)\n",
    "plt.rc(\n",
    "    \"axes\",\n",
    "    labelweight=\"bold\",\n",
    "    labelsize=\"large\",\n",
    "    titleweight=\"bold\",\n",
    "    titlesize=14,\n",
    "    titlepad=10,\n",
    ")\n",
    "warnings.filterwarnings('ignore')"
   ]
  },
  {
   "cell_type": "markdown",
   "id": "05f86a35",
   "metadata": {},
   "source": [
    "**Read the data from disk and create a DataFrame**"
   ]
  },
  {
   "cell_type": "code",
   "execution_count": 3,
   "id": "73b481f6",
   "metadata": {},
   "outputs": [
    {
     "data": {
      "text/html": [
       "<div>\n",
       "<style scoped>\n",
       "    .dataframe tbody tr th:only-of-type {\n",
       "        vertical-align: middle;\n",
       "    }\n",
       "\n",
       "    .dataframe tbody tr th {\n",
       "        vertical-align: top;\n",
       "    }\n",
       "\n",
       "    .dataframe thead th {\n",
       "        text-align: right;\n",
       "    }\n",
       "</style>\n",
       "<table border=\"1\" class=\"dataframe\">\n",
       "  <thead>\n",
       "    <tr style=\"text-align: right;\">\n",
       "      <th></th>\n",
       "      <th>name</th>\n",
       "      <th>code</th>\n",
       "      <th>daily</th>\n",
       "      <th>cumulative</th>\n",
       "    </tr>\n",
       "    <tr>\n",
       "      <th>date</th>\n",
       "      <th></th>\n",
       "      <th></th>\n",
       "      <th></th>\n",
       "      <th></th>\n",
       "    </tr>\n",
       "  </thead>\n",
       "  <tbody>\n",
       "    <tr>\n",
       "      <th>2022-02-08</th>\n",
       "      <td>North East</td>\n",
       "      <td>E12000001</td>\n",
       "      <td>1274</td>\n",
       "      <td>810348</td>\n",
       "    </tr>\n",
       "    <tr>\n",
       "      <th>2022-02-07</th>\n",
       "      <td>North East</td>\n",
       "      <td>E12000001</td>\n",
       "      <td>2285</td>\n",
       "      <td>809074</td>\n",
       "    </tr>\n",
       "    <tr>\n",
       "      <th>2022-02-06</th>\n",
       "      <td>North East</td>\n",
       "      <td>E12000001</td>\n",
       "      <td>1871</td>\n",
       "      <td>806789</td>\n",
       "    </tr>\n",
       "    <tr>\n",
       "      <th>2022-02-05</th>\n",
       "      <td>North East</td>\n",
       "      <td>E12000001</td>\n",
       "      <td>1629</td>\n",
       "      <td>804918</td>\n",
       "    </tr>\n",
       "    <tr>\n",
       "      <th>2022-02-04</th>\n",
       "      <td>North East</td>\n",
       "      <td>E12000001</td>\n",
       "      <td>2106</td>\n",
       "      <td>803289</td>\n",
       "    </tr>\n",
       "  </tbody>\n",
       "</table>\n",
       "</div>"
      ],
      "text/plain": [
       "                  name       code  daily  cumulative\n",
       "date                                                \n",
       "2022-02-08  North East  E12000001   1274      810348\n",
       "2022-02-07  North East  E12000001   2285      809074\n",
       "2022-02-06  North East  E12000001   1871      806789\n",
       "2022-02-05  North East  E12000001   1629      804918\n",
       "2022-02-04  North East  E12000001   2106      803289"
      ]
     },
     "execution_count": 3,
     "metadata": {},
     "output_type": "execute_result"
    }
   ],
   "source": [
    "df = pd.read_json('./data/data.json').set_index('date')\n",
    "df.head()"
   ]
  },
  {
   "cell_type": "code",
   "execution_count": 4,
   "id": "79ee687e",
   "metadata": {},
   "outputs": [
    {
     "name": "stdout",
     "output_type": "stream",
     "text": [
      "(6509, 4)\n",
      "<class 'pandas.core.indexes.datetimes.DatetimeIndex'>\n"
     ]
    }
   ],
   "source": [
    "print(df.shape)\n",
    "print(type(df.index))"
   ]
  },
  {
   "cell_type": "markdown",
   "id": "5f92da90",
   "metadata": {},
   "source": [
    "**Create columns for year, month and day**"
   ]
  },
  {
   "cell_type": "code",
   "execution_count": 5,
   "id": "b19747a1",
   "metadata": {},
   "outputs": [
    {
     "data": {
      "text/html": [
       "<div>\n",
       "<style scoped>\n",
       "    .dataframe tbody tr th:only-of-type {\n",
       "        vertical-align: middle;\n",
       "    }\n",
       "\n",
       "    .dataframe tbody tr th {\n",
       "        vertical-align: top;\n",
       "    }\n",
       "\n",
       "    .dataframe thead th {\n",
       "        text-align: right;\n",
       "    }\n",
       "</style>\n",
       "<table border=\"1\" class=\"dataframe\">\n",
       "  <thead>\n",
       "    <tr style=\"text-align: right;\">\n",
       "      <th></th>\n",
       "      <th>name</th>\n",
       "      <th>code</th>\n",
       "      <th>daily</th>\n",
       "      <th>cumulative</th>\n",
       "      <th>year</th>\n",
       "      <th>month</th>\n",
       "      <th>day</th>\n",
       "    </tr>\n",
       "    <tr>\n",
       "      <th>date</th>\n",
       "      <th></th>\n",
       "      <th></th>\n",
       "      <th></th>\n",
       "      <th></th>\n",
       "      <th></th>\n",
       "      <th></th>\n",
       "      <th></th>\n",
       "    </tr>\n",
       "  </thead>\n",
       "  <tbody>\n",
       "    <tr>\n",
       "      <th>2022-02-08</th>\n",
       "      <td>North East</td>\n",
       "      <td>E12000001</td>\n",
       "      <td>1274</td>\n",
       "      <td>810348</td>\n",
       "      <td>2022</td>\n",
       "      <td>2</td>\n",
       "      <td>8</td>\n",
       "    </tr>\n",
       "    <tr>\n",
       "      <th>2022-02-07</th>\n",
       "      <td>North East</td>\n",
       "      <td>E12000001</td>\n",
       "      <td>2285</td>\n",
       "      <td>809074</td>\n",
       "      <td>2022</td>\n",
       "      <td>2</td>\n",
       "      <td>7</td>\n",
       "    </tr>\n",
       "    <tr>\n",
       "      <th>2022-02-06</th>\n",
       "      <td>North East</td>\n",
       "      <td>E12000001</td>\n",
       "      <td>1871</td>\n",
       "      <td>806789</td>\n",
       "      <td>2022</td>\n",
       "      <td>2</td>\n",
       "      <td>6</td>\n",
       "    </tr>\n",
       "    <tr>\n",
       "      <th>2022-02-05</th>\n",
       "      <td>North East</td>\n",
       "      <td>E12000001</td>\n",
       "      <td>1629</td>\n",
       "      <td>804918</td>\n",
       "      <td>2022</td>\n",
       "      <td>2</td>\n",
       "      <td>5</td>\n",
       "    </tr>\n",
       "    <tr>\n",
       "      <th>2022-02-04</th>\n",
       "      <td>North East</td>\n",
       "      <td>E12000001</td>\n",
       "      <td>2106</td>\n",
       "      <td>803289</td>\n",
       "      <td>2022</td>\n",
       "      <td>2</td>\n",
       "      <td>4</td>\n",
       "    </tr>\n",
       "  </tbody>\n",
       "</table>\n",
       "</div>"
      ],
      "text/plain": [
       "                  name       code  daily  cumulative  year  month  day\n",
       "date                                                                  \n",
       "2022-02-08  North East  E12000001   1274      810348  2022      2    8\n",
       "2022-02-07  North East  E12000001   2285      809074  2022      2    7\n",
       "2022-02-06  North East  E12000001   1871      806789  2022      2    6\n",
       "2022-02-05  North East  E12000001   1629      804918  2022      2    5\n",
       "2022-02-04  North East  E12000001   2106      803289  2022      2    4"
      ]
     },
     "execution_count": 5,
     "metadata": {},
     "output_type": "execute_result"
    }
   ],
   "source": [
    "df['year'] = df.index.year\n",
    "df['month'] = df.index.month\n",
    "df['day'] = df.index.day\n",
    "df.head()"
   ]
  },
  {
   "cell_type": "code",
   "execution_count": 7,
   "id": "adeb8e95",
   "metadata": {},
   "outputs": [
    {
     "data": {
      "text/html": [
       "<div>\n",
       "<style scoped>\n",
       "    .dataframe tbody tr th:only-of-type {\n",
       "        vertical-align: middle;\n",
       "    }\n",
       "\n",
       "    .dataframe tbody tr th {\n",
       "        vertical-align: top;\n",
       "    }\n",
       "\n",
       "    .dataframe thead th {\n",
       "        text-align: right;\n",
       "    }\n",
       "</style>\n",
       "<table border=\"1\" class=\"dataframe\">\n",
       "  <thead>\n",
       "    <tr style=\"text-align: right;\">\n",
       "      <th></th>\n",
       "      <th>region</th>\n",
       "      <th>code</th>\n",
       "      <th>daily</th>\n",
       "      <th>cumulative</th>\n",
       "      <th>year</th>\n",
       "      <th>month</th>\n",
       "      <th>day</th>\n",
       "    </tr>\n",
       "    <tr>\n",
       "      <th>date</th>\n",
       "      <th></th>\n",
       "      <th></th>\n",
       "      <th></th>\n",
       "      <th></th>\n",
       "      <th></th>\n",
       "      <th></th>\n",
       "      <th></th>\n",
       "    </tr>\n",
       "  </thead>\n",
       "  <tbody>\n",
       "    <tr>\n",
       "      <th>2022-02-08</th>\n",
       "      <td>North East</td>\n",
       "      <td>E12000001</td>\n",
       "      <td>1274</td>\n",
       "      <td>810348</td>\n",
       "      <td>2022</td>\n",
       "      <td>2</td>\n",
       "      <td>8</td>\n",
       "    </tr>\n",
       "    <tr>\n",
       "      <th>2022-02-07</th>\n",
       "      <td>North East</td>\n",
       "      <td>E12000001</td>\n",
       "      <td>2285</td>\n",
       "      <td>809074</td>\n",
       "      <td>2022</td>\n",
       "      <td>2</td>\n",
       "      <td>7</td>\n",
       "    </tr>\n",
       "    <tr>\n",
       "      <th>2022-02-06</th>\n",
       "      <td>North East</td>\n",
       "      <td>E12000001</td>\n",
       "      <td>1871</td>\n",
       "      <td>806789</td>\n",
       "      <td>2022</td>\n",
       "      <td>2</td>\n",
       "      <td>6</td>\n",
       "    </tr>\n",
       "    <tr>\n",
       "      <th>2022-02-05</th>\n",
       "      <td>North East</td>\n",
       "      <td>E12000001</td>\n",
       "      <td>1629</td>\n",
       "      <td>804918</td>\n",
       "      <td>2022</td>\n",
       "      <td>2</td>\n",
       "      <td>5</td>\n",
       "    </tr>\n",
       "    <tr>\n",
       "      <th>2022-02-04</th>\n",
       "      <td>North East</td>\n",
       "      <td>E12000001</td>\n",
       "      <td>2106</td>\n",
       "      <td>803289</td>\n",
       "      <td>2022</td>\n",
       "      <td>2</td>\n",
       "      <td>4</td>\n",
       "    </tr>\n",
       "  </tbody>\n",
       "</table>\n",
       "</div>"
      ],
      "text/plain": [
       "                region       code  daily  cumulative  year  month  day\n",
       "date                                                                  \n",
       "2022-02-08  North East  E12000001   1274      810348  2022      2    8\n",
       "2022-02-07  North East  E12000001   2285      809074  2022      2    7\n",
       "2022-02-06  North East  E12000001   1871      806789  2022      2    6\n",
       "2022-02-05  North East  E12000001   1629      804918  2022      2    5\n",
       "2022-02-04  North East  E12000001   2106      803289  2022      2    4"
      ]
     },
     "execution_count": 7,
     "metadata": {},
     "output_type": "execute_result"
    }
   ],
   "source": [
    "df.rename(columns = {'name': 'region'}, inplace = True)       # rename the column 'name' to 'region'\n",
    "df.head()"
   ]
  },
  {
   "cell_type": "code",
   "execution_count": 21,
   "id": "fdc8e802",
   "metadata": {},
   "outputs": [
    {
     "name": "stdout",
     "output_type": "stream",
     "text": [
      "9\n",
      "9\n"
     ]
    }
   ],
   "source": [
    "print(df.code.nunique())\n",
    "print(df.region.nunique())"
   ]
  },
  {
   "cell_type": "markdown",
   "id": "e8e8f943",
   "metadata": {},
   "source": [
    "**Regional Yearly Tally**"
   ]
  },
  {
   "cell_type": "code",
   "execution_count": 10,
   "id": "c60d58ee",
   "metadata": {},
   "outputs": [
    {
     "data": {
      "text/plain": [
       "region           year\n",
       "East Midlands    2020     196466\n",
       "                 2021     824484\n",
       "                 2022     308244\n",
       "East of England  2020     216750\n",
       "                 2021    1020818\n",
       "Name: daily, dtype: int64"
      ]
     },
     "execution_count": 10,
     "metadata": {},
     "output_type": "execute_result"
    }
   ],
   "source": [
    "regional_yearly = df.groupby(['region', 'year'])['daily'].sum()\n",
    "regional_yearly.head()"
   ]
  },
  {
   "cell_type": "code",
   "execution_count": 11,
   "id": "0ffb6db2",
   "metadata": {},
   "outputs": [
    {
     "data": {
      "text/html": [
       "<div>\n",
       "<style scoped>\n",
       "    .dataframe tbody tr th:only-of-type {\n",
       "        vertical-align: middle;\n",
       "    }\n",
       "\n",
       "    .dataframe tbody tr th {\n",
       "        vertical-align: top;\n",
       "    }\n",
       "\n",
       "    .dataframe thead th {\n",
       "        text-align: right;\n",
       "    }\n",
       "</style>\n",
       "<table border=\"1\" class=\"dataframe\">\n",
       "  <thead>\n",
       "    <tr style=\"text-align: right;\">\n",
       "      <th></th>\n",
       "      <th></th>\n",
       "      <th>daily</th>\n",
       "    </tr>\n",
       "    <tr>\n",
       "      <th>region</th>\n",
       "      <th>year</th>\n",
       "      <th></th>\n",
       "    </tr>\n",
       "  </thead>\n",
       "  <tbody>\n",
       "    <tr>\n",
       "      <th rowspan=\"3\" valign=\"top\">East Midlands</th>\n",
       "      <th>2020</th>\n",
       "      <td>196466</td>\n",
       "    </tr>\n",
       "    <tr>\n",
       "      <th>2021</th>\n",
       "      <td>824484</td>\n",
       "    </tr>\n",
       "    <tr>\n",
       "      <th>2022</th>\n",
       "      <td>308244</td>\n",
       "    </tr>\n",
       "    <tr>\n",
       "      <th rowspan=\"2\" valign=\"top\">East of England</th>\n",
       "      <th>2020</th>\n",
       "      <td>216750</td>\n",
       "    </tr>\n",
       "    <tr>\n",
       "      <th>2021</th>\n",
       "      <td>1020818</td>\n",
       "    </tr>\n",
       "  </tbody>\n",
       "</table>\n",
       "</div>"
      ],
      "text/plain": [
       "                        daily\n",
       "region          year         \n",
       "East Midlands   2020   196466\n",
       "                2021   824484\n",
       "                2022   308244\n",
       "East of England 2020   216750\n",
       "                2021  1020818"
      ]
     },
     "execution_count": 11,
     "metadata": {},
     "output_type": "execute_result"
    }
   ],
   "source": [
    "regional_yearly_df = pd.DataFrame(regional_yearly)\n",
    "regional_yearly_df.head()"
   ]
  },
  {
   "cell_type": "code",
   "execution_count": 25,
   "id": "a1efedf5",
   "metadata": {},
   "outputs": [
    {
     "data": {
      "text/plain": [
       "<AxesSubplot:xlabel='region,year'>"
      ]
     },
     "execution_count": 25,
     "metadata": {},
     "output_type": "execute_result"
    },
    {
     "data": {
      "image/png": "[encoded data removed]",
      "text/plain": [
       "<Figure size 1008x432 with 1 Axes>"
      ]
     },
     "metadata": {},
     "output_type": "display_data"
    }
   ],
   "source": [
    "regional_yearly_df.plot(kind = 'bar', figsize = (14, 6))"
   ]
  },
  {
   "cell_type": "markdown",
   "id": "a3f7e77f",
   "metadata": {},
   "source": [
    "The chart shows that: \n",
    "* **All regions were at peak period in 2021**\n",
    "* The **least** affected region is **North East**\n",
    "* There is a **general decline** in the number of cases in **Feb 2022**\n",
    "#### Nation-wide monthly Tally"
   ]
  },
  {
   "cell_type": "code",
   "execution_count": 17,
   "id": "05121a16",
   "metadata": {},
   "outputs": [
    {
     "data": {
      "text/plain": [
       "year  month\n",
       "2020  1             1\n",
       "      2            35\n",
       "      3         31542\n",
       "      4        112515\n",
       "      5         66895\n",
       "Name: daily, dtype: int64"
      ]
     },
     "execution_count": 17,
     "metadata": {},
     "output_type": "execute_result"
    }
   ],
   "source": [
    "regional_monthly = df.groupby(['year', 'month'])['daily'].sum()\n",
    "regional_monthly.head()"
   ]
  },
  {
   "cell_type": "code",
   "execution_count": 18,
   "id": "d1695fb9",
   "metadata": {},
   "outputs": [
    {
     "data": {
      "text/html": [
       "<div>\n",
       "<style scoped>\n",
       "    .dataframe tbody tr th:only-of-type {\n",
       "        vertical-align: middle;\n",
       "    }\n",
       "\n",
       "    .dataframe tbody tr th {\n",
       "        vertical-align: top;\n",
       "    }\n",
       "\n",
       "    .dataframe thead th {\n",
       "        text-align: right;\n",
       "    }\n",
       "</style>\n",
       "<table border=\"1\" class=\"dataframe\">\n",
       "  <thead>\n",
       "    <tr style=\"text-align: right;\">\n",
       "      <th></th>\n",
       "      <th></th>\n",
       "      <th>daily</th>\n",
       "    </tr>\n",
       "    <tr>\n",
       "      <th>year</th>\n",
       "      <th>month</th>\n",
       "      <th></th>\n",
       "    </tr>\n",
       "  </thead>\n",
       "  <tbody>\n",
       "    <tr>\n",
       "      <th rowspan=\"5\" valign=\"top\">2020</th>\n",
       "      <th>1</th>\n",
       "      <td>1</td>\n",
       "    </tr>\n",
       "    <tr>\n",
       "      <th>2</th>\n",
       "      <td>35</td>\n",
       "    </tr>\n",
       "    <tr>\n",
       "      <th>3</th>\n",
       "      <td>31542</td>\n",
       "    </tr>\n",
       "    <tr>\n",
       "      <th>4</th>\n",
       "      <td>112515</td>\n",
       "    </tr>\n",
       "    <tr>\n",
       "      <th>5</th>\n",
       "      <td>66895</td>\n",
       "    </tr>\n",
       "  </tbody>\n",
       "</table>\n",
       "</div>"
      ],
      "text/plain": [
       "             daily\n",
       "year month        \n",
       "2020 1           1\n",
       "     2          35\n",
       "     3       31542\n",
       "     4      112515\n",
       "     5       66895"
      ]
     },
     "execution_count": 18,
     "metadata": {},
     "output_type": "execute_result"
    }
   ],
   "source": [
    "regional_monthly_df = pd.DataFrame(regional_monthly)\n",
    "regional_monthly_df.head()"
   ]
  },
  {
   "cell_type": "code",
   "execution_count": 19,
   "id": "75eafe11",
   "metadata": {},
   "outputs": [
    {
     "data": {
      "text/plain": [
       "<AxesSubplot:xlabel='year,month'>"
      ]
     },
     "execution_count": 19,
     "metadata": {},
     "output_type": "execute_result"
    },
    {
     "data": {
      "image/png": "[encoded data removed]",
      "text/plain": [
       "<Figure size 1008x432 with 1 Axes>"
      ]
     },
     "metadata": {},
     "output_type": "display_data"
    }
   ],
   "source": [
    "regional_monthly_df.plot(kind = 'bar', figsize = (14, 6))"
   ]
  },
  {
   "cell_type": "markdown",
   "id": "09990498",
   "metadata": {},
   "source": [
    "The disproportionate high cases in **December 2021 - January 2022** is due to the outbreak of the **omicron** variant.\n",
    "#### Daily Variation in the number of cases"
   ]
  },
  {
   "cell_type": "code",
   "execution_count": 23,
   "id": "364b01ff",
   "metadata": {},
   "outputs": [
    {
     "data": {
      "text/plain": [
       "<AxesSubplot:xlabel='date', ylabel='daily'>"
      ]
     },
     "execution_count": 23,
     "metadata": {},
     "output_type": "execute_result"
    },
    {
     "data": {
      "image/png": "[encoded data removed]",
      "text/plain": [
       "<Figure size 1008x432 with 1 Axes>"
      ]
     },
     "metadata": {},
     "output_type": "display_data"
    }
   ],
   "source": [
    "plt.figure(figsize = (14, 6))\n",
    "sns.lineplot(data = df.daily, label = 'Daily')"
   ]
  },
  {
   "cell_type": "markdown",
   "id": "5527f9d8",
   "metadata": {},
   "source": [
    "**The daily statistics agrees with the monthly tally above with spikes in the periods `December - January` which saw the outbreak of `Delta`and `Omicron`variants respectively**. "
   ]
  },
  {
   "cell_type": "code",
   "execution_count": 26,
   "id": "83a55c62",
   "metadata": {},
   "outputs": [
    {
     "data": {
      "text/plain": [
       "region           year\n",
       "East Midlands    2020     196466\n",
       "                 2021     824484\n",
       "                 2022     308244\n",
       "East of England  2020     216750\n",
       "                 2021    1020818\n",
       "Name: daily, dtype: int64"
      ]
     },
     "execution_count": 26,
     "metadata": {},
     "output_type": "execute_result"
    }
   ],
   "source": [
    "regional_yearly = df.groupby(['region', 'year'])['daily'].sum()\n",
    "regional_yearly.head()"
   ]
  },
  {
   "cell_type": "code",
   "execution_count": 27,
   "id": "1f282487",
   "metadata": {},
   "outputs": [
    {
     "data": {
      "text/html": [
       "<div>\n",
       "<style scoped>\n",
       "    .dataframe tbody tr th:only-of-type {\n",
       "        vertical-align: middle;\n",
       "    }\n",
       "\n",
       "    .dataframe tbody tr th {\n",
       "        vertical-align: top;\n",
       "    }\n",
       "\n",
       "    .dataframe thead th {\n",
       "        text-align: right;\n",
       "    }\n",
       "</style>\n",
       "<table border=\"1\" class=\"dataframe\">\n",
       "  <thead>\n",
       "    <tr style=\"text-align: right;\">\n",
       "      <th></th>\n",
       "      <th></th>\n",
       "      <th>daily</th>\n",
       "    </tr>\n",
       "    <tr>\n",
       "      <th>region</th>\n",
       "      <th>year</th>\n",
       "      <th></th>\n",
       "    </tr>\n",
       "  </thead>\n",
       "  <tbody>\n",
       "    <tr>\n",
       "      <th rowspan=\"3\" valign=\"top\">East Midlands</th>\n",
       "      <th>2020</th>\n",
       "      <td>196466</td>\n",
       "    </tr>\n",
       "    <tr>\n",
       "      <th>2021</th>\n",
       "      <td>824484</td>\n",
       "    </tr>\n",
       "    <tr>\n",
       "      <th>2022</th>\n",
       "      <td>308244</td>\n",
       "    </tr>\n",
       "    <tr>\n",
       "      <th rowspan=\"2\" valign=\"top\">East of England</th>\n",
       "      <th>2020</th>\n",
       "      <td>216750</td>\n",
       "    </tr>\n",
       "    <tr>\n",
       "      <th>2021</th>\n",
       "      <td>1020818</td>\n",
       "    </tr>\n",
       "  </tbody>\n",
       "</table>\n",
       "</div>"
      ],
      "text/plain": [
       "                        daily\n",
       "region          year         \n",
       "East Midlands   2020   196466\n",
       "                2021   824484\n",
       "                2022   308244\n",
       "East of England 2020   216750\n",
       "                2021  1020818"
      ]
     },
     "execution_count": 27,
     "metadata": {},
     "output_type": "execute_result"
    }
   ],
   "source": [
    "regional_yearly_df = pd.DataFrame(regional_yearly)\n",
    "regional_yearly_df.head()"
   ]
  },
  {
   "cell_type": "code",
   "execution_count": 28,
   "id": "f5970a0a",
   "metadata": {},
   "outputs": [
    {
     "data": {
      "text/plain": [
       "Text(0.5, 1.0, 'Yearly Tally by Region')"
      ]
     },
     "execution_count": 28,
     "metadata": {},
     "output_type": "execute_result"
    },
    {
     "data": {
      "image/png": "[encoded data removed]",
      "text/plain": [
       "<Figure size 1008x432 with 1 Axes>"
      ]
     },
     "metadata": {},
     "output_type": "display_data"
    }
   ],
   "source": [
    "regional_yearly_df.plot(kind = 'bar', figsize = (14, 6))\n",
    "plt.title('Yearly Tally by Region')"
   ]
  },
  {
   "cell_type": "code",
   "execution_count": null,
   "id": "c605af2d",
   "metadata": {},
   "outputs": [],
   "source": []
  }
 ],
 "metadata": {
  "kernelspec": {
   "display_name": "Python 3",
   "language": "python",
   "name": "python3"
  },
  "language_info": {
   "codemirror_mode": {
    "name": "ipython",
    "version": 3
   },
   "file_extension": ".py",
   "mimetype": "text/x-python",
   "name": "python",
   "nbconvert_exporter": "python",
   "pygments_lexer": "ipython3",
   "version": "3.8.8"
  }
 },
 "nbformat": 4,
 "nbformat_minor": 5
}
