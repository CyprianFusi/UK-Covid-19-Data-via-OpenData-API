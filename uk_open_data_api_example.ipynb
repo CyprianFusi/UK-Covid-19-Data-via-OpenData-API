{
 "cells": [
  {
   "cell_type": "markdown",
   "id": "0ac73558",
   "metadata": {},
   "source": [
    "**This notebook is about**:\n",
    "* Requesting data on corona virus from [GOV.UK Coronavirus(COVID-19) Open Data API](https://coronavirus.data.gov.uk/details/developers-guide/main-api)\n",
    "* Doing some pretty quick and dirty data exploration\n",
    "* Getting some simple statistics\n",
    "* Visualising the results"
   ]
  },
  {
   "cell_type": "code",
   "execution_count": 1,
   "id": "1b78312e",
   "metadata": {},
   "outputs": [],
   "source": [
    "from requests import get\n",
    "import json"
   ]
  },
  {
   "cell_type": "markdown",
   "id": "5b0c1b2c",
   "metadata": {},
   "source": [
    "**Helper function to request data over API**"
   ]
  },
  {
   "cell_type": "code",
   "execution_count": 3,
   "id": "e0f1d6ac",
   "metadata": {},
   "outputs": [],
   "source": [
    "def get_data(url):\n",
    "    response = get(url, timeout = 10)\n",
    "    if response.status_code >= 400:\n",
    "        raise RuntimeError(f'Request failed: {response.text}')\n",
    "    return response.json()"
   ]
  },
  {
   "cell_type": "code",
   "execution_count": 4,
   "id": "9d84e277",
   "metadata": {},
   "outputs": [],
   "source": [
    "endpoint = ('https://api.coronavirus.data.gov.uk/v1/data?'\n",
    "            'filters=areaType=nation;areaName=england&'\n",
    "            'structure={\"date\":\"date\",\"newCases\":\"newCasesByPublishDate\"}'\n",
    "           )"
   ]
  },
  {
   "cell_type": "code",
   "execution_count": 5,
   "id": "0cf3e308",
   "metadata": {},
   "outputs": [],
   "source": [
    "data = get_data(endpoint)"
   ]
  },
  {
   "cell_type": "code",
   "execution_count": 1,
   "id": "5fc82093",
   "metadata": {},
   "outputs": [],
   "source": [
    "#data"
   ]
  },
  {
   "cell_type": "markdown",
   "id": "68361a59",
   "metadata": {},
   "source": [
    "**Import required modules and set Matplotlib defaults**"
   ]
  },
  {
   "cell_type": "code",
   "execution_count": 8,
   "id": "4e02d47f",
   "metadata": {},
   "outputs": [],
   "source": [
    "import matplotlib.pyplot as plt\n",
    "import numpy as np\n",
    "import pandas as pd\n",
    "import seaborn as sns\n",
    "import warnings\n",
    "\n",
    "# Set Matplotlib defaults\n",
    "plt.style.use(\"seaborn-whitegrid\")\n",
    "plt.rc(\"figure\", autolayout=True)\n",
    "plt.rc(\n",
    "    \"axes\",\n",
    "    labelweight=\"bold\",\n",
    "    labelsize=\"large\",\n",
    "    titleweight=\"bold\",\n",
    "    titlesize=14,\n",
    "    titlepad=10,\n",
    ")\n",
    "\n",
    "warnings.filterwarnings('ignore')"
   ]
  },
  {
   "cell_type": "markdown",
   "id": "c308efa5",
   "metadata": {},
   "source": [
    "#### Analyse the dataset"
   ]
  },
  {
   "cell_type": "code",
   "execution_count": 9,
   "id": "c60bfb7d",
   "metadata": {},
   "outputs": [
    {
     "name": "stdout",
     "output_type": "stream",
     "text": [
      "741\n"
     ]
    }
   ],
   "source": [
    "d = data['data']\n",
    "print(len(d))"
   ]
  },
  {
   "cell_type": "code",
   "execution_count": 10,
   "id": "17f7c3f6",
   "metadata": {},
   "outputs": [
    {
     "name": "stdout",
     "output_type": "stream",
     "text": [
      "{'date': '2022-02-09', 'newCases': 59193}\n"
     ]
    }
   ],
   "source": [
    "print(d[0])                # sample row"
   ]
  },
  {
   "cell_type": "code",
   "execution_count": 11,
   "id": "972e5bbb",
   "metadata": {},
   "outputs": [
    {
     "data": {
      "text/html": [
       "<div>\n",
       "<style scoped>\n",
       "    .dataframe tbody tr th:only-of-type {\n",
       "        vertical-align: middle;\n",
       "    }\n",
       "\n",
       "    .dataframe tbody tr th {\n",
       "        vertical-align: top;\n",
       "    }\n",
       "\n",
       "    .dataframe thead th {\n",
       "        text-align: right;\n",
       "    }\n",
       "</style>\n",
       "<table border=\"1\" class=\"dataframe\">\n",
       "  <thead>\n",
       "    <tr style=\"text-align: right;\">\n",
       "      <th></th>\n",
       "      <th>newCases</th>\n",
       "    </tr>\n",
       "    <tr>\n",
       "      <th>date</th>\n",
       "      <th></th>\n",
       "    </tr>\n",
       "  </thead>\n",
       "  <tbody>\n",
       "    <tr>\n",
       "      <th>2022-02-09</th>\n",
       "      <td>59193</td>\n",
       "    </tr>\n",
       "    <tr>\n",
       "      <th>2022-02-08</th>\n",
       "      <td>58453</td>\n",
       "    </tr>\n",
       "    <tr>\n",
       "      <th>2022-02-07</th>\n",
       "      <td>48601</td>\n",
       "    </tr>\n",
       "    <tr>\n",
       "      <th>2022-02-06</th>\n",
       "      <td>49533</td>\n",
       "    </tr>\n",
       "    <tr>\n",
       "      <th>2022-02-05</th>\n",
       "      <td>57377</td>\n",
       "    </tr>\n",
       "  </tbody>\n",
       "</table>\n",
       "</div>"
      ],
      "text/plain": [
       "            newCases\n",
       "date                \n",
       "2022-02-09     59193\n",
       "2022-02-08     58453\n",
       "2022-02-07     48601\n",
       "2022-02-06     49533\n",
       "2022-02-05     57377"
      ]
     },
     "execution_count": 11,
     "metadata": {},
     "output_type": "execute_result"
    }
   ],
   "source": [
    "df = pd.DataFrame(d).set_index('date')\n",
    "df.head()"
   ]
  },
  {
   "cell_type": "code",
   "execution_count": 12,
   "id": "3ea22d82",
   "metadata": {},
   "outputs": [
    {
     "name": "stdout",
     "output_type": "stream",
     "text": [
      "(741, 1)\n",
      "<class 'pandas.core.indexes.base.Index'>\n"
     ]
    }
   ],
   "source": [
    "print(df.shape)\n",
    "print(type(df.index))"
   ]
  },
  {
   "cell_type": "markdown",
   "id": "c5863898",
   "metadata": {},
   "source": [
    "**Convert the index to datetime object for easy plottting**"
   ]
  },
  {
   "cell_type": "code",
   "execution_count": 13,
   "id": "41dea056",
   "metadata": {},
   "outputs": [
    {
     "data": {
      "text/html": [
       "<div>\n",
       "<style scoped>\n",
       "    .dataframe tbody tr th:only-of-type {\n",
       "        vertical-align: middle;\n",
       "    }\n",
       "\n",
       "    .dataframe tbody tr th {\n",
       "        vertical-align: top;\n",
       "    }\n",
       "\n",
       "    .dataframe thead th {\n",
       "        text-align: right;\n",
       "    }\n",
       "</style>\n",
       "<table border=\"1\" class=\"dataframe\">\n",
       "  <thead>\n",
       "    <tr style=\"text-align: right;\">\n",
       "      <th></th>\n",
       "      <th>newCases</th>\n",
       "    </tr>\n",
       "    <tr>\n",
       "      <th>date</th>\n",
       "      <th></th>\n",
       "    </tr>\n",
       "  </thead>\n",
       "  <tbody>\n",
       "    <tr>\n",
       "      <th>2022-02-09</th>\n",
       "      <td>59193</td>\n",
       "    </tr>\n",
       "    <tr>\n",
       "      <th>2022-02-08</th>\n",
       "      <td>58453</td>\n",
       "    </tr>\n",
       "    <tr>\n",
       "      <th>2022-02-07</th>\n",
       "      <td>48601</td>\n",
       "    </tr>\n",
       "    <tr>\n",
       "      <th>2022-02-06</th>\n",
       "      <td>49533</td>\n",
       "    </tr>\n",
       "    <tr>\n",
       "      <th>2022-02-05</th>\n",
       "      <td>57377</td>\n",
       "    </tr>\n",
       "  </tbody>\n",
       "</table>\n",
       "</div>"
      ],
      "text/plain": [
       "            newCases\n",
       "date                \n",
       "2022-02-09     59193\n",
       "2022-02-08     58453\n",
       "2022-02-07     48601\n",
       "2022-02-06     49533\n",
       "2022-02-05     57377"
      ]
     },
     "execution_count": 13,
     "metadata": {},
     "output_type": "execute_result"
    }
   ],
   "source": [
    "df.index = df.index.map(lambda p: pd.to_datetime(p, format = '%Y-%m-%d', errors = 'ignore'))\n",
    "df.head()"
   ]
  },
  {
   "cell_type": "code",
   "execution_count": 14,
   "id": "dcc132ea",
   "metadata": {},
   "outputs": [
    {
     "name": "stdout",
     "output_type": "stream",
     "text": [
      "<class 'pandas.core.indexes.datetimes.DatetimeIndex'>\n"
     ]
    }
   ],
   "source": [
    "print(type(df.index))"
   ]
  },
  {
   "cell_type": "markdown",
   "id": "d85bf9cf",
   "metadata": {},
   "source": [
    "#### Number of New Cases by month and year"
   ]
  },
  {
   "cell_type": "code",
   "execution_count": 15,
   "id": "60e6dcb9",
   "metadata": {},
   "outputs": [
    {
     "data": {
      "text/html": [
       "<div>\n",
       "<style scoped>\n",
       "    .dataframe tbody tr th:only-of-type {\n",
       "        vertical-align: middle;\n",
       "    }\n",
       "\n",
       "    .dataframe tbody tr th {\n",
       "        vertical-align: top;\n",
       "    }\n",
       "\n",
       "    .dataframe thead th {\n",
       "        text-align: right;\n",
       "    }\n",
       "</style>\n",
       "<table border=\"1\" class=\"dataframe\">\n",
       "  <thead>\n",
       "    <tr style=\"text-align: right;\">\n",
       "      <th></th>\n",
       "      <th>newCases</th>\n",
       "      <th>year</th>\n",
       "      <th>month</th>\n",
       "      <th>day</th>\n",
       "    </tr>\n",
       "    <tr>\n",
       "      <th>date</th>\n",
       "      <th></th>\n",
       "      <th></th>\n",
       "      <th></th>\n",
       "      <th></th>\n",
       "    </tr>\n",
       "  </thead>\n",
       "  <tbody>\n",
       "    <tr>\n",
       "      <th>2022-02-09</th>\n",
       "      <td>59193</td>\n",
       "      <td>2022</td>\n",
       "      <td>2</td>\n",
       "      <td>9</td>\n",
       "    </tr>\n",
       "    <tr>\n",
       "      <th>2022-02-08</th>\n",
       "      <td>58453</td>\n",
       "      <td>2022</td>\n",
       "      <td>2</td>\n",
       "      <td>8</td>\n",
       "    </tr>\n",
       "    <tr>\n",
       "      <th>2022-02-07</th>\n",
       "      <td>48601</td>\n",
       "      <td>2022</td>\n",
       "      <td>2</td>\n",
       "      <td>7</td>\n",
       "    </tr>\n",
       "    <tr>\n",
       "      <th>2022-02-06</th>\n",
       "      <td>49533</td>\n",
       "      <td>2022</td>\n",
       "      <td>2</td>\n",
       "      <td>6</td>\n",
       "    </tr>\n",
       "    <tr>\n",
       "      <th>2022-02-05</th>\n",
       "      <td>57377</td>\n",
       "      <td>2022</td>\n",
       "      <td>2</td>\n",
       "      <td>5</td>\n",
       "    </tr>\n",
       "  </tbody>\n",
       "</table>\n",
       "</div>"
      ],
      "text/plain": [
       "            newCases  year  month  day\n",
       "date                                  \n",
       "2022-02-09     59193  2022      2    9\n",
       "2022-02-08     58453  2022      2    8\n",
       "2022-02-07     48601  2022      2    7\n",
       "2022-02-06     49533  2022      2    6\n",
       "2022-02-05     57377  2022      2    5"
      ]
     },
     "execution_count": 15,
     "metadata": {},
     "output_type": "execute_result"
    }
   ],
   "source": [
    "#df[['year', 'month', 'day']] = df.index.str.split('-', expand = True)\n",
    "# df['month'] = df.index.str.split('-').map(lambda p: p[1])\n",
    "# df['year'] = df.index.str.split('-').map(lambda p: p[0])\n",
    "# df['day'] = df.index.str.split('-').map(lambda p: p[2])\n",
    "df['year'] = df.index.year\n",
    "df['month'] = df.index.month\n",
    "df['day'] = df.index.day\n",
    "df.head()\n",
    "df.head()"
   ]
  },
  {
   "cell_type": "markdown",
   "id": "a44ff96a",
   "metadata": {},
   "source": [
    "**Monthly New Cases by Year**"
   ]
  },
  {
   "cell_type": "code",
   "execution_count": 16,
   "id": "be1e83e7",
   "metadata": {},
   "outputs": [
    {
     "data": {
      "text/plain": [
       "year  month\n",
       "2020  1            2\n",
       "      2           19\n",
       "      3        20990\n",
       "      4        97335\n",
       "      5        34904\n",
       "Name: newCases, dtype: int64"
      ]
     },
     "execution_count": 16,
     "metadata": {},
     "output_type": "execute_result"
    }
   ],
   "source": [
    "monthly_newCases = df.groupby(['year', 'month'])['newCases'].sum()\n",
    "monthly_newCases.head()"
   ]
  },
  {
   "cell_type": "code",
   "execution_count": 17,
   "id": "4590b072",
   "metadata": {},
   "outputs": [
    {
     "data": {
      "text/html": [
       "<div>\n",
       "<style scoped>\n",
       "    .dataframe tbody tr th:only-of-type {\n",
       "        vertical-align: middle;\n",
       "    }\n",
       "\n",
       "    .dataframe tbody tr th {\n",
       "        vertical-align: top;\n",
       "    }\n",
       "\n",
       "    .dataframe thead th {\n",
       "        text-align: right;\n",
       "    }\n",
       "</style>\n",
       "<table border=\"1\" class=\"dataframe\">\n",
       "  <thead>\n",
       "    <tr style=\"text-align: right;\">\n",
       "      <th></th>\n",
       "      <th></th>\n",
       "      <th>newCases</th>\n",
       "    </tr>\n",
       "    <tr>\n",
       "      <th>year</th>\n",
       "      <th>month</th>\n",
       "      <th></th>\n",
       "    </tr>\n",
       "  </thead>\n",
       "  <tbody>\n",
       "    <tr>\n",
       "      <th rowspan=\"5\" valign=\"top\">2020</th>\n",
       "      <th>1</th>\n",
       "      <td>2</td>\n",
       "    </tr>\n",
       "    <tr>\n",
       "      <th>2</th>\n",
       "      <td>19</td>\n",
       "    </tr>\n",
       "    <tr>\n",
       "      <th>3</th>\n",
       "      <td>20990</td>\n",
       "    </tr>\n",
       "    <tr>\n",
       "      <th>4</th>\n",
       "      <td>97335</td>\n",
       "    </tr>\n",
       "    <tr>\n",
       "      <th>5</th>\n",
       "      <td>34904</td>\n",
       "    </tr>\n",
       "  </tbody>\n",
       "</table>\n",
       "</div>"
      ],
      "text/plain": [
       "            newCases\n",
       "year month          \n",
       "2020 1             2\n",
       "     2            19\n",
       "     3         20990\n",
       "     4         97335\n",
       "     5         34904"
      ]
     },
     "execution_count": 17,
     "metadata": {},
     "output_type": "execute_result"
    }
   ],
   "source": [
    "monthly_newCases_df = pd.DataFrame(monthly_newCases)\n",
    "monthly_newCases_df.head()"
   ]
  },
  {
   "cell_type": "markdown",
   "id": "bc14821a",
   "metadata": {},
   "source": [
    "**Visualize the results**"
   ]
  },
  {
   "cell_type": "code",
   "execution_count": 19,
   "id": "944ea83d",
   "metadata": {},
   "outputs": [
    {
     "data": {
      "text/plain": [
       "Text(0, 0.5, 'Number of New Cases')"
      ]
     },
     "execution_count": 19,
     "metadata": {},
     "output_type": "execute_result"
    },
    {
     "data": {
      "image/png": "[encoded data removed]",
      "text/plain": [
       "<Figure size 864x432 with 1 Axes>"
      ]
     },
     "metadata": {},
     "output_type": "display_data"
    }
   ],
   "source": [
    "monthly_newCases_df.plot(kind = 'bar', figsize = (12, 6))\n",
    "plt.title('Monthly New Cases by Year')\n",
    "plt.ylabel('Number of New Cases')"
   ]
  },
  {
   "cell_type": "markdown",
   "id": "aad5df32",
   "metadata": {},
   "source": [
    "The outbreak of **Omicron** in **December 2021 - January 2022** is clear visible on the chart. The gradual return to normalcy can also be seen from the *drastic decline* in the number of **New Cases in February 2022**!\n",
    "\n",
    "Similar effect during the outbreak of **Delta** in **December 2020 - January 2021** can also be seen on the chart."
   ]
  },
  {
   "cell_type": "code",
   "execution_count": 20,
   "id": "43133f51",
   "metadata": {},
   "outputs": [
    {
     "data": {
      "text/plain": [
       "Text(0.5, 1.0, 'Daily New Cases in England')"
      ]
     },
     "execution_count": 20,
     "metadata": {},
     "output_type": "execute_result"
    },
    {
     "data": {
      "image/png": "[encoded data removed]",
      "text/plain": [
       "<Figure size 1008x432 with 1 Axes>"
      ]
     },
     "metadata": {},
     "output_type": "display_data"
    }
   ],
   "source": [
    "plt.figure(figsize = (14, 6))\n",
    "sns.lineplot(data = df.newCases, label = 'Daily')\n",
    "plt.title('Daily New Cases in England')"
   ]
  },
  {
   "cell_type": "markdown",
   "id": "994a526e",
   "metadata": {},
   "source": [
    "#### Yearly Aggregate"
   ]
  },
  {
   "cell_type": "code",
   "execution_count": 21,
   "id": "b67dbf15",
   "metadata": {},
   "outputs": [],
   "source": [
    "df_by_year = monthly_newCases_df.reset_index()"
   ]
  },
  {
   "cell_type": "code",
   "execution_count": 22,
   "id": "63d524a1",
   "metadata": {},
   "outputs": [
    {
     "data": {
      "text/plain": [
       "Text(0.5, 1.0, 'Yearly Aggregate of New Cases')"
      ]
     },
     "execution_count": 22,
     "metadata": {},
     "output_type": "execute_result"
    },
    {
     "data": {
      "image/png": "[encoded data removed]",
      "text/plain": [
       "<Figure size 720x432 with 1 Axes>"
      ]
     },
     "metadata": {},
     "output_type": "display_data"
    }
   ],
   "source": [
    "plt.figure(figsize = (10, 6))\n",
    "sns.barplot(x = 'year',  y = 'newCases', data = df_by_year)\n",
    "plt.title('Yearly Aggregate of New Cases')"
   ]
  },
  {
   "cell_type": "code",
   "execution_count": null,
   "id": "8567b126",
   "metadata": {},
   "outputs": [],
   "source": []
  }
 ],
 "metadata": {
  "kernelspec": {
   "display_name": "Python 3",
   "language": "python",
   "name": "python3"
  },
  "language_info": {
   "codemirror_mode": {
    "name": "ipython",
    "version": 3
   },
   "file_extension": ".py",
   "mimetype": "text/x-python",
   "name": "python",
   "nbconvert_exporter": "python",
   "pygments_lexer": "ipython3",
   "version": "3.8.8"
  }
 },
 "nbformat": 4,
 "nbformat_minor": 5
}
