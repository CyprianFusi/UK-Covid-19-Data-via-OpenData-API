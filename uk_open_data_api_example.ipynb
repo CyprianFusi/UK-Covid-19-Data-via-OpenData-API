{
 "cells": [
  {
   "cell_type": "markdown",
   "id": "0ac73558",
   "metadata": {},
   "source": [
    "**This notebook is about**:\n",
    "* Requesting data on corona virus from [GOV.UK Coronavirus(COVID-19) Open Data API](https://coronavirus.data.gov.uk/details/developers-guide/main-api)\n",
    "* Doing some pretty quick and dirty data exploration\n",
    "* Getting some simple statistics\n",
    "* Visualising the results"
   ]
  },
  {
   "cell_type": "code",
   "execution_count": 1,
   "id": "1b78312e",
   "metadata": {},
   "outputs": [],
   "source": [
    "from requests import get\n",
    "import json"
   ]
  },
  {
   "cell_type": "markdown",
   "id": "5b0c1b2c",
   "metadata": {},
   "source": [
    "**Helper function to request data over API**"
   ]
  },
  {
   "cell_type": "code",
   "execution_count": 2,
   "id": "e0f1d6ac",
   "metadata": {},
   "outputs": [],
   "source": [
    "def get_data(url):\n",
    "    response = get(url, timeout = 10)\n",
    "    if response.status_code >= 400:\n",
    "        raise RuntimeError(f'Request failed: {response.text}')\n",
    "    return response.json()"
   ]
  },
  {
   "cell_type": "code",
   "execution_count": 3,
   "id": "9d84e277",
   "metadata": {},
   "outputs": [],
   "source": [
    "endpoint = ('https://api.coronavirus.data.gov.uk/v1/data?'\n",
    "            'filters=areaType=nation;areaName=england&'\n",
    "            'structure={\"date\":\"date\",\"newCases\":\"newCasesByPublishDate\"}'\n",
    "           )"
   ]
  },
  {
   "cell_type": "code",
   "execution_count": 4,
   "id": "0cf3e308",
   "metadata": {},
   "outputs": [],
   "source": [
    "data = get_data(endpoint)"
   ]
  },
  {
   "cell_type": "markdown",
   "id": "68361a59",
   "metadata": {},
   "source": [
    "**Import required modules and set Matplotlib defaults**"
   ]
  },
  {
   "cell_type": "code",
   "execution_count": 5,
   "id": "4e02d47f",
   "metadata": {},
   "outputs": [],
   "source": [
    "import matplotlib.pyplot as plt\n",
    "import numpy as np\n",
    "import pandas as pd\n",
    "import seaborn as sns\n",
    "import warnings\n",
    "\n",
    "# Set Matplotlib defaults\n",
    "plt.style.use(\"seaborn-whitegrid\")\n",
    "plt.rc(\"figure\", autolayout=True)\n",
    "plt.rc(\n",
    "    \"axes\",\n",
    "    labelweight=\"bold\",\n",
    "    labelsize=\"large\",\n",
    "    titleweight=\"bold\",\n",
    "    titlesize=14,\n",
    "    titlepad=10,\n",
    ")\n",
    "\n",
    "warnings.filterwarnings('ignore')"
   ]
  },
  {
   "cell_type": "markdown",
   "id": "c308efa5",
   "metadata": {},
   "source": [
    "#### Analyse the dataset"
   ]
  },
  {
   "cell_type": "code",
   "execution_count": 6,
   "id": "c60bfb7d",
   "metadata": {},
   "outputs": [
    {
     "name": "stdout",
     "output_type": "stream",
     "text": [
      "1057\n"
     ]
    }
   ],
   "source": [
    "d = data['data']\n",
    "print(len(d))"
   ]
  },
  {
   "cell_type": "code",
   "execution_count": 7,
   "id": "17f7c3f6",
   "metadata": {},
   "outputs": [
    {
     "name": "stdout",
     "output_type": "stream",
     "text": [
      "{'date': '2022-12-22', 'newCases': 42141}\n"
     ]
    }
   ],
   "source": [
    "print(d[0])                # sample row"
   ]
  },
  {
   "cell_type": "code",
   "execution_count": 8,
   "id": "972e5bbb",
   "metadata": {},
   "outputs": [
    {
     "data": {
      "text/html": [
       "<div>\n",
       "<style scoped>\n",
       "    .dataframe tbody tr th:only-of-type {\n",
       "        vertical-align: middle;\n",
       "    }\n",
       "\n",
       "    .dataframe tbody tr th {\n",
       "        vertical-align: top;\n",
       "    }\n",
       "\n",
       "    .dataframe thead th {\n",
       "        text-align: right;\n",
       "    }\n",
       "</style>\n",
       "<table border=\"1\" class=\"dataframe\">\n",
       "  <thead>\n",
       "    <tr style=\"text-align: right;\">\n",
       "      <th></th>\n",
       "      <th>newCases</th>\n",
       "    </tr>\n",
       "    <tr>\n",
       "      <th>date</th>\n",
       "      <th></th>\n",
       "    </tr>\n",
       "  </thead>\n",
       "  <tbody>\n",
       "    <tr>\n",
       "      <th>2022-12-22</th>\n",
       "      <td>42141</td>\n",
       "    </tr>\n",
       "    <tr>\n",
       "      <th>2022-12-21</th>\n",
       "      <td>0</td>\n",
       "    </tr>\n",
       "    <tr>\n",
       "      <th>2022-12-20</th>\n",
       "      <td>0</td>\n",
       "    </tr>\n",
       "    <tr>\n",
       "      <th>2022-12-19</th>\n",
       "      <td>0</td>\n",
       "    </tr>\n",
       "    <tr>\n",
       "      <th>2022-12-18</th>\n",
       "      <td>0</td>\n",
       "    </tr>\n",
       "    <tr>\n",
       "      <th>2022-12-17</th>\n",
       "      <td>0</td>\n",
       "    </tr>\n",
       "    <tr>\n",
       "      <th>2022-12-16</th>\n",
       "      <td>0</td>\n",
       "    </tr>\n",
       "    <tr>\n",
       "      <th>2022-12-15</th>\n",
       "      <td>32405</td>\n",
       "    </tr>\n",
       "    <tr>\n",
       "      <th>2022-12-14</th>\n",
       "      <td>0</td>\n",
       "    </tr>\n",
       "    <tr>\n",
       "      <th>2022-12-13</th>\n",
       "      <td>0</td>\n",
       "    </tr>\n",
       "  </tbody>\n",
       "</table>\n",
       "</div>"
      ],
      "text/plain": [
       "            newCases\n",
       "date                \n",
       "2022-12-22     42141\n",
       "2022-12-21         0\n",
       "2022-12-20         0\n",
       "2022-12-19         0\n",
       "2022-12-18         0\n",
       "2022-12-17         0\n",
       "2022-12-16         0\n",
       "2022-12-15     32405\n",
       "2022-12-14         0\n",
       "2022-12-13         0"
      ]
     },
     "execution_count": 8,
     "metadata": {},
     "output_type": "execute_result"
    }
   ],
   "source": [
    "df = pd.DataFrame(d).set_index('date')\n",
    "df.head(10)"
   ]
  },
  {
   "cell_type": "code",
   "execution_count": 9,
   "id": "3ea22d82",
   "metadata": {},
   "outputs": [
    {
     "name": "stdout",
     "output_type": "stream",
     "text": [
      "(1057, 1)\n",
      "<class 'pandas.core.indexes.base.Index'>\n"
     ]
    }
   ],
   "source": [
    "print(df.shape)\n",
    "print(type(df.index))"
   ]
  },
  {
   "cell_type": "markdown",
   "id": "c5863898",
   "metadata": {},
   "source": [
    "**Convert the index to datetime object for easy plottting**"
   ]
  },
  {
   "cell_type": "code",
   "execution_count": 10,
   "id": "41dea056",
   "metadata": {},
   "outputs": [
    {
     "data": {
      "text/html": [
       "<div>\n",
       "<style scoped>\n",
       "    .dataframe tbody tr th:only-of-type {\n",
       "        vertical-align: middle;\n",
       "    }\n",
       "\n",
       "    .dataframe tbody tr th {\n",
       "        vertical-align: top;\n",
       "    }\n",
       "\n",
       "    .dataframe thead th {\n",
       "        text-align: right;\n",
       "    }\n",
       "</style>\n",
       "<table border=\"1\" class=\"dataframe\">\n",
       "  <thead>\n",
       "    <tr style=\"text-align: right;\">\n",
       "      <th></th>\n",
       "      <th>newCases</th>\n",
       "    </tr>\n",
       "    <tr>\n",
       "      <th>date</th>\n",
       "      <th></th>\n",
       "    </tr>\n",
       "  </thead>\n",
       "  <tbody>\n",
       "    <tr>\n",
       "      <th>2022-12-22</th>\n",
       "      <td>42141</td>\n",
       "    </tr>\n",
       "    <tr>\n",
       "      <th>2022-12-21</th>\n",
       "      <td>0</td>\n",
       "    </tr>\n",
       "    <tr>\n",
       "      <th>2022-12-20</th>\n",
       "      <td>0</td>\n",
       "    </tr>\n",
       "    <tr>\n",
       "      <th>2022-12-19</th>\n",
       "      <td>0</td>\n",
       "    </tr>\n",
       "    <tr>\n",
       "      <th>2022-12-18</th>\n",
       "      <td>0</td>\n",
       "    </tr>\n",
       "    <tr>\n",
       "      <th>2022-12-17</th>\n",
       "      <td>0</td>\n",
       "    </tr>\n",
       "    <tr>\n",
       "      <th>2022-12-16</th>\n",
       "      <td>0</td>\n",
       "    </tr>\n",
       "    <tr>\n",
       "      <th>2022-12-15</th>\n",
       "      <td>32405</td>\n",
       "    </tr>\n",
       "    <tr>\n",
       "      <th>2022-12-14</th>\n",
       "      <td>0</td>\n",
       "    </tr>\n",
       "    <tr>\n",
       "      <th>2022-12-13</th>\n",
       "      <td>0</td>\n",
       "    </tr>\n",
       "  </tbody>\n",
       "</table>\n",
       "</div>"
      ],
      "text/plain": [
       "            newCases\n",
       "date                \n",
       "2022-12-22     42141\n",
       "2022-12-21         0\n",
       "2022-12-20         0\n",
       "2022-12-19         0\n",
       "2022-12-18         0\n",
       "2022-12-17         0\n",
       "2022-12-16         0\n",
       "2022-12-15     32405\n",
       "2022-12-14         0\n",
       "2022-12-13         0"
      ]
     },
     "execution_count": 10,
     "metadata": {},
     "output_type": "execute_result"
    }
   ],
   "source": [
    "df.index = df.index.map(lambda p: pd.to_datetime(p, format = '%Y-%m-%d', errors = 'ignore'))\n",
    "df.head(10)"
   ]
  },
  {
   "cell_type": "code",
   "execution_count": 11,
   "id": "dcc132ea",
   "metadata": {},
   "outputs": [
    {
     "name": "stdout",
     "output_type": "stream",
     "text": [
      "<class 'pandas.core.indexes.datetimes.DatetimeIndex'>\n"
     ]
    }
   ],
   "source": [
    "print(type(df.index))"
   ]
  },
  {
   "cell_type": "markdown",
   "id": "d85bf9cf",
   "metadata": {},
   "source": [
    "#### Number of New Cases by month and year"
   ]
  },
  {
   "cell_type": "code",
   "execution_count": 12,
   "id": "60e6dcb9",
   "metadata": {},
   "outputs": [
    {
     "data": {
      "text/html": [
       "<div>\n",
       "<style scoped>\n",
       "    .dataframe tbody tr th:only-of-type {\n",
       "        vertical-align: middle;\n",
       "    }\n",
       "\n",
       "    .dataframe tbody tr th {\n",
       "        vertical-align: top;\n",
       "    }\n",
       "\n",
       "    .dataframe thead th {\n",
       "        text-align: right;\n",
       "    }\n",
       "</style>\n",
       "<table border=\"1\" class=\"dataframe\">\n",
       "  <thead>\n",
       "    <tr style=\"text-align: right;\">\n",
       "      <th></th>\n",
       "      <th>newCases</th>\n",
       "      <th>year</th>\n",
       "      <th>month</th>\n",
       "      <th>day</th>\n",
       "    </tr>\n",
       "    <tr>\n",
       "      <th>date</th>\n",
       "      <th></th>\n",
       "      <th></th>\n",
       "      <th></th>\n",
       "      <th></th>\n",
       "    </tr>\n",
       "  </thead>\n",
       "  <tbody>\n",
       "    <tr>\n",
       "      <th>2022-12-22</th>\n",
       "      <td>42141</td>\n",
       "      <td>2022</td>\n",
       "      <td>12</td>\n",
       "      <td>22</td>\n",
       "    </tr>\n",
       "    <tr>\n",
       "      <th>2022-12-21</th>\n",
       "      <td>0</td>\n",
       "      <td>2022</td>\n",
       "      <td>12</td>\n",
       "      <td>21</td>\n",
       "    </tr>\n",
       "    <tr>\n",
       "      <th>2022-12-20</th>\n",
       "      <td>0</td>\n",
       "      <td>2022</td>\n",
       "      <td>12</td>\n",
       "      <td>20</td>\n",
       "    </tr>\n",
       "    <tr>\n",
       "      <th>2022-12-19</th>\n",
       "      <td>0</td>\n",
       "      <td>2022</td>\n",
       "      <td>12</td>\n",
       "      <td>19</td>\n",
       "    </tr>\n",
       "    <tr>\n",
       "      <th>2022-12-18</th>\n",
       "      <td>0</td>\n",
       "      <td>2022</td>\n",
       "      <td>12</td>\n",
       "      <td>18</td>\n",
       "    </tr>\n",
       "  </tbody>\n",
       "</table>\n",
       "</div>"
      ],
      "text/plain": [
       "            newCases  year  month  day\n",
       "date                                  \n",
       "2022-12-22     42141  2022     12   22\n",
       "2022-12-21         0  2022     12   21\n",
       "2022-12-20         0  2022     12   20\n",
       "2022-12-19         0  2022     12   19\n",
       "2022-12-18         0  2022     12   18"
      ]
     },
     "execution_count": 12,
     "metadata": {},
     "output_type": "execute_result"
    }
   ],
   "source": [
    "df['year'] = df.index.year\n",
    "df['month'] = df.index.month\n",
    "df['day'] = df.index.day\n",
    "df.head()\n",
    "df.head()"
   ]
  },
  {
   "cell_type": "markdown",
   "id": "a44ff96a",
   "metadata": {},
   "source": [
    "**Monthly New Cases by Year**"
   ]
  },
  {
   "cell_type": "code",
   "execution_count": 13,
   "id": "be1e83e7",
   "metadata": {},
   "outputs": [
    {
     "data": {
      "text/html": [
       "<div>\n",
       "<style scoped>\n",
       "    .dataframe tbody tr th:only-of-type {\n",
       "        vertical-align: middle;\n",
       "    }\n",
       "\n",
       "    .dataframe tbody tr th {\n",
       "        vertical-align: top;\n",
       "    }\n",
       "\n",
       "    .dataframe thead th {\n",
       "        text-align: right;\n",
       "    }\n",
       "</style>\n",
       "<table border=\"1\" class=\"dataframe\">\n",
       "  <thead>\n",
       "    <tr style=\"text-align: right;\">\n",
       "      <th></th>\n",
       "      <th>Jan</th>\n",
       "      <th>Feb</th>\n",
       "      <th>Mar</th>\n",
       "      <th>Apr</th>\n",
       "      <th>May</th>\n",
       "      <th>Jun</th>\n",
       "      <th>Jul</th>\n",
       "      <th>Aug</th>\n",
       "      <th>Sep</th>\n",
       "      <th>Oct</th>\n",
       "      <th>Nov</th>\n",
       "      <th>Dec</th>\n",
       "    </tr>\n",
       "    <tr>\n",
       "      <th>year</th>\n",
       "      <th></th>\n",
       "      <th></th>\n",
       "      <th></th>\n",
       "      <th></th>\n",
       "      <th></th>\n",
       "      <th></th>\n",
       "      <th></th>\n",
       "      <th></th>\n",
       "      <th></th>\n",
       "      <th></th>\n",
       "      <th></th>\n",
       "      <th></th>\n",
       "    </tr>\n",
       "  </thead>\n",
       "  <tbody>\n",
       "    <tr>\n",
       "      <th>2020</th>\n",
       "      <td>2</td>\n",
       "      <td>19</td>\n",
       "      <td>20990</td>\n",
       "      <td>97335</td>\n",
       "      <td>34904</td>\n",
       "      <td>8324</td>\n",
       "      <td>18138</td>\n",
       "      <td>28790</td>\n",
       "      <td>98204</td>\n",
       "      <td>470102</td>\n",
       "      <td>544631</td>\n",
       "      <td>738164</td>\n",
       "    </tr>\n",
       "    <tr>\n",
       "      <th>2021</th>\n",
       "      <td>1201293</td>\n",
       "      <td>317103</td>\n",
       "      <td>143220</td>\n",
       "      <td>66170</td>\n",
       "      <td>64180</td>\n",
       "      <td>263853</td>\n",
       "      <td>955133</td>\n",
       "      <td>775311</td>\n",
       "      <td>784544</td>\n",
       "      <td>1075411</td>\n",
       "      <td>987257</td>\n",
       "      <td>2339626</td>\n",
       "    </tr>\n",
       "    <tr>\n",
       "      <th>2022</th>\n",
       "      <td>3145803</td>\n",
       "      <td>1225523</td>\n",
       "      <td>1750471</td>\n",
       "      <td>733033</td>\n",
       "      <td>221425</td>\n",
       "      <td>366753</td>\n",
       "      <td>518297</td>\n",
       "      <td>191369</td>\n",
       "      <td>135663</td>\n",
       "      <td>209783</td>\n",
       "      <td>90727</td>\n",
       "      <td>123331</td>\n",
       "    </tr>\n",
       "  </tbody>\n",
       "</table>\n",
       "</div>"
      ],
      "text/plain": [
       "          Jan      Feb      Mar     Apr     May     Jun     Jul     Aug  \\\n",
       "year                                                                      \n",
       "2020        2       19    20990   97335   34904    8324   18138   28790   \n",
       "2021  1201293   317103   143220   66170   64180  263853  955133  775311   \n",
       "2022  3145803  1225523  1750471  733033  221425  366753  518297  191369   \n",
       "\n",
       "         Sep      Oct     Nov      Dec  \n",
       "year                                    \n",
       "2020   98204   470102  544631   738164  \n",
       "2021  784544  1075411  987257  2339626  \n",
       "2022  135663   209783   90727   123331  "
      ]
     },
     "execution_count": 13,
     "metadata": {},
     "output_type": "execute_result"
    }
   ],
   "source": [
    "monthly_newCases = df.groupby(['year', 'month'])['newCases'].sum().unstack()\n",
    "monthly_newCases.columns = ['Jan', 'Feb', 'Mar', 'Apr', 'May', 'Jun', 'Jul', 'Aug', 'Sep', 'Oct', 'Nov', 'Dec']\n",
    "monthly_newCases.head()"
   ]
  },
  {
   "cell_type": "code",
   "execution_count": 14,
   "id": "bc65356a",
   "metadata": {},
   "outputs": [
    {
     "data": {
      "image/png": "[encoded data removed]",
      "text/plain": [
       "<Figure size 864x432 with 1 Axes>"
      ]
     },
     "metadata": {},
     "output_type": "display_data"
    }
   ],
   "source": [
    "monthly_newCases.plot(kind = 'bar', figsize = (12, 6))\n",
    "plt.title('Monthly New Cases by Year')\n",
    "plt.ylabel('Number of New Cases')\n",
    "plt.show()"
   ]
  },
  {
   "cell_type": "markdown",
   "id": "aad5df32",
   "metadata": {},
   "source": [
    "The outbreak of **Omicron** in **December 2021 - January 2022** is clear visible on the chart. The gradual return to normalcy can also be seen from the *drastic decline* in the number of **New Cases as of `August 31, 2022`**!\n",
    "\n",
    "Similar effect during the outbreak of **Delta** in **December 2020 - January 2021** can also be seen on the chart."
   ]
  },
  {
   "cell_type": "code",
   "execution_count": 15,
   "id": "43133f51",
   "metadata": {},
   "outputs": [
    {
     "data": {
      "image/png": "[encoded data removed]",
      "text/plain": [
       "<Figure size 1008x432 with 1 Axes>"
      ]
     },
     "metadata": {},
     "output_type": "display_data"
    }
   ],
   "source": [
    "plt.figure(figsize = (14, 6))\n",
    "sns.lineplot(data = df.newCases.sample(1000), label = 'Daily')\n",
    "plt.title('Daily New Cases in England')\n",
    "plt.show()"
   ]
  },
  {
   "cell_type": "markdown",
   "id": "994a526e",
   "metadata": {},
   "source": [
    "#### Yearly Aggregate"
   ]
  },
  {
   "cell_type": "code",
   "execution_count": 16,
   "id": "b67dbf15",
   "metadata": {},
   "outputs": [
    {
     "data": {
      "image/png": "[encoded data removed]",
      "text/plain": [
       "<Figure size 720x432 with 1 Axes>"
      ]
     },
     "metadata": {},
     "output_type": "display_data"
    }
   ],
   "source": [
    "df.groupby(['year'])['newCases'].sum().plot(kind = 'bar', figsize = (10, 6))\n",
    "plt.title('Yearly Aggregate')\n",
    "plt.ylabel('Number of Cases x $10^6$')\n",
    "plt.show()"
   ]
  },
  {
   "cell_type": "code",
   "execution_count": null,
   "id": "8567b126",
   "metadata": {},
   "outputs": [],
   "source": []
  }
 ],
 "metadata": {
  "kernelspec": {
   "display_name": "Python 3 (ipykernel)",
   "language": "python",
   "name": "python3"
  },
  "language_info": {
   "codemirror_mode": {
    "name": "ipython",
    "version": 3
   },
   "file_extension": ".py",
   "mimetype": "text/x-python",
   "name": "python",
   "nbconvert_exporter": "python",
   "pygments_lexer": "ipython3",
   "version": "3.9.12"
  }
 },
 "nbformat": 4,
 "nbformat_minor": 5
}
