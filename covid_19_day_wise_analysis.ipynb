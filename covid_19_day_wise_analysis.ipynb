{
 "cells": [
  {
   "cell_type": "markdown",
   "id": "9490897b",
   "metadata": {},
   "source": [
    "## Global COVID-19 Data Analysis II\n",
    "The dataset is sourced from this [upstream repository](https://github.com/CSSEGISandData/COVID-19) maintained by the amazing team at [Johns Hopkins University Center for Systems Science and Engineering](https://systems.jhu.edu/) (CSSE). \n",
    "The sample dataset used in this notebook is maintained and updated by [laxmimerit](https://github.com/laxmimerit/Covid-19-Preprocessed-Dataset.git).\n",
    "\n",
    "**With interactive Visualisations**"
   ]
  },
  {
   "cell_type": "code",
   "execution_count": 1,
   "id": "12dbf833",
   "metadata": {},
   "outputs": [],
   "source": [
    "import matplotlib.pyplot as plt\n",
    "import numpy as np\n",
    "import pandas as pd\n",
    "import seaborn as sns\n",
    "import warnings\n",
    "\n",
    "warnings.filterwarnings('ignore')"
   ]
  },
  {
   "cell_type": "code",
   "execution_count": 2,
   "id": "335cbd28",
   "metadata": {},
   "outputs": [
    {
     "data": {
      "text/html": [
       "        <script type=\"text/javascript\">\n",
       "        window.PlotlyConfig = {MathJaxConfig: 'local'};\n",
       "        if (window.MathJax) {MathJax.Hub.Config({SVG: {font: \"STIX-Web\"}});}\n",
       "        if (typeof require !== 'undefined') {\n",
       "        require.undef(\"plotly\");\n",
       "        requirejs.config({\n",
       "            paths: {\n",
       "                'plotly': ['https://cdn.plot.ly/plotly-2.4.2.min']\n",
       "            }\n",
       "        });\n",
       "        require(['plotly'], function(Plotly) {\n",
       "            window._Plotly = Plotly;\n",
       "        });\n",
       "        }\n",
       "        </script>\n",
       "        "
      ]
     },
     "metadata": {},
     "output_type": "display_data"
    }
   ],
   "source": [
    "import plotly as py\n",
    "import plotly.express as px\n",
    "import plotly.graph_objects as go\n",
    "import plotly.figure_factory as ff\n",
    "from plotly.subplots import make_subplots\n",
    "import folium\n",
    "%matplotlib inline\n",
    "\n",
    "import os\n",
    "import math\n",
    "import random\n",
    "from datetime import datetime\n",
    "\n",
    "#color palette (cnf = Confirmed, dth = Deaths, rec = Recovered, act = Active)\n",
    "#Use color picker to select any color of your choice\n",
    "\n",
    "cnf = '#393e46'\n",
    "dth = '#ff2e63'\n",
    "rec = '#21bf73'\n",
    "act = '#fe9801'\n",
    "\n",
    "py.offline.init_notebook_mode(connected = True)"
   ]
  },
  {
   "cell_type": "code",
   "execution_count": 3,
   "id": "95cb7f5c",
   "metadata": {},
   "outputs": [],
   "source": [
    "file_path = './Covid-19-Preprocessed-Dataset/preprocessed/country_daywise.csv'"
   ]
  },
  {
   "cell_type": "code",
   "execution_count": 4,
   "id": "e46cb3d5",
   "metadata": {},
   "outputs": [
    {
     "name": "stdout",
     "output_type": "stream",
     "text": [
      "Size: (148302, 9)\n"
     ]
    },
    {
     "data": {
      "text/html": [
       "<div>\n",
       "<style scoped>\n",
       "    .dataframe tbody tr th:only-of-type {\n",
       "        vertical-align: middle;\n",
       "    }\n",
       "\n",
       "    .dataframe tbody tr th {\n",
       "        vertical-align: top;\n",
       "    }\n",
       "\n",
       "    .dataframe thead th {\n",
       "        text-align: right;\n",
       "    }\n",
       "</style>\n",
       "<table border=\"1\" class=\"dataframe\">\n",
       "  <thead>\n",
       "    <tr style=\"text-align: right;\">\n",
       "      <th></th>\n",
       "      <th>Date</th>\n",
       "      <th>Country</th>\n",
       "      <th>Confirmed</th>\n",
       "      <th>Deaths</th>\n",
       "      <th>Recovered</th>\n",
       "      <th>Active</th>\n",
       "      <th>New Cases</th>\n",
       "      <th>New Recovered</th>\n",
       "      <th>New Deaths</th>\n",
       "    </tr>\n",
       "  </thead>\n",
       "  <tbody>\n",
       "    <tr>\n",
       "      <th>90430</th>\n",
       "      <td>2021-07-26</td>\n",
       "      <td>Mongolia</td>\n",
       "      <td>157974</td>\n",
       "      <td>782</td>\n",
       "      <td>154172</td>\n",
       "      <td>3020</td>\n",
       "      <td>1249</td>\n",
       "      <td>0</td>\n",
       "      <td>0</td>\n",
       "    </tr>\n",
       "    <tr>\n",
       "      <th>92346</th>\n",
       "      <td>2020-08-29</td>\n",
       "      <td>Mozambique</td>\n",
       "      <td>3760</td>\n",
       "      <td>22</td>\n",
       "      <td>2078</td>\n",
       "      <td>1660</td>\n",
       "      <td>63</td>\n",
       "      <td>23</td>\n",
       "      <td>1</td>\n",
       "    </tr>\n",
       "    <tr>\n",
       "      <th>132651</th>\n",
       "      <td>2020-04-10</td>\n",
       "      <td>Timor-Leste</td>\n",
       "      <td>2</td>\n",
       "      <td>0</td>\n",
       "      <td>1</td>\n",
       "      <td>1</td>\n",
       "      <td>1</td>\n",
       "      <td>1</td>\n",
       "      <td>0</td>\n",
       "    </tr>\n",
       "    <tr>\n",
       "      <th>128129</th>\n",
       "      <td>2020-03-13</td>\n",
       "      <td>Switzerland</td>\n",
       "      <td>1139</td>\n",
       "      <td>11</td>\n",
       "      <td>4</td>\n",
       "      <td>1124</td>\n",
       "      <td>487</td>\n",
       "      <td>0</td>\n",
       "      <td>1</td>\n",
       "    </tr>\n",
       "    <tr>\n",
       "      <th>113104</th>\n",
       "      <td>2020-01-28</td>\n",
       "      <td>San Marino</td>\n",
       "      <td>0</td>\n",
       "      <td>0</td>\n",
       "      <td>0</td>\n",
       "      <td>0</td>\n",
       "      <td>0</td>\n",
       "      <td>0</td>\n",
       "      <td>0</td>\n",
       "    </tr>\n",
       "  </tbody>\n",
       "</table>\n",
       "</div>"
      ],
      "text/plain": [
       "              Date      Country  Confirmed  Deaths  Recovered  Active  \\\n",
       "90430   2021-07-26     Mongolia     157974     782     154172    3020   \n",
       "92346   2020-08-29   Mozambique       3760      22       2078    1660   \n",
       "132651  2020-04-10  Timor-Leste          2       0          1       1   \n",
       "128129  2020-03-13  Switzerland       1139      11          4    1124   \n",
       "113104  2020-01-28   San Marino          0       0          0       0   \n",
       "\n",
       "        New Cases  New Recovered  New Deaths  \n",
       "90430        1249              0           0  \n",
       "92346          63             23           1  \n",
       "132651          1              1           0  \n",
       "128129        487              0           1  \n",
       "113104          0              0           0  "
      ]
     },
     "execution_count": 4,
     "metadata": {},
     "output_type": "execute_result"
    }
   ],
   "source": [
    "country_daywise = pd.read_csv(file_path)\n",
    "print(f'Size: {country_daywise.shape}')\n",
    "country_daywise.sample(5)"
   ]
  },
  {
   "cell_type": "code",
   "execution_count": 5,
   "id": "ab99b785",
   "metadata": {},
   "outputs": [
    {
     "name": "stdout",
     "output_type": "stream",
     "text": [
      "<class 'str'>\n"
     ]
    }
   ],
   "source": [
    "print(type(country_daywise.Date[0]))"
   ]
  },
  {
   "cell_type": "code",
   "execution_count": 6,
   "id": "32e6577d",
   "metadata": {},
   "outputs": [],
   "source": [
    "country_daywise.Date = country_daywise.Date.map(lambda d: pd.to_datetime(d.split()[0], format = '%Y-%m-%d').date())"
   ]
  },
  {
   "cell_type": "code",
   "execution_count": 7,
   "id": "77a46b2e",
   "metadata": {},
   "outputs": [
    {
     "name": "stdout",
     "output_type": "stream",
     "text": [
      "<class 'datetime.date'>\n",
      "2020-01-23\n"
     ]
    }
   ],
   "source": [
    "print(type(country_daywise.Date[0]))\n",
    "print(country_daywise.Date[0])"
   ]
  },
  {
   "cell_type": "markdown",
   "id": "5d056176",
   "metadata": {},
   "source": [
    "#### Confirmed Cases with Choropleth Map"
   ]
  },
  {
   "cell_type": "code",
   "execution_count": 23,
   "id": "38e83b9c",
   "metadata": {},
   "outputs": [],
   "source": [
    "# fig = px.choropleth(country_daywise, locations = 'Country', locationmode = 'country names', \n",
    "#                     color = np.log(country_daywise.Confirmed), hover_name = 'Country', \n",
    "#                     hover_data = ['Confirmed'],\n",
    "#                     animation_frame = country_daywise.Date.astype(str),\n",
    "#                     title = 'Cases over time', color_continuous_scale = px.colors.sequential.Inferno)\n",
    "# fig.update(layout_coloraxis_showscale = True)\n",
    "# fig.show()"
   ]
  },
  {
   "cell_type": "markdown",
   "id": "0faa49d7",
   "metadata": {},
   "source": [
    "You can slide the annimation to any particular date to see the **color code** indicating the **number of confirmed cases** for that day. Light colors indicate high confirmed cases while darker colors indicate fewer confirmed cases. **US, UK, India, Brazil** and **Russia** stand out as countries with high number of confirmed cases.\n",
    "#### Confirmed and Death Cases with Static colormap"
   ]
  },
  {
   "cell_type": "code",
   "execution_count": null,
   "id": "c879c813",
   "metadata": {},
   "outputs": [],
   "source": [
    "# fig_c = px.choropleth(country_daywise, locations = 'Country', locationmode = 'country names',\n",
    "#                      color = np.log(country_daywise.Confirmed), hover_name = 'Country', hover_data = ['Confirmed'])\n",
    "\n",
    "# temp = country_daywise[country_daywise.Deaths > 0]\n",
    "# fig_d = px.choropleth(temp, locations = 'Country', locationmode = 'country names',\n",
    "#                      color = np.log(temp['Deaths']), hover_name = 'Country', hover_data = ['Deaths'])\n",
    "\n",
    "# fig = make_subplots(rows = 1, cols = 2, subplot_titles = ['Confirmed', 'Deaths'], \n",
    "#                     specs = [[{'type': 'choropleth'}, {'type': 'choropleth'}]])\n",
    "\n",
    "# fig.add_trace(fig_c['data'][0], row = 1, col = 1)\n",
    "# fig.add_trace(fig_d['data'][0], row = 1, col = 2)\n",
    "# fig.update(layout_coloraxis_showscale = False)   # remove color bar\n",
    "# fig.show()"
   ]
  },
  {
   "cell_type": "markdown",
   "id": "e02e029f",
   "metadata": {},
   "source": [
    "### Deaths and Recoveries per 100 Cases"
   ]
  },
  {
   "cell_type": "code",
   "execution_count": 15,
   "id": "83ff50c8",
   "metadata": {},
   "outputs": [
    {
     "name": "stdout",
     "output_type": "stream",
     "text": [
      "Size: (749, 10)\n"
     ]
    },
    {
     "data": {
      "text/html": [
       "<div>\n",
       "<style scoped>\n",
       "    .dataframe tbody tr th:only-of-type {\n",
       "        vertical-align: middle;\n",
       "    }\n",
       "\n",
       "    .dataframe tbody tr th {\n",
       "        vertical-align: top;\n",
       "    }\n",
       "\n",
       "    .dataframe thead th {\n",
       "        text-align: right;\n",
       "    }\n",
       "</style>\n",
       "<table border=\"1\" class=\"dataframe\">\n",
       "  <thead>\n",
       "    <tr style=\"text-align: right;\">\n",
       "      <th></th>\n",
       "      <th>Date</th>\n",
       "      <th>Confirmed</th>\n",
       "      <th>Deaths</th>\n",
       "      <th>Recovered</th>\n",
       "      <th>Active</th>\n",
       "      <th>New Cases</th>\n",
       "      <th>Deaths / 100 Cases</th>\n",
       "      <th>Recovered / 100 Cases</th>\n",
       "      <th>Deaths / 100 Recovered</th>\n",
       "      <th>No. of Countries</th>\n",
       "    </tr>\n",
       "  </thead>\n",
       "  <tbody>\n",
       "    <tr>\n",
       "      <th>340</th>\n",
       "      <td>2020-12-28</td>\n",
       "      <td>81523538</td>\n",
       "      <td>1836853</td>\n",
       "      <td>46016135</td>\n",
       "      <td>33670550</td>\n",
       "      <td>500751</td>\n",
       "      <td>2.25</td>\n",
       "      <td>56.45</td>\n",
       "      <td>3.99</td>\n",
       "      <td>191</td>\n",
       "    </tr>\n",
       "    <tr>\n",
       "      <th>497</th>\n",
       "      <td>2021-06-03</td>\n",
       "      <td>172660276</td>\n",
       "      <td>3705153</td>\n",
       "      <td>109701213</td>\n",
       "      <td>59253910</td>\n",
       "      <td>480163</td>\n",
       "      <td>2.15</td>\n",
       "      <td>63.54</td>\n",
       "      <td>3.38</td>\n",
       "      <td>193</td>\n",
       "    </tr>\n",
       "    <tr>\n",
       "      <th>404</th>\n",
       "      <td>2021-03-02</td>\n",
       "      <td>115188451</td>\n",
       "      <td>2627557</td>\n",
       "      <td>64903491</td>\n",
       "      <td>47657403</td>\n",
       "      <td>388379</td>\n",
       "      <td>2.28</td>\n",
       "      <td>56.35</td>\n",
       "      <td>4.05</td>\n",
       "      <td>192</td>\n",
       "    </tr>\n",
       "    <tr>\n",
       "      <th>409</th>\n",
       "      <td>2021-03-07</td>\n",
       "      <td>117326721</td>\n",
       "      <td>2674252</td>\n",
       "      <td>66084362</td>\n",
       "      <td>48568107</td>\n",
       "      <td>373549</td>\n",
       "      <td>2.28</td>\n",
       "      <td>56.33</td>\n",
       "      <td>4.05</td>\n",
       "      <td>192</td>\n",
       "    </tr>\n",
       "    <tr>\n",
       "      <th>206</th>\n",
       "      <td>2020-08-16</td>\n",
       "      <td>21710625</td>\n",
       "      <td>810061</td>\n",
       "      <td>13678579</td>\n",
       "      <td>7221985</td>\n",
       "      <td>210566</td>\n",
       "      <td>3.73</td>\n",
       "      <td>63.00</td>\n",
       "      <td>5.92</td>\n",
       "      <td>187</td>\n",
       "    </tr>\n",
       "  </tbody>\n",
       "</table>\n",
       "</div>"
      ],
      "text/plain": [
       "           Date  Confirmed   Deaths  Recovered    Active  New Cases  \\\n",
       "340  2020-12-28   81523538  1836853   46016135  33670550     500751   \n",
       "497  2021-06-03  172660276  3705153  109701213  59253910     480163   \n",
       "404  2021-03-02  115188451  2627557   64903491  47657403     388379   \n",
       "409  2021-03-07  117326721  2674252   66084362  48568107     373549   \n",
       "206  2020-08-16   21710625   810061   13678579   7221985     210566   \n",
       "\n",
       "     Deaths / 100 Cases  Recovered / 100 Cases  Deaths / 100 Recovered  \\\n",
       "340                2.25                  56.45                    3.99   \n",
       "497                2.15                  63.54                    3.38   \n",
       "404                2.28                  56.35                    4.05   \n",
       "409                2.28                  56.33                    4.05   \n",
       "206                3.73                  63.00                    5.92   \n",
       "\n",
       "     No. of Countries  \n",
       "340               191  \n",
       "497               193  \n",
       "404               192  \n",
       "409               192  \n",
       "206               187  "
      ]
     },
     "execution_count": 15,
     "metadata": {},
     "output_type": "execute_result"
    }
   ],
   "source": [
    "file_path = './Covid-19-Preprocessed-Dataset/preprocessed/daywise.csv'\n",
    "daywise = pd.read_csv(file_path)\n",
    "print(f'Size: {daywise.shape}')\n",
    "daywise.sample(5)"
   ]
  },
  {
   "cell_type": "code",
   "execution_count": 30,
   "id": "0862efca",
   "metadata": {},
   "outputs": [],
   "source": [
    "# fig_c = px.bar(daywise, x = 'Date', y = 'Confirmed', color_discrete_sequence = [act])\n",
    "# fig_d = px.bar(daywise, x = 'Date', y = 'Deaths', color_discrete_sequence = [dth])\n",
    "\n",
    "# fig = make_subplots(rows = 1, cols = 2, shared_xaxes = False, horizontal_spacing = 0.1, \n",
    "#                     subplot_titles = ('Confirmed Cases', 'Deaths Cases'))\n",
    "# fig.add_trace(fig_c['data'][0], row = 1, col = 1)\n",
    "# fig.add_trace(fig_d['data'][0], row = 1, col = 2)\n",
    "# fig.update_layout(height = 400)\n",
    "# fig.show()"
   ]
  },
  {
   "cell_type": "markdown",
   "id": "e211baa7",
   "metadata": {},
   "source": [
    "As can be seen from the plots the **confirmed cases** seem to be on a steady rise. This indicates that the virus might still be around for sometime. And people are still dieing from the virus at still very high rate!\n",
    "#### Variation in Confirmed and Death per 100 Cases"
   ]
  },
  {
   "cell_type": "code",
   "execution_count": 31,
   "id": "fba8853e",
   "metadata": {},
   "outputs": [],
   "source": [
    "# fig1 = px.line(daywise, x = 'Date', y = 'Deaths / 100 Cases', color_discrete_sequence = [dth])\n",
    "# fig2 = px.line(daywise, x = 'Date', y = 'Recovered / 100 Cases', color_discrete_sequence = [rec])\n",
    "# fig3 = px.line(daywise, x = 'Date', y = 'Deaths / 100 Recovered', color_discrete_sequence = [act])\n",
    "\n",
    "# fig = make_subplots(rows = 1, cols = 3, shared_xaxes = False, \n",
    "#                     subplot_titles = ('Deaths / 100 Cases', 'Recovered / 100 Cases', 'Death / 100 Recovered'))\n",
    "\n",
    "# fig.add_trace(fig1['data'][0], row = 1, col = 1)\n",
    "# fig.add_trace(fig2['data'][0], row = 1, col = 2)\n",
    "# fig.add_trace(fig3['data'][0], row = 1, col = 3)\n",
    "\n",
    "# fig.update_layout(height = 400)\n",
    "\n",
    "# fig.show()"
   ]
  },
  {
   "cell_type": "markdown",
   "id": "1c610545",
   "metadata": {},
   "source": [
    "#### New Cases per Day and No. of Countries"
   ]
  },
  {
   "cell_type": "code",
   "execution_count": 32,
   "id": "83caa22b",
   "metadata": {},
   "outputs": [],
   "source": [
    "# fig_c = px.bar(daywise, x = 'Date', y = 'Confirmed', color_discrete_sequence = [act])\n",
    "# fig_d = px.bar(daywise, x = 'Date', y = 'No. of Countries', color_discrete_sequence = [dth])\n",
    "\n",
    "# fig = make_subplots(rows = 1, cols = 2, shared_xaxes = False, subplot_titles = ('No. New Cases per Day', 'No. of Countries'), \n",
    "#                    horizontal_spacing = 0.1)\n",
    "\n",
    "# fig.add_trace(fig_c['data'][0], row = 1, col = 1)\n",
    "# fig.add_trace(fig_d['data'][0], row = 1, col = 2)\n",
    "# fig.show()"
   ]
  },
  {
   "cell_type": "markdown",
   "id": "99420f85",
   "metadata": {},
   "source": [
    "#### Top 15 Countries Case Analysis"
   ]
  },
  {
   "cell_type": "code",
   "execution_count": 35,
   "id": "3a8bcb1d",
   "metadata": {},
   "outputs": [
    {
     "name": "stdout",
     "output_type": "stream",
     "text": [
      "Size: (198, 14)\n"
     ]
    },
    {
     "data": {
      "text/html": [
       "<div>\n",
       "<style scoped>\n",
       "    .dataframe tbody tr th:only-of-type {\n",
       "        vertical-align: middle;\n",
       "    }\n",
       "\n",
       "    .dataframe tbody tr th {\n",
       "        vertical-align: top;\n",
       "    }\n",
       "\n",
       "    .dataframe thead th {\n",
       "        text-align: right;\n",
       "    }\n",
       "</style>\n",
       "<table border=\"1\" class=\"dataframe\">\n",
       "  <thead>\n",
       "    <tr style=\"text-align: right;\">\n",
       "      <th></th>\n",
       "      <th>Country</th>\n",
       "      <th>Confirmed</th>\n",
       "      <th>Deaths</th>\n",
       "      <th>Recovered</th>\n",
       "      <th>Active</th>\n",
       "      <th>New Cases</th>\n",
       "      <th>Deaths / 100 Cases</th>\n",
       "      <th>Recovered / 100 Cases</th>\n",
       "      <th>Deaths / 100 Recovered</th>\n",
       "      <th>Population</th>\n",
       "      <th>Cases / Million People</th>\n",
       "      <th>Confirmed last week</th>\n",
       "      <th>1 week change</th>\n",
       "      <th>1 week % increase</th>\n",
       "    </tr>\n",
       "  </thead>\n",
       "  <tbody>\n",
       "    <tr>\n",
       "      <th>106</th>\n",
       "      <td>MS Zaandam</td>\n",
       "      <td>9</td>\n",
       "      <td>2</td>\n",
       "      <td>0</td>\n",
       "      <td>7</td>\n",
       "      <td>0</td>\n",
       "      <td>22.22</td>\n",
       "      <td>0.0</td>\n",
       "      <td>0.0</td>\n",
       "      <td>0</td>\n",
       "      <td>90599.186528</td>\n",
       "      <td>9</td>\n",
       "      <td>0</td>\n",
       "      <td>0.00</td>\n",
       "    </tr>\n",
       "    <tr>\n",
       "      <th>55</th>\n",
       "      <td>El Salvador</td>\n",
       "      <td>135109</td>\n",
       "      <td>3967</td>\n",
       "      <td>0</td>\n",
       "      <td>131142</td>\n",
       "      <td>0</td>\n",
       "      <td>2.94</td>\n",
       "      <td>0.0</td>\n",
       "      <td>0.0</td>\n",
       "      <td>6486201</td>\n",
       "      <td>20830.000000</td>\n",
       "      <td>135109</td>\n",
       "      <td>0</td>\n",
       "      <td>0.00</td>\n",
       "    </tr>\n",
       "    <tr>\n",
       "      <th>112</th>\n",
       "      <td>Malta</td>\n",
       "      <td>69533</td>\n",
       "      <td>572</td>\n",
       "      <td>0</td>\n",
       "      <td>68961</td>\n",
       "      <td>172</td>\n",
       "      <td>0.82</td>\n",
       "      <td>0.0</td>\n",
       "      <td>0.0</td>\n",
       "      <td>441539</td>\n",
       "      <td>157479.000000</td>\n",
       "      <td>68193</td>\n",
       "      <td>1340</td>\n",
       "      <td>1.97</td>\n",
       "    </tr>\n",
       "    <tr>\n",
       "      <th>33</th>\n",
       "      <td>Canada</td>\n",
       "      <td>3159212</td>\n",
       "      <td>35114</td>\n",
       "      <td>0</td>\n",
       "      <td>3124098</td>\n",
       "      <td>10806</td>\n",
       "      <td>1.11</td>\n",
       "      <td>0.0</td>\n",
       "      <td>0.0</td>\n",
       "      <td>76492216</td>\n",
       "      <td>41301.000000</td>\n",
       "      <td>3081616</td>\n",
       "      <td>77596</td>\n",
       "      <td>2.52</td>\n",
       "    </tr>\n",
       "    <tr>\n",
       "      <th>109</th>\n",
       "      <td>Malaysia</td>\n",
       "      <td>2956332</td>\n",
       "      <td>32065</td>\n",
       "      <td>0</td>\n",
       "      <td>2924267</td>\n",
       "      <td>17134</td>\n",
       "      <td>1.08</td>\n",
       "      <td>0.0</td>\n",
       "      <td>0.0</td>\n",
       "      <td>64998698</td>\n",
       "      <td>45483.000000</td>\n",
       "      <td>2882060</td>\n",
       "      <td>74272</td>\n",
       "      <td>2.58</td>\n",
       "    </tr>\n",
       "  </tbody>\n",
       "</table>\n",
       "</div>"
      ],
      "text/plain": [
       "         Country  Confirmed  Deaths  Recovered   Active  New Cases  \\\n",
       "106   MS Zaandam          9       2          0        7          0   \n",
       "55   El Salvador     135109    3967          0   131142          0   \n",
       "112        Malta      69533     572          0    68961        172   \n",
       "33        Canada    3159212   35114          0  3124098      10806   \n",
       "109     Malaysia    2956332   32065          0  2924267      17134   \n",
       "\n",
       "     Deaths / 100 Cases  Recovered / 100 Cases  Deaths / 100 Recovered  \\\n",
       "106               22.22                    0.0                     0.0   \n",
       "55                 2.94                    0.0                     0.0   \n",
       "112                0.82                    0.0                     0.0   \n",
       "33                 1.11                    0.0                     0.0   \n",
       "109                1.08                    0.0                     0.0   \n",
       "\n",
       "     Population  Cases / Million People  Confirmed last week  1 week change  \\\n",
       "106           0            90599.186528                    9              0   \n",
       "55      6486201            20830.000000               135109              0   \n",
       "112      441539           157479.000000                68193           1340   \n",
       "33     76492216            41301.000000              3081616          77596   \n",
       "109    64998698            45483.000000              2882060          74272   \n",
       "\n",
       "     1 week % increase  \n",
       "106               0.00  \n",
       "55                0.00  \n",
       "112               1.97  \n",
       "33                2.52  \n",
       "109               2.58  "
      ]
     },
     "execution_count": 35,
     "metadata": {},
     "output_type": "execute_result"
    }
   ],
   "source": [
    "file_path = './Covid-19-Preprocessed-Dataset/preprocessed/countrywise.csv'\n",
    "countrywise = pd.read_csv(file_path)\n",
    "print(f'Size: {countrywise.shape}')\n",
    "countrywise.sample(5)"
   ]
  },
  {
   "cell_type": "markdown",
   "id": "e5a73b99",
   "metadata": {},
   "source": [
    "##### Uncomment and run the codes below to see the plots"
   ]
  },
  {
   "cell_type": "code",
   "execution_count": 75,
   "id": "960a5747",
   "metadata": {},
   "outputs": [],
   "source": [
    "# top = 15\n",
    "# fig_c = px.bar(countrywise.sort_values('Confirmed').tail(top), x = 'Confirmed', y = 'Country', \n",
    "#                text = 'Confirmed', orientation = 'h', color_discrete_sequence = [cnf])\n",
    "\n",
    "# fig_d = px.bar(countrywise.sort_values('Deaths').tail(top), x = 'Deaths', y = 'Country', \n",
    "#                text = 'Deaths', orientation = 'h', color_discrete_sequence = [dth])\n",
    "\n",
    "\n",
    "# fig = make_subplots(rows = 1, cols = 2, shared_xaxes = False, horizontal_spacing = 0.14, \n",
    "#                      subplot_titles = ('Confirmed Cases', 'Deaths Cases'))\n",
    "\n",
    "# fig.add_trace(fig_c['data'][0], row = 1, col = 1)\n",
    "# fig.add_trace(fig_d['data'][0], row = 1, col = 2)\n",
    "\n",
    "# fig.update_layout(height = 500)\n",
    "# fig.show()"
   ]
  },
  {
   "cell_type": "code",
   "execution_count": 74,
   "id": "5490d0c0",
   "metadata": {},
   "outputs": [],
   "source": [
    "# top = 15\n",
    "\n",
    "# fig_r = px.bar(countrywise.sort_values('Recovered').tail(top), x = 'Recovered', y = 'Country', \n",
    "#                text = 'Recovered', orientation = 'h', color_discrete_sequence = [rec])\n",
    "\n",
    "# fig_a = px.bar(countrywise.sort_values('Active').tail(top), x = 'Active', y = 'Country', \n",
    "#                text = 'Active', orientation = 'h', color_discrete_sequence = [act])\n",
    "\n",
    "\n",
    "# fig = make_subplots(rows = 5, cols = 2, shared_xaxes = False, horizontal_spacing = 0.14, \n",
    "#                      subplot_titles = ('Recovered Cases', 'Active Cases'))\n",
    "\n",
    "# fig = make_subplots(rows = 1, cols = 2, shared_xaxes = False, horizontal_spacing = 0.14, \n",
    "#                      subplot_titles = ('Recovered Cases', 'Active Cases'))\n",
    "\n",
    "# fig.add_trace(fig_r['data'][0], row = 1, col = 1)\n",
    "# fig.add_trace(fig_a['data'][0], row = 1, col = 2)\n",
    "\n",
    "# fig.update_layout(height = 500)\n",
    "# fig.show()"
   ]
  },
  {
   "cell_type": "code",
   "execution_count": 73,
   "id": "919288ab",
   "metadata": {},
   "outputs": [],
   "source": [
    "# top = 15\n",
    "\n",
    "# fig_dc = px.bar(countrywise.sort_values('Deaths / 100 Cases').tail(top), x = 'Deaths / 100 Cases', y = 'Country', \n",
    "#                text = 'Deaths / 100 Cases', orientation = 'h', color_discrete_sequence = ['#a83832'])\n",
    "\n",
    "# fig_rc = px.bar(countrywise.sort_values('Recovered / 100 Cases').tail(top), x = 'Recovered / 100 Cases', y = 'Country', \n",
    "#                text = 'Recovered / 100 Cases', orientation = 'h', color_discrete_sequence = ['#60a832'])\n",
    "\n",
    "\n",
    "# fig = make_subplots(rows = 1, cols = 2, shared_xaxes = False, horizontal_spacing = 0.14, \n",
    "#                      subplot_titles = ('Deaths / 100 Cases', 'Recovered / 100 Cases'))\n",
    "\n",
    "# fig.add_trace(fig_dc['data'][0], row = 1, col = 1)\n",
    "# fig.add_trace(fig_rc['data'][0], row = 1, col = 2)\n",
    "\n",
    "# fig.update_layout(height = 500)\n",
    "# fig.show()"
   ]
  },
  {
   "cell_type": "code",
   "execution_count": 72,
   "id": "121df708",
   "metadata": {},
   "outputs": [],
   "source": [
    "# top = 15\n",
    "\n",
    "# fig_nc = px.bar(countrywise.sort_values('New Cases').tail(top), x = 'New Cases', y = 'Country', \n",
    "#                text = 'New Cases', orientation = 'h', color_discrete_sequence = ['#a8323a'])\n",
    "\n",
    "# temp = countrywise[countrywise.Population > 1000000]     # let's consider only with population more than 1 million\n",
    "# fig_cm = px.bar(temp.sort_values('Cases / Million People').tail(top), x = 'Cases / Million People', y = 'Country', \n",
    "#                text = 'Cases / Million People', orientation = 'h', color_discrete_sequence = ['#94a832'])\n",
    "\n",
    "\n",
    "# fig = make_subplots(rows = 1, cols = 2, shared_xaxes = False, horizontal_spacing = 0.14, \n",
    "#                      subplot_titles = ('New Cases', 'Cases / Million People'))\n",
    "\n",
    "# fig.add_trace(fig_nc['data'][0], row = 1, col = 1)\n",
    "# fig.add_trace(fig_cm['data'][0], row = 1, col = 2)\n",
    "\n",
    "# fig.update_layout(height = 500)\n",
    "# fig.show()"
   ]
  },
  {
   "cell_type": "code",
   "execution_count": 71,
   "id": "96f46325",
   "metadata": {},
   "outputs": [],
   "source": [
    "# top = 15\n",
    "\n",
    "# fig_week1 = px.bar(countrywise.sort_values('1 week change').tail(top), x = '1 week change', y = 'Country', \n",
    "#                text = '1 week change', orientation = 'h', color_discrete_sequence = ['#32a877'])\n",
    "# temp = countrywise[countrywise.Confirmed > 100]     # let's consider only new confirmed cases more than 100\n",
    "# fig_week1p = px.bar(temp.sort_values('1 week % increase').tail(top), x = '1 week % increase', y = 'Country', \n",
    "#                text = '1 week % increase', orientation = 'h', color_discrete_sequence = ['#326da8'])\n",
    "\n",
    "\n",
    "# fig = make_subplots(rows = 1, cols = 2, shared_xaxes = False, horizontal_spacing = 0.14, \n",
    "#                      subplot_titles = ('1 week change', '1 week % increase'))\n",
    "\n",
    "# fig.add_trace(fig_week1['data'][0], row = 1, col = 1)\n",
    "# fig.add_trace(fig_week1p['data'][0], row = 1, col = 2)\n",
    "\n",
    "# fig.update_layout(height = 500)\n",
    "# fig.show()"
   ]
  },
  {
   "cell_type": "markdown",
   "id": "926196ff",
   "metadata": {},
   "source": [
    "**Save the graphs**"
   ]
  },
  {
   "cell_type": "code",
   "execution_count": null,
   "id": "35aa1430",
   "metadata": {},
   "outputs": [],
   "source": [
    "## To save static plot first install plotly-orca\n",
    "#conda install -c plotly plotly-orca==1.2.1 psutil requests OR conda install -c plotly plotly-orca"
   ]
  },
  {
   "cell_type": "code",
   "execution_count": null,
   "id": "77baf1f2",
   "metadata": {},
   "outputs": [],
   "source": [
    "import os\n",
    "if not os.path.exists('images'):\n",
    "    os.mkdir('images')"
   ]
  },
  {
   "cell_type": "code",
   "execution_count": null,
   "id": "2cfb4691",
   "metadata": {},
   "outputs": [],
   "source": [
    "fig.write_image('images/fig.png')\n",
    "#fig.write_image('images/fig.jpeg')\n",
    "#fig.write_image('images/fig.pdf')"
   ]
  },
  {
   "cell_type": "markdown",
   "id": "de7fdc36",
   "metadata": {},
   "source": [
    "#### Scatter Plot for Deaths vs Confirmed Cases"
   ]
  },
  {
   "cell_type": "code",
   "execution_count": 70,
   "id": "84060e82",
   "metadata": {},
   "outputs": [],
   "source": [
    "# top = 15\n",
    "# # fig = px.scatter(country_daywise.sort_values('Deaths', ascending = False).iloc[:15, :])\n",
    "# fig = px.scatter(countrywise.sort_values('Deaths', ascending = False).head(top), \n",
    "#                 x = 'Confirmed', y = 'Deaths', color = 'Country', size = 'Confirmed', height = 700, \n",
    "#                 text = 'Country', log_x = True, log_y = True, title = 'Death vs Confirmed Cases (Cases are in log10 scale)')\n",
    "# fig.update_traces(textposition = 'top center')\n",
    "# fig.update_layout(showlegend = False)\n",
    "# fig.update_layout(xaxis_rangeslider_visible = True)\n",
    "# fig.show()"
   ]
  },
  {
   "cell_type": "markdown",
   "id": "6c42d0d5",
   "metadata": {},
   "source": [
    "Comparing the number of **deaths** with the number of **confirmed cases** we can see that **US** is the most badly hit country followed by **Brazil** and **India** (*at the time of this analysis*).\n",
    "#### Bar plots of Confirmed, Deaths and Ne Cases vs Country and Date"
   ]
  },
  {
   "cell_type": "code",
   "execution_count": 66,
   "id": "bdeff880",
   "metadata": {},
   "outputs": [],
   "source": [
    "# fig = px.bar(country_daywise, x = 'Date', y = 'Confirmed', color = 'Country', height = 600, \n",
    "#             title = 'Confirmed', color_discrete_sequence = px.colors.cyclical.mygbm)\n",
    "# fig.show()"
   ]
  },
  {
   "cell_type": "markdown",
   "id": "18844fbe",
   "metadata": {},
   "source": [
    "We can see how each country has contributed in the number of **confirmed cases**."
   ]
  },
  {
   "cell_type": "code",
   "execution_count": 67,
   "id": "285acaef",
   "metadata": {},
   "outputs": [],
   "source": [
    "# fig = px.bar(country_daywise, x = 'Date', y = 'Deaths', color = 'Country', height = 600, \n",
    "#             title = 'Deaths', color_discrete_sequence = px.colors.cyclical.mygbm)\n",
    "# fig.show()"
   ]
  },
  {
   "cell_type": "markdown",
   "id": "a5181b2b",
   "metadata": {},
   "source": [
    "We can see how each country has contributed in the number of **deaths cases**."
   ]
  },
  {
   "cell_type": "code",
   "execution_count": 68,
   "id": "d6d47895",
   "metadata": {},
   "outputs": [],
   "source": [
    "# fig = px.bar(country_daywise, x = 'Date', y = 'Recovered', color = 'Country', height = 600, \n",
    "#             title = 'Recovered', color_discrete_sequence = px.colors.cyclical.mygbm)\n",
    "# fig.show()"
   ]
  },
  {
   "cell_type": "markdown",
   "id": "525d59b9",
   "metadata": {},
   "source": [
    "We can see how each country has contributed in the number of **recovered cases**."
   ]
  },
  {
   "cell_type": "code",
   "execution_count": 89,
   "id": "0e883da0",
   "metadata": {},
   "outputs": [],
   "source": [
    "# fig = px.bar(country_daywise.sort_values('New Cases', ascending = False), x = 'Date', y = 'New Cases', \n",
    "#              color = 'Country', height = 600, title = 'New Cases', color_discrete_sequence = px.colors.cyclical.mygbm)\n",
    "# fig.show()"
   ]
  },
  {
   "cell_type": "markdown",
   "id": "70fa161a",
   "metadata": {},
   "source": [
    "We can see how each country has contributed in the number of **new cases**.\n",
    "#### Line plot"
   ]
  },
  {
   "cell_type": "code",
   "execution_count": 80,
   "id": "6f11ae8b",
   "metadata": {},
   "outputs": [],
   "source": [
    "# fig = px.line(country_daywise.sort_values('Confirmed', ascending = False), x = 'Date', y = 'Confirmed', \n",
    "#               color = 'Country', height = 600, title = 'Confirmed', color_discrete_sequence = px.colors.cyclical.mygbm)\n",
    "\n",
    "# fig.show()"
   ]
  },
  {
   "cell_type": "code",
   "execution_count": 85,
   "id": "f2c6f6a0",
   "metadata": {},
   "outputs": [],
   "source": [
    "# fig = px.line(country_daywise.sort_values('Deaths', ascending = False), x = 'Date', y = 'Deaths', \n",
    "#               color = 'Country', height = 600, title = 'Deaths', color_discrete_sequence = px.colors.cyclical.mygbm)\n",
    "\n",
    "# fig.show()"
   ]
  },
  {
   "cell_type": "code",
   "execution_count": 87,
   "id": "ff7b4012",
   "metadata": {},
   "outputs": [],
   "source": [
    "# fig = px.line(country_daywise.sort_values('Recovered', ascending = False), x = 'Date', y = 'Recovered', \n",
    "#               color = 'Country', height = 600, title = 'Recovered', color_discrete_sequence = px.colors.cyclical.mygbm)\n",
    "\n",
    "# fig.show()"
   ]
  },
  {
   "cell_type": "markdown",
   "id": "1b55725a",
   "metadata": {},
   "source": [
    "## Growth Rate after `100, 1.000, 10.000, 100.000 and 1.000.000` Confirmed Cases\n",
    "#### Growth Rate after 100 Cases"
   ]
  },
  {
   "cell_type": "code",
   "execution_count": 150,
   "id": "e9ac2670",
   "metadata": {},
   "outputs": [
    {
     "name": "stdout",
     "output_type": "stream",
     "text": [
      "Number of countries with more than 100 Cases: 190\n"
     ]
    }
   ],
   "source": [
    "gt_100 = country_daywise[country_daywise.Confirmed > 100]['Country'].unique()\n",
    "print(f'Number of countries with more than 100 Cases: {len(gt_100)}')"
   ]
  },
  {
   "cell_type": "code",
   "execution_count": 115,
   "id": "fb4a5f04",
   "metadata": {},
   "outputs": [
    {
     "data": {
      "text/html": [
       "<div>\n",
       "<style scoped>\n",
       "    .dataframe tbody tr th:only-of-type {\n",
       "        vertical-align: middle;\n",
       "    }\n",
       "\n",
       "    .dataframe tbody tr th {\n",
       "        vertical-align: top;\n",
       "    }\n",
       "\n",
       "    .dataframe thead th {\n",
       "        text-align: right;\n",
       "    }\n",
       "</style>\n",
       "<table border=\"1\" class=\"dataframe\">\n",
       "  <thead>\n",
       "    <tr style=\"text-align: right;\">\n",
       "      <th></th>\n",
       "      <th>Date</th>\n",
       "      <th>ProvinceState</th>\n",
       "      <th>Country</th>\n",
       "      <th>Lat</th>\n",
       "      <th>Long</th>\n",
       "      <th>Confirmed</th>\n",
       "      <th>Recovered</th>\n",
       "      <th>Deaths</th>\n",
       "      <th>Active</th>\n",
       "    </tr>\n",
       "  </thead>\n",
       "  <tbody>\n",
       "    <tr>\n",
       "      <th>47364</th>\n",
       "      <td>2022-01-31</td>\n",
       "      <td>Fujian</td>\n",
       "      <td>China</td>\n",
       "      <td>26.078900</td>\n",
       "      <td>117.987400</td>\n",
       "      <td>1455</td>\n",
       "      <td>0</td>\n",
       "      <td>1</td>\n",
       "      <td>1454</td>\n",
       "    </tr>\n",
       "    <tr>\n",
       "      <th>203821</th>\n",
       "      <td>2020-02-20</td>\n",
       "      <td></td>\n",
       "      <td>United Kingdom</td>\n",
       "      <td>55.378100</td>\n",
       "      <td>-3.436000</td>\n",
       "      <td>22</td>\n",
       "      <td>8</td>\n",
       "      <td>0</td>\n",
       "      <td>14</td>\n",
       "    </tr>\n",
       "    <tr>\n",
       "      <th>179596</th>\n",
       "      <td>2021-10-03</td>\n",
       "      <td></td>\n",
       "      <td>Spain</td>\n",
       "      <td>40.463667</td>\n",
       "      <td>-3.749220</td>\n",
       "      <td>4961128</td>\n",
       "      <td>0</td>\n",
       "      <td>86463</td>\n",
       "      <td>4874665</td>\n",
       "    </tr>\n",
       "    <tr>\n",
       "      <th>195464</th>\n",
       "      <td>2021-12-18</td>\n",
       "      <td></td>\n",
       "      <td>United Arab Emirates</td>\n",
       "      <td>23.424076</td>\n",
       "      <td>53.847818</td>\n",
       "      <td>743586</td>\n",
       "      <td>0</td>\n",
       "      <td>2151</td>\n",
       "      <td>741435</td>\n",
       "    </tr>\n",
       "    <tr>\n",
       "      <th>130411</th>\n",
       "      <td>2020-12-02</td>\n",
       "      <td></td>\n",
       "      <td>Luxembourg</td>\n",
       "      <td>49.815300</td>\n",
       "      <td>6.129600</td>\n",
       "      <td>35802</td>\n",
       "      <td>26497</td>\n",
       "      <td>334</td>\n",
       "      <td>8971</td>\n",
       "    </tr>\n",
       "  </tbody>\n",
       "</table>\n",
       "</div>"
      ],
      "text/plain": [
       "              Date ProvinceState               Country        Lat        Long  \\\n",
       "47364   2022-01-31        Fujian                 China  26.078900  117.987400   \n",
       "203821  2020-02-20                      United Kingdom  55.378100   -3.436000   \n",
       "179596  2021-10-03                               Spain  40.463667   -3.749220   \n",
       "195464  2021-12-18                United Arab Emirates  23.424076   53.847818   \n",
       "130411  2020-12-02                          Luxembourg  49.815300    6.129600   \n",
       "\n",
       "        Confirmed  Recovered  Deaths   Active  \n",
       "47364        1455          0       1     1454  \n",
       "203821         22          8       0       14  \n",
       "179596    4961128          0   86463  4874665  \n",
       "195464     743586          0    2151   741435  \n",
       "130411      35802      26497     334     8971  "
      ]
     },
     "execution_count": 115,
     "metadata": {},
     "output_type": "execute_result"
    }
   ],
   "source": [
    "file_path = './Covid-19-Preprocessed-Dataset/preprocessed/covid_19_data_cleaned.csv'\n",
    "df = pd.read_csv(file_path)\n",
    "df.rename(columns = {'Province/State': 'ProvinceState'}, inplace = True)\n",
    "df.ProvinceState = df.ProvinceState.fillna('')\n",
    "confirmed_gt_100 = df[df.Country.isin(gt_100)]\n",
    "confirmed_gt_100.sample(5)"
   ]
  },
  {
   "cell_type": "code",
   "execution_count": 116,
   "id": "e4126ae9",
   "metadata": {},
   "outputs": [
    {
     "data": {
      "text/html": [
       "<div>\n",
       "<style scoped>\n",
       "    .dataframe tbody tr th:only-of-type {\n",
       "        vertical-align: middle;\n",
       "    }\n",
       "\n",
       "    .dataframe tbody tr th {\n",
       "        vertical-align: top;\n",
       "    }\n",
       "\n",
       "    .dataframe thead th {\n",
       "        text-align: right;\n",
       "    }\n",
       "</style>\n",
       "<table border=\"1\" class=\"dataframe\">\n",
       "  <thead>\n",
       "    <tr style=\"text-align: right;\">\n",
       "      <th></th>\n",
       "      <th>Country</th>\n",
       "      <th>Date</th>\n",
       "      <th>Confirmed</th>\n",
       "    </tr>\n",
       "  </thead>\n",
       "  <tbody>\n",
       "    <tr>\n",
       "      <th>0</th>\n",
       "      <td>Afghanistan</td>\n",
       "      <td>2020-03-28</td>\n",
       "      <td>106</td>\n",
       "    </tr>\n",
       "    <tr>\n",
       "      <th>1</th>\n",
       "      <td>Afghanistan</td>\n",
       "      <td>2020-03-29</td>\n",
       "      <td>114</td>\n",
       "    </tr>\n",
       "    <tr>\n",
       "      <th>2</th>\n",
       "      <td>Afghanistan</td>\n",
       "      <td>2020-03-30</td>\n",
       "      <td>114</td>\n",
       "    </tr>\n",
       "    <tr>\n",
       "      <th>3</th>\n",
       "      <td>Afghanistan</td>\n",
       "      <td>2020-03-31</td>\n",
       "      <td>166</td>\n",
       "    </tr>\n",
       "    <tr>\n",
       "      <th>4</th>\n",
       "      <td>Afghanistan</td>\n",
       "      <td>2020-04-01</td>\n",
       "      <td>192</td>\n",
       "    </tr>\n",
       "  </tbody>\n",
       "</table>\n",
       "</div>"
      ],
      "text/plain": [
       "       Country        Date  Confirmed\n",
       "0  Afghanistan  2020-03-28        106\n",
       "1  Afghanistan  2020-03-29        114\n",
       "2  Afghanistan  2020-03-30        114\n",
       "3  Afghanistan  2020-03-31        166\n",
       "4  Afghanistan  2020-04-01        192"
      ]
     },
     "execution_count": 116,
     "metadata": {},
     "output_type": "execute_result"
    }
   ],
   "source": [
    "confirmed_by_country_date = confirmed_gt_100.groupby(['Country', 'Date'])['Confirmed'].sum()\n",
    "confirmed_by_country_date = pd.DataFrame(confirmed_by_country_date)\n",
    "confirmed_by_country_date = confirmed_by_country_date[confirmed_by_country_date.Confirmed > 100]\n",
    "confirmed_by_country_date = confirmed_by_country_date.reset_index()\n",
    "confirmed_by_country_date.head()"
   ]
  },
  {
   "cell_type": "code",
   "execution_count": 117,
   "id": "287bbd23",
   "metadata": {},
   "outputs": [
    {
     "data": {
      "text/html": [
       "<div>\n",
       "<style scoped>\n",
       "    .dataframe tbody tr th:only-of-type {\n",
       "        vertical-align: middle;\n",
       "    }\n",
       "\n",
       "    .dataframe tbody tr th {\n",
       "        vertical-align: top;\n",
       "    }\n",
       "\n",
       "    .dataframe thead th {\n",
       "        text-align: right;\n",
       "    }\n",
       "</style>\n",
       "<table border=\"1\" class=\"dataframe\">\n",
       "  <thead>\n",
       "    <tr style=\"text-align: right;\">\n",
       "      <th></th>\n",
       "      <th>Country</th>\n",
       "      <th>Min_Date</th>\n",
       "    </tr>\n",
       "  </thead>\n",
       "  <tbody>\n",
       "    <tr>\n",
       "      <th>0</th>\n",
       "      <td>Afghanistan</td>\n",
       "      <td>2020-03-28</td>\n",
       "    </tr>\n",
       "    <tr>\n",
       "      <th>1</th>\n",
       "      <td>Albania</td>\n",
       "      <td>2020-03-23</td>\n",
       "    </tr>\n",
       "    <tr>\n",
       "      <th>2</th>\n",
       "      <td>Algeria</td>\n",
       "      <td>2020-03-21</td>\n",
       "    </tr>\n",
       "    <tr>\n",
       "      <th>3</th>\n",
       "      <td>Andorra</td>\n",
       "      <td>2020-03-22</td>\n",
       "    </tr>\n",
       "    <tr>\n",
       "      <th>4</th>\n",
       "      <td>Angola</td>\n",
       "      <td>2020-06-10</td>\n",
       "    </tr>\n",
       "  </tbody>\n",
       "</table>\n",
       "</div>"
      ],
      "text/plain": [
       "       Country    Min_Date\n",
       "0  Afghanistan  2020-03-28\n",
       "1      Albania  2020-03-23\n",
       "2      Algeria  2020-03-21\n",
       "3      Andorra  2020-03-22\n",
       "4       Angola  2020-06-10"
      ]
     },
     "execution_count": 117,
     "metadata": {},
     "output_type": "execute_result"
    }
   ],
   "source": [
    "min_date = confirmed_by_country_date.groupby('Country')['Date'].min().reset_index()\n",
    "min_date.columns = ['Country', 'Min_Date']\n",
    "min_date.head()"
   ]
  },
  {
   "cell_type": "code",
   "execution_count": 118,
   "id": "4fb9ae8c",
   "metadata": {},
   "outputs": [
    {
     "data": {
      "text/html": [
       "<div>\n",
       "<style scoped>\n",
       "    .dataframe tbody tr th:only-of-type {\n",
       "        vertical-align: middle;\n",
       "    }\n",
       "\n",
       "    .dataframe tbody tr th {\n",
       "        vertical-align: top;\n",
       "    }\n",
       "\n",
       "    .dataframe thead th {\n",
       "        text-align: right;\n",
       "    }\n",
       "</style>\n",
       "<table border=\"1\" class=\"dataframe\">\n",
       "  <thead>\n",
       "    <tr style=\"text-align: right;\">\n",
       "      <th></th>\n",
       "      <th>Country</th>\n",
       "      <th>Date</th>\n",
       "      <th>Confirmed</th>\n",
       "      <th>Min_Date</th>\n",
       "    </tr>\n",
       "  </thead>\n",
       "  <tbody>\n",
       "    <tr>\n",
       "      <th>0</th>\n",
       "      <td>Afghanistan</td>\n",
       "      <td>2020-03-28</td>\n",
       "      <td>106</td>\n",
       "      <td>2020-03-28</td>\n",
       "    </tr>\n",
       "    <tr>\n",
       "      <th>1</th>\n",
       "      <td>Afghanistan</td>\n",
       "      <td>2020-03-29</td>\n",
       "      <td>114</td>\n",
       "      <td>2020-03-28</td>\n",
       "    </tr>\n",
       "    <tr>\n",
       "      <th>2</th>\n",
       "      <td>Afghanistan</td>\n",
       "      <td>2020-03-30</td>\n",
       "      <td>114</td>\n",
       "      <td>2020-03-28</td>\n",
       "    </tr>\n",
       "    <tr>\n",
       "      <th>3</th>\n",
       "      <td>Afghanistan</td>\n",
       "      <td>2020-03-31</td>\n",
       "      <td>166</td>\n",
       "      <td>2020-03-28</td>\n",
       "    </tr>\n",
       "    <tr>\n",
       "      <th>4</th>\n",
       "      <td>Afghanistan</td>\n",
       "      <td>2020-04-01</td>\n",
       "      <td>192</td>\n",
       "      <td>2020-03-28</td>\n",
       "    </tr>\n",
       "  </tbody>\n",
       "</table>\n",
       "</div>"
      ],
      "text/plain": [
       "       Country        Date  Confirmed    Min_Date\n",
       "0  Afghanistan  2020-03-28        106  2020-03-28\n",
       "1  Afghanistan  2020-03-29        114  2020-03-28\n",
       "2  Afghanistan  2020-03-30        114  2020-03-28\n",
       "3  Afghanistan  2020-03-31        166  2020-03-28\n",
       "4  Afghanistan  2020-04-01        192  2020-03-28"
      ]
     },
     "execution_count": 118,
     "metadata": {},
     "output_type": "execute_result"
    }
   ],
   "source": [
    "from_100th_case = pd.merge(confirmed_by_country_date, min_date, on = 'Country')\n",
    "from_100th_case.head()"
   ]
  },
  {
   "cell_type": "markdown",
   "id": "1eb25b4e",
   "metadata": {},
   "source": [
    "**Change the columns containing dates to datetime objects for easy manipulation**"
   ]
  },
  {
   "cell_type": "code",
   "execution_count": 119,
   "id": "6ff9bd3c",
   "metadata": {},
   "outputs": [],
   "source": [
    "from_100th_case.Date = from_100th_case.Date.map(lambda d: pd.to_datetime(d.split()[0], format = '%Y-%m-%d').date())\n",
    "from_100th_case.Min_Date = from_100th_case.Min_Date.map(lambda d: pd.to_datetime(d.split()[0], format = '%Y-%m-%d').date())"
   ]
  },
  {
   "cell_type": "code",
   "execution_count": null,
   "id": "10709a51",
   "metadata": {},
   "outputs": [],
   "source": [
    "from_100th_case['Num_Days'] = from_100th_case.Date - from_100th_case.Min_Date\n",
    "from_100th_case.sample(5)"
   ]
  },
  {
   "cell_type": "code",
   "execution_count": 126,
   "id": "148583f8",
   "metadata": {},
   "outputs": [
    {
     "data": {
      "text/html": [
       "<div>\n",
       "<style scoped>\n",
       "    .dataframe tbody tr th:only-of-type {\n",
       "        vertical-align: middle;\n",
       "    }\n",
       "\n",
       "    .dataframe tbody tr th {\n",
       "        vertical-align: top;\n",
       "    }\n",
       "\n",
       "    .dataframe thead th {\n",
       "        text-align: right;\n",
       "    }\n",
       "</style>\n",
       "<table border=\"1\" class=\"dataframe\">\n",
       "  <thead>\n",
       "    <tr style=\"text-align: right;\">\n",
       "      <th></th>\n",
       "      <th>Country</th>\n",
       "      <th>Date</th>\n",
       "      <th>Confirmed</th>\n",
       "      <th>Min_Date</th>\n",
       "      <th>Num_Days</th>\n",
       "    </tr>\n",
       "  </thead>\n",
       "  <tbody>\n",
       "    <tr>\n",
       "      <th>0</th>\n",
       "      <td>Afghanistan</td>\n",
       "      <td>2020-03-28</td>\n",
       "      <td>106</td>\n",
       "      <td>2020-03-28</td>\n",
       "      <td>0</td>\n",
       "    </tr>\n",
       "    <tr>\n",
       "      <th>1</th>\n",
       "      <td>Afghanistan</td>\n",
       "      <td>2020-03-29</td>\n",
       "      <td>114</td>\n",
       "      <td>2020-03-28</td>\n",
       "      <td>1</td>\n",
       "    </tr>\n",
       "    <tr>\n",
       "      <th>2</th>\n",
       "      <td>Afghanistan</td>\n",
       "      <td>2020-03-30</td>\n",
       "      <td>114</td>\n",
       "      <td>2020-03-28</td>\n",
       "      <td>2</td>\n",
       "    </tr>\n",
       "    <tr>\n",
       "      <th>3</th>\n",
       "      <td>Afghanistan</td>\n",
       "      <td>2020-03-31</td>\n",
       "      <td>166</td>\n",
       "      <td>2020-03-28</td>\n",
       "      <td>3</td>\n",
       "    </tr>\n",
       "    <tr>\n",
       "      <th>4</th>\n",
       "      <td>Afghanistan</td>\n",
       "      <td>2020-04-01</td>\n",
       "      <td>192</td>\n",
       "      <td>2020-03-28</td>\n",
       "      <td>4</td>\n",
       "    </tr>\n",
       "  </tbody>\n",
       "</table>\n",
       "</div>"
      ],
      "text/plain": [
       "       Country        Date  Confirmed    Min_Date  Num_Days\n",
       "0  Afghanistan  2020-03-28        106  2020-03-28         0\n",
       "1  Afghanistan  2020-03-29        114  2020-03-28         1\n",
       "2  Afghanistan  2020-03-30        114  2020-03-28         2\n",
       "3  Afghanistan  2020-03-31        166  2020-03-28         3\n",
       "4  Afghanistan  2020-04-01        192  2020-03-28         4"
      ]
     },
     "execution_count": 126,
     "metadata": {},
     "output_type": "execute_result"
    }
   ],
   "source": [
    "from_100th_case['Num_Days'] = from_100th_case['Num_Days'].map(lambda p: p.days)\n",
    "from_100th_case.head()"
   ]
  },
  {
   "cell_type": "markdown",
   "id": "0a41ec56",
   "metadata": {},
   "source": [
    "##### Uncomment and run the code to see the plots for each case"
   ]
  },
  {
   "cell_type": "code",
   "execution_count": 129,
   "id": "f24216cb",
   "metadata": {},
   "outputs": [],
   "source": [
    "# fig = px.line(from_100th_case.sort_values('Confirmed', ascending = False), x = 'Num_Days', y = 'Confirmed', \n",
    "#               color = 'Country', title = 'Number of Days from 100 Case', height = 600)\n",
    "# fig.show()"
   ]
  },
  {
   "cell_type": "markdown",
   "id": "6ec75d43",
   "metadata": {},
   "source": [
    "**NOTE:** You can click on each legend to disable or remove the plot from the graph.\n",
    "#### Growth Rate after 1000 Cases"
   ]
  },
  {
   "cell_type": "code",
   "execution_count": 151,
   "id": "e16fcf92",
   "metadata": {},
   "outputs": [
    {
     "name": "stdout",
     "output_type": "stream",
     "text": [
      "Number of countries with more than 1000 Cases: 187\n"
     ]
    },
    {
     "data": {
      "text/html": [
       "<div>\n",
       "<style scoped>\n",
       "    .dataframe tbody tr th:only-of-type {\n",
       "        vertical-align: middle;\n",
       "    }\n",
       "\n",
       "    .dataframe tbody tr th {\n",
       "        vertical-align: top;\n",
       "    }\n",
       "\n",
       "    .dataframe thead th {\n",
       "        text-align: right;\n",
       "    }\n",
       "</style>\n",
       "<table border=\"1\" class=\"dataframe\">\n",
       "  <thead>\n",
       "    <tr style=\"text-align: right;\">\n",
       "      <th></th>\n",
       "      <th>Date</th>\n",
       "      <th>ProvinceState</th>\n",
       "      <th>Country</th>\n",
       "      <th>Lat</th>\n",
       "      <th>Long</th>\n",
       "      <th>Confirmed</th>\n",
       "      <th>Recovered</th>\n",
       "      <th>Deaths</th>\n",
       "      <th>Active</th>\n",
       "    </tr>\n",
       "  </thead>\n",
       "  <tbody>\n",
       "    <tr>\n",
       "      <th>188592</th>\n",
       "      <td>2021-09-05</td>\n",
       "      <td></td>\n",
       "      <td>Timor-Leste</td>\n",
       "      <td>-8.874217</td>\n",
       "      <td>125.727539</td>\n",
       "      <td>17618</td>\n",
       "      <td>0</td>\n",
       "      <td>80</td>\n",
       "      <td>17538</td>\n",
       "    </tr>\n",
       "    <tr>\n",
       "      <th>194517</th>\n",
       "      <td>2021-06-06</td>\n",
       "      <td></td>\n",
       "      <td>Ukraine</td>\n",
       "      <td>48.379400</td>\n",
       "      <td>31.165600</td>\n",
       "      <td>2273708</td>\n",
       "      <td>2148010</td>\n",
       "      <td>53258</td>\n",
       "      <td>72440</td>\n",
       "    </tr>\n",
       "    <tr>\n",
       "      <th>100324</th>\n",
       "      <td>2020-11-25</td>\n",
       "      <td></td>\n",
       "      <td>Gambia</td>\n",
       "      <td>13.443200</td>\n",
       "      <td>-15.310100</td>\n",
       "      <td>3727</td>\n",
       "      <td>3587</td>\n",
       "      <td>123</td>\n",
       "      <td>17</td>\n",
       "    </tr>\n",
       "    <tr>\n",
       "      <th>15194</th>\n",
       "      <td>2020-06-24</td>\n",
       "      <td></td>\n",
       "      <td>Bahrain</td>\n",
       "      <td>26.027500</td>\n",
       "      <td>50.550000</td>\n",
       "      <td>23570</td>\n",
       "      <td>17977</td>\n",
       "      <td>69</td>\n",
       "      <td>5524</td>\n",
       "    </tr>\n",
       "    <tr>\n",
       "      <th>97490</th>\n",
       "      <td>2021-05-18</td>\n",
       "      <td>St Martin</td>\n",
       "      <td>France</td>\n",
       "      <td>18.070800</td>\n",
       "      <td>-63.050100</td>\n",
       "      <td>1839</td>\n",
       "      <td>1399</td>\n",
       "      <td>14</td>\n",
       "      <td>426</td>\n",
       "    </tr>\n",
       "  </tbody>\n",
       "</table>\n",
       "</div>"
      ],
      "text/plain": [
       "              Date ProvinceState      Country        Lat        Long  \\\n",
       "188592  2021-09-05                Timor-Leste  -8.874217  125.727539   \n",
       "194517  2021-06-06                    Ukraine  48.379400   31.165600   \n",
       "100324  2020-11-25                     Gambia  13.443200  -15.310100   \n",
       "15194   2020-06-24                    Bahrain  26.027500   50.550000   \n",
       "97490   2021-05-18     St Martin       France  18.070800  -63.050100   \n",
       "\n",
       "        Confirmed  Recovered  Deaths  Active  \n",
       "188592      17618          0      80   17538  \n",
       "194517    2273708    2148010   53258   72440  \n",
       "100324       3727       3587     123      17  \n",
       "15194       23570      17977      69    5524  \n",
       "97490        1839       1399      14     426  "
      ]
     },
     "execution_count": 151,
     "metadata": {},
     "output_type": "execute_result"
    }
   ],
   "source": [
    "gt_1000 = country_daywise[country_daywise.Confirmed > 1000]['Country'].unique()\n",
    "print(f'Number of countries with more than 1000 Cases: {len(gt_1000)}')\n",
    "confirmed_gt_1000 = df[df.Country.isin(gt_1000)]\n",
    "confirmed_gt_1000.sample(5)"
   ]
  },
  {
   "cell_type": "code",
   "execution_count": 131,
   "id": "de74073f",
   "metadata": {},
   "outputs": [
    {
     "data": {
      "text/html": [
       "<div>\n",
       "<style scoped>\n",
       "    .dataframe tbody tr th:only-of-type {\n",
       "        vertical-align: middle;\n",
       "    }\n",
       "\n",
       "    .dataframe tbody tr th {\n",
       "        vertical-align: top;\n",
       "    }\n",
       "\n",
       "    .dataframe thead th {\n",
       "        text-align: right;\n",
       "    }\n",
       "</style>\n",
       "<table border=\"1\" class=\"dataframe\">\n",
       "  <thead>\n",
       "    <tr style=\"text-align: right;\">\n",
       "      <th></th>\n",
       "      <th>Country</th>\n",
       "      <th>Date</th>\n",
       "      <th>Confirmed</th>\n",
       "    </tr>\n",
       "  </thead>\n",
       "  <tbody>\n",
       "    <tr>\n",
       "      <th>0</th>\n",
       "      <td>Afghanistan</td>\n",
       "      <td>2020-04-21</td>\n",
       "      <td>1026</td>\n",
       "    </tr>\n",
       "    <tr>\n",
       "      <th>1</th>\n",
       "      <td>Afghanistan</td>\n",
       "      <td>2020-04-22</td>\n",
       "      <td>1092</td>\n",
       "    </tr>\n",
       "    <tr>\n",
       "      <th>2</th>\n",
       "      <td>Afghanistan</td>\n",
       "      <td>2020-04-23</td>\n",
       "      <td>1176</td>\n",
       "    </tr>\n",
       "    <tr>\n",
       "      <th>3</th>\n",
       "      <td>Afghanistan</td>\n",
       "      <td>2020-04-24</td>\n",
       "      <td>1226</td>\n",
       "    </tr>\n",
       "    <tr>\n",
       "      <th>4</th>\n",
       "      <td>Afghanistan</td>\n",
       "      <td>2020-04-25</td>\n",
       "      <td>1330</td>\n",
       "    </tr>\n",
       "  </tbody>\n",
       "</table>\n",
       "</div>"
      ],
      "text/plain": [
       "       Country        Date  Confirmed\n",
       "0  Afghanistan  2020-04-21       1026\n",
       "1  Afghanistan  2020-04-22       1092\n",
       "2  Afghanistan  2020-04-23       1176\n",
       "3  Afghanistan  2020-04-24       1226\n",
       "4  Afghanistan  2020-04-25       1330"
      ]
     },
     "execution_count": 131,
     "metadata": {},
     "output_type": "execute_result"
    }
   ],
   "source": [
    "confirmed_by_country_date = confirmed_gt_1000.groupby(['Country', 'Date'])['Confirmed'].sum()\n",
    "confirmed_by_country_date = pd.DataFrame(confirmed_by_country_date)\n",
    "confirmed_by_country_date = confirmed_by_country_date[confirmed_by_country_date.Confirmed > 1000]\n",
    "confirmed_by_country_date = confirmed_by_country_date.reset_index()\n",
    "confirmed_by_country_date.head()"
   ]
  },
  {
   "cell_type": "code",
   "execution_count": 132,
   "id": "835e2c51",
   "metadata": {},
   "outputs": [
    {
     "data": {
      "text/html": [
       "<div>\n",
       "<style scoped>\n",
       "    .dataframe tbody tr th:only-of-type {\n",
       "        vertical-align: middle;\n",
       "    }\n",
       "\n",
       "    .dataframe tbody tr th {\n",
       "        vertical-align: top;\n",
       "    }\n",
       "\n",
       "    .dataframe thead th {\n",
       "        text-align: right;\n",
       "    }\n",
       "</style>\n",
       "<table border=\"1\" class=\"dataframe\">\n",
       "  <thead>\n",
       "    <tr style=\"text-align: right;\">\n",
       "      <th></th>\n",
       "      <th>Country</th>\n",
       "      <th>Min_Date</th>\n",
       "    </tr>\n",
       "  </thead>\n",
       "  <tbody>\n",
       "    <tr>\n",
       "      <th>0</th>\n",
       "      <td>Afghanistan</td>\n",
       "      <td>2020-04-21</td>\n",
       "    </tr>\n",
       "    <tr>\n",
       "      <th>1</th>\n",
       "      <td>Albania</td>\n",
       "      <td>2020-05-25</td>\n",
       "    </tr>\n",
       "    <tr>\n",
       "      <th>2</th>\n",
       "      <td>Algeria</td>\n",
       "      <td>2020-04-03</td>\n",
       "    </tr>\n",
       "    <tr>\n",
       "      <th>3</th>\n",
       "      <td>Andorra</td>\n",
       "      <td>2020-08-17</td>\n",
       "    </tr>\n",
       "    <tr>\n",
       "      <th>4</th>\n",
       "      <td>Angola</td>\n",
       "      <td>2020-07-29</td>\n",
       "    </tr>\n",
       "  </tbody>\n",
       "</table>\n",
       "</div>"
      ],
      "text/plain": [
       "       Country    Min_Date\n",
       "0  Afghanistan  2020-04-21\n",
       "1      Albania  2020-05-25\n",
       "2      Algeria  2020-04-03\n",
       "3      Andorra  2020-08-17\n",
       "4       Angola  2020-07-29"
      ]
     },
     "execution_count": 132,
     "metadata": {},
     "output_type": "execute_result"
    }
   ],
   "source": [
    "min_date = confirmed_by_country_date.groupby('Country')['Date'].min().reset_index()\n",
    "min_date.columns = ['Country', 'Min_Date']\n",
    "min_date.head()"
   ]
  },
  {
   "cell_type": "code",
   "execution_count": 133,
   "id": "c582b729",
   "metadata": {},
   "outputs": [
    {
     "data": {
      "text/html": [
       "<div>\n",
       "<style scoped>\n",
       "    .dataframe tbody tr th:only-of-type {\n",
       "        vertical-align: middle;\n",
       "    }\n",
       "\n",
       "    .dataframe tbody tr th {\n",
       "        vertical-align: top;\n",
       "    }\n",
       "\n",
       "    .dataframe thead th {\n",
       "        text-align: right;\n",
       "    }\n",
       "</style>\n",
       "<table border=\"1\" class=\"dataframe\">\n",
       "  <thead>\n",
       "    <tr style=\"text-align: right;\">\n",
       "      <th></th>\n",
       "      <th>Country</th>\n",
       "      <th>Date</th>\n",
       "      <th>Confirmed</th>\n",
       "      <th>Min_Date</th>\n",
       "    </tr>\n",
       "  </thead>\n",
       "  <tbody>\n",
       "    <tr>\n",
       "      <th>0</th>\n",
       "      <td>Afghanistan</td>\n",
       "      <td>2020-04-21</td>\n",
       "      <td>1026</td>\n",
       "      <td>2020-04-21</td>\n",
       "    </tr>\n",
       "    <tr>\n",
       "      <th>1</th>\n",
       "      <td>Afghanistan</td>\n",
       "      <td>2020-04-22</td>\n",
       "      <td>1092</td>\n",
       "      <td>2020-04-21</td>\n",
       "    </tr>\n",
       "    <tr>\n",
       "      <th>2</th>\n",
       "      <td>Afghanistan</td>\n",
       "      <td>2020-04-23</td>\n",
       "      <td>1176</td>\n",
       "      <td>2020-04-21</td>\n",
       "    </tr>\n",
       "    <tr>\n",
       "      <th>3</th>\n",
       "      <td>Afghanistan</td>\n",
       "      <td>2020-04-24</td>\n",
       "      <td>1226</td>\n",
       "      <td>2020-04-21</td>\n",
       "    </tr>\n",
       "    <tr>\n",
       "      <th>4</th>\n",
       "      <td>Afghanistan</td>\n",
       "      <td>2020-04-25</td>\n",
       "      <td>1330</td>\n",
       "      <td>2020-04-21</td>\n",
       "    </tr>\n",
       "  </tbody>\n",
       "</table>\n",
       "</div>"
      ],
      "text/plain": [
       "       Country        Date  Confirmed    Min_Date\n",
       "0  Afghanistan  2020-04-21       1026  2020-04-21\n",
       "1  Afghanistan  2020-04-22       1092  2020-04-21\n",
       "2  Afghanistan  2020-04-23       1176  2020-04-21\n",
       "3  Afghanistan  2020-04-24       1226  2020-04-21\n",
       "4  Afghanistan  2020-04-25       1330  2020-04-21"
      ]
     },
     "execution_count": 133,
     "metadata": {},
     "output_type": "execute_result"
    }
   ],
   "source": [
    "from_1000th_case = pd.merge(confirmed_by_country_date, min_date, on = 'Country')\n",
    "from_1000th_case.head()"
   ]
  },
  {
   "cell_type": "code",
   "execution_count": 134,
   "id": "8805c559",
   "metadata": {},
   "outputs": [],
   "source": [
    "from_1000th_case.Date = from_1000th_case.Date.map(lambda d: pd.to_datetime(d.split()[0], format = '%Y-%m-%d').date())\n",
    "from_1000th_case.Min_Date = from_1000th_case.Min_Date.map(lambda d: pd.to_datetime(d.split()[0], format = '%Y-%m-%d').date())"
   ]
  },
  {
   "cell_type": "code",
   "execution_count": 137,
   "id": "e3c43347",
   "metadata": {},
   "outputs": [
    {
     "data": {
      "text/html": [
       "<div>\n",
       "<style scoped>\n",
       "    .dataframe tbody tr th:only-of-type {\n",
       "        vertical-align: middle;\n",
       "    }\n",
       "\n",
       "    .dataframe tbody tr th {\n",
       "        vertical-align: top;\n",
       "    }\n",
       "\n",
       "    .dataframe thead th {\n",
       "        text-align: right;\n",
       "    }\n",
       "</style>\n",
       "<table border=\"1\" class=\"dataframe\">\n",
       "  <thead>\n",
       "    <tr style=\"text-align: right;\">\n",
       "      <th></th>\n",
       "      <th>Country</th>\n",
       "      <th>Date</th>\n",
       "      <th>Confirmed</th>\n",
       "      <th>Min_Date</th>\n",
       "      <th>Num_Days</th>\n",
       "    </tr>\n",
       "  </thead>\n",
       "  <tbody>\n",
       "    <tr>\n",
       "      <th>98910</th>\n",
       "      <td>Tanzania</td>\n",
       "      <td>2021-10-22</td>\n",
       "      <td>26034</td>\n",
       "      <td>2021-07-29</td>\n",
       "      <td>85 days</td>\n",
       "    </tr>\n",
       "    <tr>\n",
       "      <th>81213</th>\n",
       "      <td>Portugal</td>\n",
       "      <td>2020-04-18</td>\n",
       "      <td>19685</td>\n",
       "      <td>2020-03-20</td>\n",
       "      <td>29 days</td>\n",
       "    </tr>\n",
       "    <tr>\n",
       "      <th>95755</th>\n",
       "      <td>Suriname</td>\n",
       "      <td>2021-09-17</td>\n",
       "      <td>36428</td>\n",
       "      <td>2020-07-18</td>\n",
       "      <td>426 days</td>\n",
       "    </tr>\n",
       "    <tr>\n",
       "      <th>66924</th>\n",
       "      <td>Mexico</td>\n",
       "      <td>2022-02-11</td>\n",
       "      <td>5226269</td>\n",
       "      <td>2020-03-30</td>\n",
       "      <td>683 days</td>\n",
       "    </tr>\n",
       "    <tr>\n",
       "      <th>67594</th>\n",
       "      <td>Moldova</td>\n",
       "      <td>2022-02-05</td>\n",
       "      <td>464234</td>\n",
       "      <td>2020-04-07</td>\n",
       "      <td>669 days</td>\n",
       "    </tr>\n",
       "  </tbody>\n",
       "</table>\n",
       "</div>"
      ],
      "text/plain": [
       "        Country        Date  Confirmed    Min_Date Num_Days\n",
       "98910  Tanzania  2021-10-22      26034  2021-07-29  85 days\n",
       "81213  Portugal  2020-04-18      19685  2020-03-20  29 days\n",
       "95755  Suriname  2021-09-17      36428  2020-07-18 426 days\n",
       "66924    Mexico  2022-02-11    5226269  2020-03-30 683 days\n",
       "67594   Moldova  2022-02-05     464234  2020-04-07 669 days"
      ]
     },
     "execution_count": 137,
     "metadata": {},
     "output_type": "execute_result"
    }
   ],
   "source": [
    "from_1000th_case['Num_Days'] = from_1000th_case.Date - from_1000th_case.Min_Date\n",
    "from_1000th_case.sample(5)"
   ]
  },
  {
   "cell_type": "code",
   "execution_count": 138,
   "id": "d181e006",
   "metadata": {},
   "outputs": [
    {
     "data": {
      "text/html": [
       "<div>\n",
       "<style scoped>\n",
       "    .dataframe tbody tr th:only-of-type {\n",
       "        vertical-align: middle;\n",
       "    }\n",
       "\n",
       "    .dataframe tbody tr th {\n",
       "        vertical-align: top;\n",
       "    }\n",
       "\n",
       "    .dataframe thead th {\n",
       "        text-align: right;\n",
       "    }\n",
       "</style>\n",
       "<table border=\"1\" class=\"dataframe\">\n",
       "  <thead>\n",
       "    <tr style=\"text-align: right;\">\n",
       "      <th></th>\n",
       "      <th>Country</th>\n",
       "      <th>Date</th>\n",
       "      <th>Confirmed</th>\n",
       "      <th>Min_Date</th>\n",
       "      <th>Num_Days</th>\n",
       "    </tr>\n",
       "  </thead>\n",
       "  <tbody>\n",
       "    <tr>\n",
       "      <th>0</th>\n",
       "      <td>Afghanistan</td>\n",
       "      <td>2020-04-21</td>\n",
       "      <td>1026</td>\n",
       "      <td>2020-04-21</td>\n",
       "      <td>0</td>\n",
       "    </tr>\n",
       "    <tr>\n",
       "      <th>1</th>\n",
       "      <td>Afghanistan</td>\n",
       "      <td>2020-04-22</td>\n",
       "      <td>1092</td>\n",
       "      <td>2020-04-21</td>\n",
       "      <td>1</td>\n",
       "    </tr>\n",
       "    <tr>\n",
       "      <th>2</th>\n",
       "      <td>Afghanistan</td>\n",
       "      <td>2020-04-23</td>\n",
       "      <td>1176</td>\n",
       "      <td>2020-04-21</td>\n",
       "      <td>2</td>\n",
       "    </tr>\n",
       "    <tr>\n",
       "      <th>3</th>\n",
       "      <td>Afghanistan</td>\n",
       "      <td>2020-04-24</td>\n",
       "      <td>1226</td>\n",
       "      <td>2020-04-21</td>\n",
       "      <td>3</td>\n",
       "    </tr>\n",
       "    <tr>\n",
       "      <th>4</th>\n",
       "      <td>Afghanistan</td>\n",
       "      <td>2020-04-25</td>\n",
       "      <td>1330</td>\n",
       "      <td>2020-04-21</td>\n",
       "      <td>4</td>\n",
       "    </tr>\n",
       "  </tbody>\n",
       "</table>\n",
       "</div>"
      ],
      "text/plain": [
       "       Country        Date  Confirmed    Min_Date  Num_Days\n",
       "0  Afghanistan  2020-04-21       1026  2020-04-21         0\n",
       "1  Afghanistan  2020-04-22       1092  2020-04-21         1\n",
       "2  Afghanistan  2020-04-23       1176  2020-04-21         2\n",
       "3  Afghanistan  2020-04-24       1226  2020-04-21         3\n",
       "4  Afghanistan  2020-04-25       1330  2020-04-21         4"
      ]
     },
     "execution_count": 138,
     "metadata": {},
     "output_type": "execute_result"
    }
   ],
   "source": [
    "from_1000th_case['Num_Days'] = from_1000th_case['Num_Days'].map(lambda p: p.days)\n",
    "from_1000th_case.head()"
   ]
  },
  {
   "cell_type": "code",
   "execution_count": 144,
   "id": "e2b3826d",
   "metadata": {},
   "outputs": [],
   "source": [
    "# fig = px.line(from_1000th_case.sort_values('Confirmed', ascending = False), x = 'Num_Days', y = 'Confirmed', \n",
    "#               color = 'Country', title = 'Number of Days from 1000 Case', height = 600)\n",
    "# fig.show()"
   ]
  },
  {
   "cell_type": "markdown",
   "id": "94f17f1e",
   "metadata": {},
   "source": [
    "### Growth Rate after 10.000 Cases"
   ]
  },
  {
   "cell_type": "code",
   "execution_count": 140,
   "id": "0d699884",
   "metadata": {},
   "outputs": [
    {
     "data": {
      "text/html": [
       "<div>\n",
       "<style scoped>\n",
       "    .dataframe tbody tr th:only-of-type {\n",
       "        vertical-align: middle;\n",
       "    }\n",
       "\n",
       "    .dataframe tbody tr th {\n",
       "        vertical-align: top;\n",
       "    }\n",
       "\n",
       "    .dataframe thead th {\n",
       "        text-align: right;\n",
       "    }\n",
       "</style>\n",
       "<table border=\"1\" class=\"dataframe\">\n",
       "  <thead>\n",
       "    <tr style=\"text-align: right;\">\n",
       "      <th></th>\n",
       "      <th>Country</th>\n",
       "      <th>Date</th>\n",
       "      <th>Confirmed</th>\n",
       "      <th>Min_Date</th>\n",
       "    </tr>\n",
       "  </thead>\n",
       "  <tbody>\n",
       "    <tr>\n",
       "      <th>0</th>\n",
       "      <td>Afghanistan</td>\n",
       "      <td>2020-05-24</td>\n",
       "      <td>10668</td>\n",
       "      <td>2020-05-24</td>\n",
       "    </tr>\n",
       "    <tr>\n",
       "      <th>1</th>\n",
       "      <td>Afghanistan</td>\n",
       "      <td>2020-05-25</td>\n",
       "      <td>11180</td>\n",
       "      <td>2020-05-24</td>\n",
       "    </tr>\n",
       "    <tr>\n",
       "      <th>2</th>\n",
       "      <td>Afghanistan</td>\n",
       "      <td>2020-05-26</td>\n",
       "      <td>11917</td>\n",
       "      <td>2020-05-24</td>\n",
       "    </tr>\n",
       "    <tr>\n",
       "      <th>3</th>\n",
       "      <td>Afghanistan</td>\n",
       "      <td>2020-05-27</td>\n",
       "      <td>12465</td>\n",
       "      <td>2020-05-24</td>\n",
       "    </tr>\n",
       "    <tr>\n",
       "      <th>4</th>\n",
       "      <td>Afghanistan</td>\n",
       "      <td>2020-05-28</td>\n",
       "      <td>13102</td>\n",
       "      <td>2020-05-24</td>\n",
       "    </tr>\n",
       "  </tbody>\n",
       "</table>\n",
       "</div>"
      ],
      "text/plain": [
       "       Country        Date  Confirmed    Min_Date\n",
       "0  Afghanistan  2020-05-24      10668  2020-05-24\n",
       "1  Afghanistan  2020-05-25      11180  2020-05-24\n",
       "2  Afghanistan  2020-05-26      11917  2020-05-24\n",
       "3  Afghanistan  2020-05-27      12465  2020-05-24\n",
       "4  Afghanistan  2020-05-28      13102  2020-05-24"
      ]
     },
     "execution_count": 140,
     "metadata": {},
     "output_type": "execute_result"
    }
   ],
   "source": [
    "gt_10000 = country_daywise[country_daywise.Confirmed > 10000]['Country'].unique()\n",
    "confirmed_gt_10000 = df[df.Country.isin(gt_10000)]\n",
    "confirmed_by_country_date = confirmed_gt_10000.groupby(['Country', 'Date'])['Confirmed'].sum()\n",
    "confirmed_by_country_date = pd.DataFrame(confirmed_by_country_date)\n",
    "confirmed_by_country_date = confirmed_by_country_date[confirmed_by_country_date.Confirmed > 10000]\n",
    "confirmed_by_country_date = confirmed_by_country_date.reset_index()\n",
    "min_date = confirmed_by_country_date.groupby('Country')['Date'].min().reset_index()\n",
    "min_date.columns = ['Country', 'Min_Date']\n",
    "from_10000th_case = pd.merge(confirmed_by_country_date, min_date, on = 'Country')\n",
    "from_10000th_case.head()"
   ]
  },
  {
   "cell_type": "code",
   "execution_count": 152,
   "id": "11964d16",
   "metadata": {},
   "outputs": [
    {
     "name": "stdout",
     "output_type": "stream",
     "text": [
      "Number of countries with more than 10.000 Cases: 171\n"
     ]
    }
   ],
   "source": [
    "print(f'Number of countries with more than 10.000 Cases: {len(gt_10000)}')"
   ]
  },
  {
   "cell_type": "code",
   "execution_count": 141,
   "id": "67d3b29b",
   "metadata": {},
   "outputs": [],
   "source": [
    "from_10000th_case.Date = from_10000th_case.Date.map(lambda d: pd.to_datetime(d.split()[0], format = '%Y-%m-%d').date())\n",
    "from_10000th_case.Min_Date = from_10000th_case.Min_Date.map(lambda d: pd.to_datetime(d.split()[0], format = '%Y-%m-%d').date())"
   ]
  },
  {
   "cell_type": "code",
   "execution_count": 142,
   "id": "144946ad",
   "metadata": {},
   "outputs": [
    {
     "data": {
      "text/html": [
       "<div>\n",
       "<style scoped>\n",
       "    .dataframe tbody tr th:only-of-type {\n",
       "        vertical-align: middle;\n",
       "    }\n",
       "\n",
       "    .dataframe tbody tr th {\n",
       "        vertical-align: top;\n",
       "    }\n",
       "\n",
       "    .dataframe thead th {\n",
       "        text-align: right;\n",
       "    }\n",
       "</style>\n",
       "<table border=\"1\" class=\"dataframe\">\n",
       "  <thead>\n",
       "    <tr style=\"text-align: right;\">\n",
       "      <th></th>\n",
       "      <th>Country</th>\n",
       "      <th>Date</th>\n",
       "      <th>Confirmed</th>\n",
       "      <th>Min_Date</th>\n",
       "      <th>Num_Days</th>\n",
       "    </tr>\n",
       "  </thead>\n",
       "  <tbody>\n",
       "    <tr>\n",
       "      <th>0</th>\n",
       "      <td>Afghanistan</td>\n",
       "      <td>2020-05-24</td>\n",
       "      <td>10668</td>\n",
       "      <td>2020-05-24</td>\n",
       "      <td>0</td>\n",
       "    </tr>\n",
       "    <tr>\n",
       "      <th>1</th>\n",
       "      <td>Afghanistan</td>\n",
       "      <td>2020-05-25</td>\n",
       "      <td>11180</td>\n",
       "      <td>2020-05-24</td>\n",
       "      <td>1</td>\n",
       "    </tr>\n",
       "    <tr>\n",
       "      <th>2</th>\n",
       "      <td>Afghanistan</td>\n",
       "      <td>2020-05-26</td>\n",
       "      <td>11917</td>\n",
       "      <td>2020-05-24</td>\n",
       "      <td>2</td>\n",
       "    </tr>\n",
       "    <tr>\n",
       "      <th>3</th>\n",
       "      <td>Afghanistan</td>\n",
       "      <td>2020-05-27</td>\n",
       "      <td>12465</td>\n",
       "      <td>2020-05-24</td>\n",
       "      <td>3</td>\n",
       "    </tr>\n",
       "    <tr>\n",
       "      <th>4</th>\n",
       "      <td>Afghanistan</td>\n",
       "      <td>2020-05-28</td>\n",
       "      <td>13102</td>\n",
       "      <td>2020-05-24</td>\n",
       "      <td>4</td>\n",
       "    </tr>\n",
       "  </tbody>\n",
       "</table>\n",
       "</div>"
      ],
      "text/plain": [
       "       Country        Date  Confirmed    Min_Date  Num_Days\n",
       "0  Afghanistan  2020-05-24      10668  2020-05-24         0\n",
       "1  Afghanistan  2020-05-25      11180  2020-05-24         1\n",
       "2  Afghanistan  2020-05-26      11917  2020-05-24         2\n",
       "3  Afghanistan  2020-05-27      12465  2020-05-24         3\n",
       "4  Afghanistan  2020-05-28      13102  2020-05-24         4"
      ]
     },
     "execution_count": 142,
     "metadata": {},
     "output_type": "execute_result"
    }
   ],
   "source": [
    "from_10000th_case['Num_Days'] = from_10000th_case.Date - from_10000th_case.Min_Date\n",
    "from_10000th_case['Num_Days'] = from_10000th_case['Num_Days'].map(lambda p: p.days)\n",
    "from_10000th_case.head()"
   ]
  },
  {
   "cell_type": "code",
   "execution_count": 145,
   "id": "2f1f2705",
   "metadata": {},
   "outputs": [],
   "source": [
    "# fig = px.line(from_10000th_case.sort_values('Confirmed', ascending = False), x = 'Num_Days', y = 'Confirmed', \n",
    "#               color = 'Country', title = 'Number of Days from 10000 Case', height = 600)\n",
    "# fig.show()"
   ]
  },
  {
   "cell_type": "markdown",
   "id": "d0592939",
   "metadata": {},
   "source": [
    "### Growth Rate after 100.000 Cases"
   ]
  },
  {
   "cell_type": "code",
   "execution_count": 146,
   "id": "9a4f4060",
   "metadata": {},
   "outputs": [
    {
     "data": {
      "text/html": [
       "<div>\n",
       "<style scoped>\n",
       "    .dataframe tbody tr th:only-of-type {\n",
       "        vertical-align: middle;\n",
       "    }\n",
       "\n",
       "    .dataframe tbody tr th {\n",
       "        vertical-align: top;\n",
       "    }\n",
       "\n",
       "    .dataframe thead th {\n",
       "        text-align: right;\n",
       "    }\n",
       "</style>\n",
       "<table border=\"1\" class=\"dataframe\">\n",
       "  <thead>\n",
       "    <tr style=\"text-align: right;\">\n",
       "      <th></th>\n",
       "      <th>Country</th>\n",
       "      <th>Date</th>\n",
       "      <th>Confirmed</th>\n",
       "      <th>Min_Date</th>\n",
       "    </tr>\n",
       "  </thead>\n",
       "  <tbody>\n",
       "    <tr>\n",
       "      <th>0</th>\n",
       "      <td>Afghanistan</td>\n",
       "      <td>2021-06-19</td>\n",
       "      <td>100521</td>\n",
       "      <td>2021-06-19</td>\n",
       "    </tr>\n",
       "    <tr>\n",
       "      <th>1</th>\n",
       "      <td>Afghanistan</td>\n",
       "      <td>2021-06-20</td>\n",
       "      <td>101906</td>\n",
       "      <td>2021-06-19</td>\n",
       "    </tr>\n",
       "    <tr>\n",
       "      <th>2</th>\n",
       "      <td>Afghanistan</td>\n",
       "      <td>2021-06-21</td>\n",
       "      <td>103902</td>\n",
       "      <td>2021-06-19</td>\n",
       "    </tr>\n",
       "    <tr>\n",
       "      <th>3</th>\n",
       "      <td>Afghanistan</td>\n",
       "      <td>2021-06-22</td>\n",
       "      <td>105749</td>\n",
       "      <td>2021-06-19</td>\n",
       "    </tr>\n",
       "    <tr>\n",
       "      <th>4</th>\n",
       "      <td>Afghanistan</td>\n",
       "      <td>2021-06-23</td>\n",
       "      <td>107957</td>\n",
       "      <td>2021-06-19</td>\n",
       "    </tr>\n",
       "  </tbody>\n",
       "</table>\n",
       "</div>"
      ],
      "text/plain": [
       "       Country        Date  Confirmed    Min_Date\n",
       "0  Afghanistan  2021-06-19     100521  2021-06-19\n",
       "1  Afghanistan  2021-06-20     101906  2021-06-19\n",
       "2  Afghanistan  2021-06-21     103902  2021-06-19\n",
       "3  Afghanistan  2021-06-22     105749  2021-06-19\n",
       "4  Afghanistan  2021-06-23     107957  2021-06-19"
      ]
     },
     "execution_count": 146,
     "metadata": {},
     "output_type": "execute_result"
    }
   ],
   "source": [
    "gt_100000 = country_daywise[country_daywise.Confirmed > 100000]['Country'].unique()\n",
    "confirmed_gt_100000 = df[df.Country.isin(gt_100000)]\n",
    "confirmed_by_country_date = confirmed_gt_100000.groupby(['Country', 'Date'])['Confirmed'].sum()\n",
    "confirmed_by_country_date = pd.DataFrame(confirmed_by_country_date)\n",
    "confirmed_by_country_date = confirmed_by_country_date[confirmed_by_country_date.Confirmed > 100000]\n",
    "confirmed_by_country_date = confirmed_by_country_date.reset_index()\n",
    "min_date = confirmed_by_country_date.groupby('Country')['Date'].min().reset_index()\n",
    "min_date.columns = ['Country', 'Min_Date']\n",
    "from_100000th_case = pd.merge(confirmed_by_country_date, min_date, on = 'Country')\n",
    "from_100000th_case.head()"
   ]
  },
  {
   "cell_type": "code",
   "execution_count": 154,
   "id": "0edd9f09",
   "metadata": {},
   "outputs": [
    {
     "name": "stdout",
     "output_type": "stream",
     "text": [
      "Number of countries with more than 100.000 Cases: 119\n"
     ]
    }
   ],
   "source": [
    "print(f'Number of countries with more than 100.000 Cases: {len(gt_100000)}')"
   ]
  },
  {
   "cell_type": "code",
   "execution_count": 147,
   "id": "f66a0761",
   "metadata": {},
   "outputs": [],
   "source": [
    "from_100000th_case.Date = from_100000th_case.Date.map(lambda d: pd.to_datetime(d.split()[0], format = '%Y-%m-%d').date())\n",
    "from_100000th_case.Min_Date = from_100000th_case.Min_Date.map(lambda d: pd.to_datetime(d.split()[0], format = '%Y-%m-%d').date())"
   ]
  },
  {
   "cell_type": "code",
   "execution_count": 148,
   "id": "6cf68c72",
   "metadata": {},
   "outputs": [
    {
     "data": {
      "text/html": [
       "<div>\n",
       "<style scoped>\n",
       "    .dataframe tbody tr th:only-of-type {\n",
       "        vertical-align: middle;\n",
       "    }\n",
       "\n",
       "    .dataframe tbody tr th {\n",
       "        vertical-align: top;\n",
       "    }\n",
       "\n",
       "    .dataframe thead th {\n",
       "        text-align: right;\n",
       "    }\n",
       "</style>\n",
       "<table border=\"1\" class=\"dataframe\">\n",
       "  <thead>\n",
       "    <tr style=\"text-align: right;\">\n",
       "      <th></th>\n",
       "      <th>Country</th>\n",
       "      <th>Date</th>\n",
       "      <th>Confirmed</th>\n",
       "      <th>Min_Date</th>\n",
       "      <th>Num_Days</th>\n",
       "    </tr>\n",
       "  </thead>\n",
       "  <tbody>\n",
       "    <tr>\n",
       "      <th>0</th>\n",
       "      <td>Afghanistan</td>\n",
       "      <td>2021-06-19</td>\n",
       "      <td>100521</td>\n",
       "      <td>2021-06-19</td>\n",
       "      <td>0</td>\n",
       "    </tr>\n",
       "    <tr>\n",
       "      <th>1</th>\n",
       "      <td>Afghanistan</td>\n",
       "      <td>2021-06-20</td>\n",
       "      <td>101906</td>\n",
       "      <td>2021-06-19</td>\n",
       "      <td>1</td>\n",
       "    </tr>\n",
       "    <tr>\n",
       "      <th>2</th>\n",
       "      <td>Afghanistan</td>\n",
       "      <td>2021-06-21</td>\n",
       "      <td>103902</td>\n",
       "      <td>2021-06-19</td>\n",
       "      <td>2</td>\n",
       "    </tr>\n",
       "    <tr>\n",
       "      <th>3</th>\n",
       "      <td>Afghanistan</td>\n",
       "      <td>2021-06-22</td>\n",
       "      <td>105749</td>\n",
       "      <td>2021-06-19</td>\n",
       "      <td>3</td>\n",
       "    </tr>\n",
       "    <tr>\n",
       "      <th>4</th>\n",
       "      <td>Afghanistan</td>\n",
       "      <td>2021-06-23</td>\n",
       "      <td>107957</td>\n",
       "      <td>2021-06-19</td>\n",
       "      <td>4</td>\n",
       "    </tr>\n",
       "  </tbody>\n",
       "</table>\n",
       "</div>"
      ],
      "text/plain": [
       "       Country        Date  Confirmed    Min_Date  Num_Days\n",
       "0  Afghanistan  2021-06-19     100521  2021-06-19         0\n",
       "1  Afghanistan  2021-06-20     101906  2021-06-19         1\n",
       "2  Afghanistan  2021-06-21     103902  2021-06-19         2\n",
       "3  Afghanistan  2021-06-22     105749  2021-06-19         3\n",
       "4  Afghanistan  2021-06-23     107957  2021-06-19         4"
      ]
     },
     "execution_count": 148,
     "metadata": {},
     "output_type": "execute_result"
    }
   ],
   "source": [
    "from_100000th_case['Num_Days'] = from_100000th_case.Date - from_100000th_case.Min_Date\n",
    "from_100000th_case['Num_Days'] = from_100000th_case['Num_Days'].map(lambda p: p.days)\n",
    "from_100000th_case.head()"
   ]
  },
  {
   "cell_type": "code",
   "execution_count": 156,
   "id": "9ff8fbc9",
   "metadata": {},
   "outputs": [],
   "source": [
    "# fig = px.line(from_100000th_case.sort_values('Confirmed', ascending = False), x = 'Num_Days', y = 'Confirmed', \n",
    "#               color = 'Country', title = 'Number of Days from 100.000 Case', height = 600)\n",
    "# fig.show()"
   ]
  },
  {
   "cell_type": "markdown",
   "id": "f34cec42",
   "metadata": {},
   "source": [
    "### Growth Rate after 1.000.000 Cases"
   ]
  },
  {
   "cell_type": "code",
   "execution_count": 157,
   "id": "5ab10b96",
   "metadata": {},
   "outputs": [
    {
     "name": "stdout",
     "output_type": "stream",
     "text": [
      "Number of countries with more than 1.000.000 Cases: 52\n"
     ]
    },
    {
     "data": {
      "text/html": [
       "<div>\n",
       "<style scoped>\n",
       "    .dataframe tbody tr th:only-of-type {\n",
       "        vertical-align: middle;\n",
       "    }\n",
       "\n",
       "    .dataframe tbody tr th {\n",
       "        vertical-align: top;\n",
       "    }\n",
       "\n",
       "    .dataframe thead th {\n",
       "        text-align: right;\n",
       "    }\n",
       "</style>\n",
       "<table border=\"1\" class=\"dataframe\">\n",
       "  <thead>\n",
       "    <tr style=\"text-align: right;\">\n",
       "      <th></th>\n",
       "      <th>Country</th>\n",
       "      <th>Date</th>\n",
       "      <th>Confirmed</th>\n",
       "      <th>Min_Date</th>\n",
       "    </tr>\n",
       "  </thead>\n",
       "  <tbody>\n",
       "    <tr>\n",
       "      <th>0</th>\n",
       "      <td>Argentina</td>\n",
       "      <td>2020-10-19</td>\n",
       "      <td>1002662</td>\n",
       "      <td>2020-10-19</td>\n",
       "    </tr>\n",
       "    <tr>\n",
       "      <th>1</th>\n",
       "      <td>Argentina</td>\n",
       "      <td>2020-10-20</td>\n",
       "      <td>1018999</td>\n",
       "      <td>2020-10-19</td>\n",
       "    </tr>\n",
       "    <tr>\n",
       "      <th>2</th>\n",
       "      <td>Argentina</td>\n",
       "      <td>2020-10-21</td>\n",
       "      <td>1037325</td>\n",
       "      <td>2020-10-19</td>\n",
       "    </tr>\n",
       "    <tr>\n",
       "      <th>3</th>\n",
       "      <td>Argentina</td>\n",
       "      <td>2020-10-22</td>\n",
       "      <td>1053650</td>\n",
       "      <td>2020-10-19</td>\n",
       "    </tr>\n",
       "    <tr>\n",
       "      <th>4</th>\n",
       "      <td>Argentina</td>\n",
       "      <td>2020-10-23</td>\n",
       "      <td>1069368</td>\n",
       "      <td>2020-10-19</td>\n",
       "    </tr>\n",
       "  </tbody>\n",
       "</table>\n",
       "</div>"
      ],
      "text/plain": [
       "     Country        Date  Confirmed    Min_Date\n",
       "0  Argentina  2020-10-19    1002662  2020-10-19\n",
       "1  Argentina  2020-10-20    1018999  2020-10-19\n",
       "2  Argentina  2020-10-21    1037325  2020-10-19\n",
       "3  Argentina  2020-10-22    1053650  2020-10-19\n",
       "4  Argentina  2020-10-23    1069368  2020-10-19"
      ]
     },
     "execution_count": 157,
     "metadata": {},
     "output_type": "execute_result"
    }
   ],
   "source": [
    "gt_1000000 = country_daywise[country_daywise.Confirmed > 1000000]['Country'].unique()\n",
    "print(f'Number of countries with more than 1.000.000 Cases: {len(gt_1000000)}')\n",
    "confirmed_gt_1000000 = df[df.Country.isin(gt_1000000)]\n",
    "confirmed_by_country_date = confirmed_gt_1000000.groupby(['Country', 'Date'])['Confirmed'].sum()\n",
    "confirmed_by_country_date = pd.DataFrame(confirmed_by_country_date)\n",
    "confirmed_by_country_date = confirmed_by_country_date[confirmed_by_country_date.Confirmed > 1000000]\n",
    "confirmed_by_country_date = confirmed_by_country_date.reset_index()\n",
    "min_date = confirmed_by_country_date.groupby('Country')['Date'].min().reset_index()\n",
    "min_date.columns = ['Country', 'Min_Date']\n",
    "from_1000000th_case = pd.merge(confirmed_by_country_date, min_date, on = 'Country')\n",
    "from_1000000th_case.head()"
   ]
  },
  {
   "cell_type": "code",
   "execution_count": 158,
   "id": "62a59eb8",
   "metadata": {},
   "outputs": [],
   "source": [
    "from_1000000th_case.Date = from_1000000th_case.Date.map(lambda d: pd.to_datetime(d.split()[0], format = '%Y-%m-%d').date())\n",
    "from_1000000th_case.Min_Date = from_1000000th_case.Min_Date.map(lambda d: pd.to_datetime(d.split()[0], format = '%Y-%m-%d').date())"
   ]
  },
  {
   "cell_type": "code",
   "execution_count": 159,
   "id": "a299e4a5",
   "metadata": {},
   "outputs": [
    {
     "data": {
      "text/html": [
       "<div>\n",
       "<style scoped>\n",
       "    .dataframe tbody tr th:only-of-type {\n",
       "        vertical-align: middle;\n",
       "    }\n",
       "\n",
       "    .dataframe tbody tr th {\n",
       "        vertical-align: top;\n",
       "    }\n",
       "\n",
       "    .dataframe thead th {\n",
       "        text-align: right;\n",
       "    }\n",
       "</style>\n",
       "<table border=\"1\" class=\"dataframe\">\n",
       "  <thead>\n",
       "    <tr style=\"text-align: right;\">\n",
       "      <th></th>\n",
       "      <th>Country</th>\n",
       "      <th>Date</th>\n",
       "      <th>Confirmed</th>\n",
       "      <th>Min_Date</th>\n",
       "      <th>Num_Days</th>\n",
       "    </tr>\n",
       "  </thead>\n",
       "  <tbody>\n",
       "    <tr>\n",
       "      <th>0</th>\n",
       "      <td>Argentina</td>\n",
       "      <td>2020-10-19</td>\n",
       "      <td>1002662</td>\n",
       "      <td>2020-10-19</td>\n",
       "      <td>0</td>\n",
       "    </tr>\n",
       "    <tr>\n",
       "      <th>1</th>\n",
       "      <td>Argentina</td>\n",
       "      <td>2020-10-20</td>\n",
       "      <td>1018999</td>\n",
       "      <td>2020-10-19</td>\n",
       "      <td>1</td>\n",
       "    </tr>\n",
       "    <tr>\n",
       "      <th>2</th>\n",
       "      <td>Argentina</td>\n",
       "      <td>2020-10-21</td>\n",
       "      <td>1037325</td>\n",
       "      <td>2020-10-19</td>\n",
       "      <td>2</td>\n",
       "    </tr>\n",
       "    <tr>\n",
       "      <th>3</th>\n",
       "      <td>Argentina</td>\n",
       "      <td>2020-10-22</td>\n",
       "      <td>1053650</td>\n",
       "      <td>2020-10-19</td>\n",
       "      <td>3</td>\n",
       "    </tr>\n",
       "    <tr>\n",
       "      <th>4</th>\n",
       "      <td>Argentina</td>\n",
       "      <td>2020-10-23</td>\n",
       "      <td>1069368</td>\n",
       "      <td>2020-10-19</td>\n",
       "      <td>4</td>\n",
       "    </tr>\n",
       "  </tbody>\n",
       "</table>\n",
       "</div>"
      ],
      "text/plain": [
       "     Country        Date  Confirmed    Min_Date  Num_Days\n",
       "0  Argentina  2020-10-19    1002662  2020-10-19         0\n",
       "1  Argentina  2020-10-20    1018999  2020-10-19         1\n",
       "2  Argentina  2020-10-21    1037325  2020-10-19         2\n",
       "3  Argentina  2020-10-22    1053650  2020-10-19         3\n",
       "4  Argentina  2020-10-23    1069368  2020-10-19         4"
      ]
     },
     "execution_count": 159,
     "metadata": {},
     "output_type": "execute_result"
    }
   ],
   "source": [
    "from_1000000th_case['Num_Days'] = from_1000000th_case.Date - from_1000000th_case.Min_Date\n",
    "from_1000000th_case['Num_Days'] = from_1000000th_case['Num_Days'].map(lambda p: p.days)\n",
    "from_1000000th_case.head()"
   ]
  },
  {
   "cell_type": "code",
   "execution_count": 166,
   "id": "e82ba133",
   "metadata": {},
   "outputs": [],
   "source": [
    "# fig = px.line(from_1000000th_case.sort_values('Confirmed', ascending = False), x = 'Num_Days', y = 'Confirmed', \n",
    "#               color = 'Country', title = 'Number of Days from 1.000.000 Case', height = 600)\n",
    "# fig.show()"
   ]
  },
  {
   "cell_type": "markdown",
   "id": "ad8eda70",
   "metadata": {},
   "source": [
    "### Tree May Analysis\n",
    "#### Confirmed Cases"
   ]
  },
  {
   "cell_type": "code",
   "execution_count": 162,
   "id": "21f30a14",
   "metadata": {},
   "outputs": [
    {
     "data": {
      "text/html": [
       "<div>\n",
       "<style scoped>\n",
       "    .dataframe tbody tr th:only-of-type {\n",
       "        vertical-align: middle;\n",
       "    }\n",
       "\n",
       "    .dataframe tbody tr th {\n",
       "        vertical-align: top;\n",
       "    }\n",
       "\n",
       "    .dataframe thead th {\n",
       "        text-align: right;\n",
       "    }\n",
       "</style>\n",
       "<table border=\"1\" class=\"dataframe\">\n",
       "  <thead>\n",
       "    <tr style=\"text-align: right;\">\n",
       "      <th></th>\n",
       "      <th>Date</th>\n",
       "      <th>ProvinceState</th>\n",
       "      <th>Country</th>\n",
       "      <th>Lat</th>\n",
       "      <th>Long</th>\n",
       "      <th>Confirmed</th>\n",
       "      <th>Recovered</th>\n",
       "      <th>Deaths</th>\n",
       "      <th>Active</th>\n",
       "    </tr>\n",
       "  </thead>\n",
       "  <tbody>\n",
       "    <tr>\n",
       "      <th>150399</th>\n",
       "      <td>2022-02-11</td>\n",
       "      <td>Cook Islands</td>\n",
       "      <td>New Zealand</td>\n",
       "      <td>-21.236700</td>\n",
       "      <td>-159.777700</td>\n",
       "      <td>2</td>\n",
       "      <td>0</td>\n",
       "      <td>0</td>\n",
       "      <td>2</td>\n",
       "    </tr>\n",
       "    <tr>\n",
       "      <th>113551</th>\n",
       "      <td>2022-02-11</td>\n",
       "      <td></td>\n",
       "      <td>Iran</td>\n",
       "      <td>32.427908</td>\n",
       "      <td>53.688046</td>\n",
       "      <td>6761855</td>\n",
       "      <td>0</td>\n",
       "      <td>133437</td>\n",
       "      <td>6628418</td>\n",
       "    </tr>\n",
       "    <tr>\n",
       "      <th>186495</th>\n",
       "      <td>2022-02-11</td>\n",
       "      <td></td>\n",
       "      <td>Tajikistan</td>\n",
       "      <td>38.861000</td>\n",
       "      <td>71.276100</td>\n",
       "      <td>17765</td>\n",
       "      <td>0</td>\n",
       "      <td>125</td>\n",
       "      <td>17640</td>\n",
       "    </tr>\n",
       "    <tr>\n",
       "      <th>159423</th>\n",
       "      <td>2022-02-11</td>\n",
       "      <td></td>\n",
       "      <td>Paraguay</td>\n",
       "      <td>-23.442500</td>\n",
       "      <td>-58.443800</td>\n",
       "      <td>620708</td>\n",
       "      <td>0</td>\n",
       "      <td>17844</td>\n",
       "      <td>602864</td>\n",
       "    </tr>\n",
       "    <tr>\n",
       "      <th>139871</th>\n",
       "      <td>2022-02-11</td>\n",
       "      <td></td>\n",
       "      <td>Micronesia</td>\n",
       "      <td>7.425600</td>\n",
       "      <td>150.550800</td>\n",
       "      <td>1</td>\n",
       "      <td>0</td>\n",
       "      <td>0</td>\n",
       "      <td>1</td>\n",
       "    </tr>\n",
       "  </tbody>\n",
       "</table>\n",
       "</div>"
      ],
      "text/plain": [
       "              Date ProvinceState      Country        Lat        Long  \\\n",
       "150399  2022-02-11  Cook Islands  New Zealand -21.236700 -159.777700   \n",
       "113551  2022-02-11                       Iran  32.427908   53.688046   \n",
       "186495  2022-02-11                 Tajikistan  38.861000   71.276100   \n",
       "159423  2022-02-11                   Paraguay -23.442500  -58.443800   \n",
       "139871  2022-02-11                 Micronesia   7.425600  150.550800   \n",
       "\n",
       "        Confirmed  Recovered  Deaths   Active  \n",
       "150399          2          0       0        2  \n",
       "113551    6761855          0  133437  6628418  \n",
       "186495      17765          0     125    17640  \n",
       "159423     620708          0   17844   602864  \n",
       "139871          1          0       0        1  "
      ]
     },
     "execution_count": 162,
     "metadata": {},
     "output_type": "execute_result"
    }
   ],
   "source": [
    "full_latest = df[df.Date == max(df.Date)]        # the latest date's data\n",
    "full_latest.sample(5)"
   ]
  },
  {
   "cell_type": "code",
   "execution_count": 163,
   "id": "ee739b61",
   "metadata": {},
   "outputs": [
    {
     "data": {
      "application/vnd.plotly.v1+json": {
       "config": {
        "plotlyServerURL": "https://plot.ly"
       },
       "data": [
        {
         "branchvalues": "total",
         "domain": {
          "x": [
           0,
           1
          ],
          "y": [
           0,
           1
          ]
         },
         "hovertemplate": "labels=%{label}<br>Confirmed=%{value}<br>parent=%{parent}<br>id=%{id}<extra></extra>",
         "ids": [
          "Afghanistan/",
          "Albania/",
          "Algeria/",
          "Andorra/",
          "Angola/",
          "Antarctica/",
          "Antigua and Barbuda/",
          "Argentina/",
          "Armenia/",
          "Austria/",
          "Azerbaijan/",
          "Bahamas/",
          "Bahrain/",
          "Bangladesh/",
          "Barbados/",
          "Belarus/",
          "Belgium/",
          "Belize/",
          "Benin/",
          "Bhutan/",
          "Bolivia/",
          "Bosnia and Herzegovina/",
          "Botswana/",
          "Brazil/",
          "Brunei/",
          "Bulgaria/",
          "Burkina Faso/",
          "Burma/",
          "Burundi/",
          "Cabo Verde/",
          "Cambodia/",
          "Cameroon/",
          "Canada/",
          "Central African Republic/",
          "Chad/",
          "Chile/",
          "Colombia/",
          "Comoros/",
          "Congo (Brazzaville)/",
          "Congo (Kinshasa)/",
          "Costa Rica/",
          "Cote d'Ivoire/",
          "Croatia/",
          "Cuba/",
          "Cyprus/",
          "Czechia/",
          "Denmark/",
          "Diamond Princess/",
          "Djibouti/",
          "Dominica/",
          "Dominican Republic/",
          "Ecuador/",
          "Egypt/",
          "El Salvador/",
          "Equatorial Guinea/",
          "Eritrea/",
          "Estonia/",
          "Eswatini/",
          "Ethiopia/",
          "Fiji/",
          "Finland/",
          "France/",
          "Gabon/",
          "Gambia/",
          "Georgia/",
          "Germany/",
          "Ghana/",
          "Greece/",
          "Grenada/",
          "Guatemala/",
          "Guinea/",
          "Guinea-Bissau/",
          "Guyana/",
          "Haiti/",
          "Holy See/",
          "Honduras/",
          "Hungary/",
          "Iceland/",
          "India/",
          "Indonesia/",
          "Iran/",
          "Iraq/",
          "Ireland/",
          "Israel/",
          "Italy/",
          "Jamaica/",
          "Japan/",
          "Jordan/",
          "Kazakhstan/",
          "Kenya/",
          "Kiribati/",
          "Korea, South/",
          "Kosovo/",
          "Kuwait/",
          "Kyrgyzstan/",
          "Laos/",
          "Latvia/",
          "Lebanon/",
          "Lesotho/",
          "Liberia/",
          "Libya/",
          "Liechtenstein/",
          "Lithuania/",
          "Luxembourg/",
          "MS Zaandam/",
          "Madagascar/",
          "Malawi/",
          "Malaysia/",
          "Maldives/",
          "Mali/",
          "Malta/",
          "Marshall Islands/",
          "Mauritania/",
          "Mauritius/",
          "Mexico/",
          "Micronesia/",
          "Moldova/",
          "Monaco/",
          "Mongolia/",
          "Montenegro/",
          "Morocco/",
          "Mozambique/",
          "Namibia/",
          "Nepal/",
          "Netherlands/",
          "New Zealand/",
          "Nicaragua/",
          "Niger/",
          "Nigeria/",
          "North Macedonia/",
          "Norway/",
          "Oman/",
          "Pakistan/",
          "Palau/",
          "Panama/",
          "Papua New Guinea/",
          "Paraguay/",
          "Peru/",
          "Philippines/",
          "Poland/",
          "Portugal/",
          "Qatar/",
          "Romania/",
          "Russia/",
          "Rwanda/",
          "Saint Kitts and Nevis/",
          "Saint Lucia/",
          "Saint Vincent and the Grenadines/",
          "Samoa/",
          "San Marino/",
          "Sao Tome and Principe/",
          "Saudi Arabia/",
          "Senegal/",
          "Serbia/",
          "Seychelles/",
          "Sierra Leone/",
          "Singapore/",
          "Slovakia/",
          "Slovenia/",
          "Solomon Islands/",
          "Somalia/",
          "South Africa/",
          "South Sudan/",
          "Spain/",
          "Sri Lanka/",
          "Sudan/",
          "Summer Olympics 2020/",
          "Suriname/",
          "Sweden/",
          "Switzerland/",
          "Syria/",
          "Taiwan*/",
          "Tajikistan/",
          "Tanzania/",
          "Thailand/",
          "Timor-Leste/",
          "Togo/",
          "Tonga/",
          "Trinidad and Tobago/",
          "Tunisia/",
          "Turkey/",
          "US/",
          "Uganda/",
          "Ukraine/",
          "United Arab Emirates/",
          "United Kingdom/",
          "Uruguay/",
          "Uzbekistan/",
          "Vanuatu/",
          "Venezuela/",
          "Vietnam/",
          "West Bank and Gaza/",
          "Winter Olympics 2022/",
          "Yemen/",
          "Zambia/",
          "Zimbabwe/",
          "Canada/Alberta",
          "United Kingdom/Anguilla",
          "China/Anhui",
          "Netherlands/Aruba",
          "Australia/Australian Capital Territory",
          "China/Beijing",
          "United Kingdom/Bermuda",
          "Netherlands/Bonaire, Sint Eustatius and Saba",
          "Canada/British Columbia",
          "United Kingdom/British Virgin Islands",
          "United Kingdom/Cayman Islands",
          "United Kingdom/Channel Islands",
          "China/Chongqing",
          "New Zealand/Cook Islands",
          "Netherlands/Curacao",
          "Canada/Diamond Princess",
          "United Kingdom/Falkland Islands (Malvinas)",
          "Denmark/Faroe Islands",
          "France/French Guiana",
          "France/French Polynesia",
          "China/Fujian",
          "China/Gansu",
          "United Kingdom/Gibraltar",
          "Canada/Grand Princess",
          "Denmark/Greenland",
          "France/Guadeloupe",
          "China/Guangdong",
          "China/Guangxi",
          "China/Guizhou",
          "China/Hainan",
          "China/Hebei",
          "China/Heilongjiang",
          "China/Henan",
          "China/Hong Kong",
          "China/Hubei",
          "China/Hunan",
          "China/Inner Mongolia",
          "United Kingdom/Isle of Man",
          "China/Jiangsu",
          "China/Jiangxi",
          "China/Jilin",
          "China/Liaoning",
          "China/Macau",
          "Canada/Manitoba",
          "France/Martinique",
          "France/Mayotte",
          "United Kingdom/Montserrat",
          "Canada/New Brunswick",
          "France/New Caledonia",
          "Australia/New South Wales",
          "Canada/Newfoundland and Labrador",
          "China/Ningxia",
          "Australia/Northern Territory",
          "Canada/Northwest Territories",
          "Canada/Nova Scotia",
          "Canada/Nunavut",
          "Canada/Ontario",
          "Canada/Prince Edward Island",
          "China/Qinghai",
          "Canada/Quebec",
          "Australia/Queensland",
          "Canada/Repatriated Travellers",
          "France/Reunion",
          "France/Saint Barthelemy",
          "United Kingdom/Saint Helena, Ascension and Tristan da Cunha",
          "France/Saint Pierre and Miquelon",
          "Canada/Saskatchewan",
          "China/Shaanxi",
          "China/Shandong",
          "China/Shanghai",
          "China/Shanxi",
          "China/Sichuan",
          "Netherlands/Sint Maarten",
          "Australia/South Australia",
          "France/St Martin",
          "Australia/Tasmania",
          "China/Tianjin",
          "China/Tibet",
          "United Kingdom/Turks and Caicos Islands",
          "China/Unknown",
          "Australia/Victoria",
          "France/Wallis and Futuna",
          "Australia/Western Australia",
          "China/Xinjiang",
          "Canada/Yukon",
          "China/Yunnan",
          "China/Zhejiang",
          "Afghanistan",
          "Albania",
          "Algeria",
          "Andorra",
          "Angola",
          "Antarctica",
          "Antigua and Barbuda",
          "Argentina",
          "Armenia",
          "Australia",
          "Austria",
          "Azerbaijan",
          "Bahamas",
          "Bahrain",
          "Bangladesh",
          "Barbados",
          "Belarus",
          "Belgium",
          "Belize",
          "Benin",
          "Bhutan",
          "Bolivia",
          "Bosnia and Herzegovina",
          "Botswana",
          "Brazil",
          "Brunei",
          "Bulgaria",
          "Burkina Faso",
          "Burma",
          "Burundi",
          "Cabo Verde",
          "Cambodia",
          "Cameroon",
          "Canada",
          "Central African Republic",
          "Chad",
          "Chile",
          "China",
          "Colombia",
          "Comoros",
          "Congo (Brazzaville)",
          "Congo (Kinshasa)",
          "Costa Rica",
          "Cote d'Ivoire",
          "Croatia",
          "Cuba",
          "Cyprus",
          "Czechia",
          "Denmark",
          "Diamond Princess",
          "Djibouti",
          "Dominica",
          "Dominican Republic",
          "Ecuador",
          "Egypt",
          "El Salvador",
          "Equatorial Guinea",
          "Eritrea",
          "Estonia",
          "Eswatini",
          "Ethiopia",
          "Fiji",
          "Finland",
          "France",
          "Gabon",
          "Gambia",
          "Georgia",
          "Germany",
          "Ghana",
          "Greece",
          "Grenada",
          "Guatemala",
          "Guinea",
          "Guinea-Bissau",
          "Guyana",
          "Haiti",
          "Holy See",
          "Honduras",
          "Hungary",
          "Iceland",
          "India",
          "Indonesia",
          "Iran",
          "Iraq",
          "Ireland",
          "Israel",
          "Italy",
          "Jamaica",
          "Japan",
          "Jordan",
          "Kazakhstan",
          "Kenya",
          "Kiribati",
          "Korea, South",
          "Kosovo",
          "Kuwait",
          "Kyrgyzstan",
          "Laos",
          "Latvia",
          "Lebanon",
          "Lesotho",
          "Liberia",
          "Libya",
          "Liechtenstein",
          "Lithuania",
          "Luxembourg",
          "MS Zaandam",
          "Madagascar",
          "Malawi",
          "Malaysia",
          "Maldives",
          "Mali",
          "Malta",
          "Marshall Islands",
          "Mauritania",
          "Mauritius",
          "Mexico",
          "Micronesia",
          "Moldova",
          "Monaco",
          "Mongolia",
          "Montenegro",
          "Morocco",
          "Mozambique",
          "Namibia",
          "Nepal",
          "Netherlands",
          "New Zealand",
          "Nicaragua",
          "Niger",
          "Nigeria",
          "North Macedonia",
          "Norway",
          "Oman",
          "Pakistan",
          "Palau",
          "Panama",
          "Papua New Guinea",
          "Paraguay",
          "Peru",
          "Philippines",
          "Poland",
          "Portugal",
          "Qatar",
          "Romania",
          "Russia",
          "Rwanda",
          "Saint Kitts and Nevis",
          "Saint Lucia",
          "Saint Vincent and the Grenadines",
          "Samoa",
          "San Marino",
          "Sao Tome and Principe",
          "Saudi Arabia",
          "Senegal",
          "Serbia",
          "Seychelles",
          "Sierra Leone",
          "Singapore",
          "Slovakia",
          "Slovenia",
          "Solomon Islands",
          "Somalia",
          "South Africa",
          "South Sudan",
          "Spain",
          "Sri Lanka",
          "Sudan",
          "Summer Olympics 2020",
          "Suriname",
          "Sweden",
          "Switzerland",
          "Syria",
          "Taiwan*",
          "Tajikistan",
          "Tanzania",
          "Thailand",
          "Timor-Leste",
          "Togo",
          "Tonga",
          "Trinidad and Tobago",
          "Tunisia",
          "Turkey",
          "US",
          "Uganda",
          "Ukraine",
          "United Arab Emirates",
          "United Kingdom",
          "Uruguay",
          "Uzbekistan",
          "Vanuatu",
          "Venezuela",
          "Vietnam",
          "West Bank and Gaza",
          "Winter Olympics 2022",
          "Yemen",
          "Zambia",
          "Zimbabwe"
         ],
         "labels": [
          "",
          "",
          "",
          "",
          "",
          "",
          "",
          "",
          "",
          "",
          "",
          "",
          "",
          "",
          "",
          "",
          "",
          "",
          "",
          "",
          "",
          "",
          "",
          "",
          "",
          "",
          "",
          "",
          "",
          "",
          "",
          "",
          "",
          "",
          "",
          "",
          "",
          "",
          "",
          "",
          "",
          "",
          "",
          "",
          "",
          "",
          "",
          "",
          "",
          "",
          "",
          "",
          "",
          "",
          "",
          "",
          "",
          "",
          "",
          "",
          "",
          "",
          "",
          "",
          "",
          "",
          "",
          "",
          "",
          "",
          "",
          "",
          "",
          "",
          "",
          "",
          "",
          "",
          "",
          "",
          "",
          "",
          "",
          "",
          "",
          "",
          "",
          "",
          "",
          "",
          "",
          "",
          "",
          "",
          "",
          "",
          "",
          "",
          "",
          "",
          "",
          "",
          "",
          "",
          "",
          "",
          "",
          "",
          "",
          "",
          "",
          "",
          "",
          "",
          "",
          "",
          "",
          "",
          "",
          "",
          "",
          "",
          "",
          "",
          "",
          "",
          "",
          "",
          "",
          "",
          "",
          "",
          "",
          "",
          "",
          "",
          "",
          "",
          "",
          "",
          "",
          "",
          "",
          "",
          "",
          "",
          "",
          "",
          "",
          "",
          "",
          "",
          "",
          "",
          "",
          "",
          "",
          "",
          "",
          "",
          "",
          "",
          "",
          "",
          "",
          "",
          "",
          "",
          "",
          "",
          "",
          "",
          "",
          "",
          "",
          "",
          "",
          "",
          "",
          "",
          "",
          "",
          "",
          "",
          "",
          "",
          "",
          "",
          "",
          "",
          "",
          "",
          "",
          "",
          "",
          "",
          "Alberta",
          "Anguilla",
          "Anhui",
          "Aruba",
          "Australian Capital Territory",
          "Beijing",
          "Bermuda",
          "Bonaire, Sint Eustatius and Saba",
          "British Columbia",
          "British Virgin Islands",
          "Cayman Islands",
          "Channel Islands",
          "Chongqing",
          "Cook Islands",
          "Curacao",
          "Diamond Princess",
          "Falkland Islands (Malvinas)",
          "Faroe Islands",
          "French Guiana",
          "French Polynesia",
          "Fujian",
          "Gansu",
          "Gibraltar",
          "Grand Princess",
          "Greenland",
          "Guadeloupe",
          "Guangdong",
          "Guangxi",
          "Guizhou",
          "Hainan",
          "Hebei",
          "Heilongjiang",
          "Henan",
          "Hong Kong",
          "Hubei",
          "Hunan",
          "Inner Mongolia",
          "Isle of Man",
          "Jiangsu",
          "Jiangxi",
          "Jilin",
          "Liaoning",
          "Macau",
          "Manitoba",
          "Martinique",
          "Mayotte",
          "Montserrat",
          "New Brunswick",
          "New Caledonia",
          "New South Wales",
          "Newfoundland and Labrador",
          "Ningxia",
          "Northern Territory",
          "Northwest Territories",
          "Nova Scotia",
          "Nunavut",
          "Ontario",
          "Prince Edward Island",
          "Qinghai",
          "Quebec",
          "Queensland",
          "Repatriated Travellers",
          "Reunion",
          "Saint Barthelemy",
          "Saint Helena, Ascension and Tristan da Cunha",
          "Saint Pierre and Miquelon",
          "Saskatchewan",
          "Shaanxi",
          "Shandong",
          "Shanghai",
          "Shanxi",
          "Sichuan",
          "Sint Maarten",
          "South Australia",
          "St Martin",
          "Tasmania",
          "Tianjin",
          "Tibet",
          "Turks and Caicos Islands",
          "Unknown",
          "Victoria",
          "Wallis and Futuna",
          "Western Australia",
          "Xinjiang",
          "Yukon",
          "Yunnan",
          "Zhejiang",
          "Afghanistan",
          "Albania",
          "Algeria",
          "Andorra",
          "Angola",
          "Antarctica",
          "Antigua and Barbuda",
          "Argentina",
          "Armenia",
          "Australia",
          "Austria",
          "Azerbaijan",
          "Bahamas",
          "Bahrain",
          "Bangladesh",
          "Barbados",
          "Belarus",
          "Belgium",
          "Belize",
          "Benin",
          "Bhutan",
          "Bolivia",
          "Bosnia and Herzegovina",
          "Botswana",
          "Brazil",
          "Brunei",
          "Bulgaria",
          "Burkina Faso",
          "Burma",
          "Burundi",
          "Cabo Verde",
          "Cambodia",
          "Cameroon",
          "Canada",
          "Central African Republic",
          "Chad",
          "Chile",
          "China",
          "Colombia",
          "Comoros",
          "Congo (Brazzaville)",
          "Congo (Kinshasa)",
          "Costa Rica",
          "Cote d'Ivoire",
          "Croatia",
          "Cuba",
          "Cyprus",
          "Czechia",
          "Denmark",
          "Diamond Princess",
          "Djibouti",
          "Dominica",
          "Dominican Republic",
          "Ecuador",
          "Egypt",
          "El Salvador",
          "Equatorial Guinea",
          "Eritrea",
          "Estonia",
          "Eswatini",
          "Ethiopia",
          "Fiji",
          "Finland",
          "France",
          "Gabon",
          "Gambia",
          "Georgia",
          "Germany",
          "Ghana",
          "Greece",
          "Grenada",
          "Guatemala",
          "Guinea",
          "Guinea-Bissau",
          "Guyana",
          "Haiti",
          "Holy See",
          "Honduras",
          "Hungary",
          "Iceland",
          "India",
          "Indonesia",
          "Iran",
          "Iraq",
          "Ireland",
          "Israel",
          "Italy",
          "Jamaica",
          "Japan",
          "Jordan",
          "Kazakhstan",
          "Kenya",
          "Kiribati",
          "Korea, South",
          "Kosovo",
          "Kuwait",
          "Kyrgyzstan",
          "Laos",
          "Latvia",
          "Lebanon",
          "Lesotho",
          "Liberia",
          "Libya",
          "Liechtenstein",
          "Lithuania",
          "Luxembourg",
          "MS Zaandam",
          "Madagascar",
          "Malawi",
          "Malaysia",
          "Maldives",
          "Mali",
          "Malta",
          "Marshall Islands",
          "Mauritania",
          "Mauritius",
          "Mexico",
          "Micronesia",
          "Moldova",
          "Monaco",
          "Mongolia",
          "Montenegro",
          "Morocco",
          "Mozambique",
          "Namibia",
          "Nepal",
          "Netherlands",
          "New Zealand",
          "Nicaragua",
          "Niger",
          "Nigeria",
          "North Macedonia",
          "Norway",
          "Oman",
          "Pakistan",
          "Palau",
          "Panama",
          "Papua New Guinea",
          "Paraguay",
          "Peru",
          "Philippines",
          "Poland",
          "Portugal",
          "Qatar",
          "Romania",
          "Russia",
          "Rwanda",
          "Saint Kitts and Nevis",
          "Saint Lucia",
          "Saint Vincent and the Grenadines",
          "Samoa",
          "San Marino",
          "Sao Tome and Principe",
          "Saudi Arabia",
          "Senegal",
          "Serbia",
          "Seychelles",
          "Sierra Leone",
          "Singapore",
          "Slovakia",
          "Slovenia",
          "Solomon Islands",
          "Somalia",
          "South Africa",
          "South Sudan",
          "Spain",
          "Sri Lanka",
          "Sudan",
          "Summer Olympics 2020",
          "Suriname",
          "Sweden",
          "Switzerland",
          "Syria",
          "Taiwan*",
          "Tajikistan",
          "Tanzania",
          "Thailand",
          "Timor-Leste",
          "Togo",
          "Tonga",
          "Trinidad and Tobago",
          "Tunisia",
          "Turkey",
          "US",
          "Uganda",
          "Ukraine",
          "United Arab Emirates",
          "United Kingdom",
          "Uruguay",
          "Uzbekistan",
          "Vanuatu",
          "Venezuela",
          "Vietnam",
          "West Bank and Gaza",
          "Winter Olympics 2022",
          "Yemen",
          "Zambia",
          "Zimbabwe"
         ],
         "name": "",
         "parents": [
          "Afghanistan",
          "Albania",
          "Algeria",
          "Andorra",
          "Angola",
          "Antarctica",
          "Antigua and Barbuda",
          "Argentina",
          "Armenia",
          "Austria",
          "Azerbaijan",
          "Bahamas",
          "Bahrain",
          "Bangladesh",
          "Barbados",
          "Belarus",
          "Belgium",
          "Belize",
          "Benin",
          "Bhutan",
          "Bolivia",
          "Bosnia and Herzegovina",
          "Botswana",
          "Brazil",
          "Brunei",
          "Bulgaria",
          "Burkina Faso",
          "Burma",
          "Burundi",
          "Cabo Verde",
          "Cambodia",
          "Cameroon",
          "Canada",
          "Central African Republic",
          "Chad",
          "Chile",
          "Colombia",
          "Comoros",
          "Congo (Brazzaville)",
          "Congo (Kinshasa)",
          "Costa Rica",
          "Cote d'Ivoire",
          "Croatia",
          "Cuba",
          "Cyprus",
          "Czechia",
          "Denmark",
          "Diamond Princess",
          "Djibouti",
          "Dominica",
          "Dominican Republic",
          "Ecuador",
          "Egypt",
          "El Salvador",
          "Equatorial Guinea",
          "Eritrea",
          "Estonia",
          "Eswatini",
          "Ethiopia",
          "Fiji",
          "Finland",
          "France",
          "Gabon",
          "Gambia",
          "Georgia",
          "Germany",
          "Ghana",
          "Greece",
          "Grenada",
          "Guatemala",
          "Guinea",
          "Guinea-Bissau",
          "Guyana",
          "Haiti",
          "Holy See",
          "Honduras",
          "Hungary",
          "Iceland",
          "India",
          "Indonesia",
          "Iran",
          "Iraq",
          "Ireland",
          "Israel",
          "Italy",
          "Jamaica",
          "Japan",
          "Jordan",
          "Kazakhstan",
          "Kenya",
          "Kiribati",
          "Korea, South",
          "Kosovo",
          "Kuwait",
          "Kyrgyzstan",
          "Laos",
          "Latvia",
          "Lebanon",
          "Lesotho",
          "Liberia",
          "Libya",
          "Liechtenstein",
          "Lithuania",
          "Luxembourg",
          "MS Zaandam",
          "Madagascar",
          "Malawi",
          "Malaysia",
          "Maldives",
          "Mali",
          "Malta",
          "Marshall Islands",
          "Mauritania",
          "Mauritius",
          "Mexico",
          "Micronesia",
          "Moldova",
          "Monaco",
          "Mongolia",
          "Montenegro",
          "Morocco",
          "Mozambique",
          "Namibia",
          "Nepal",
          "Netherlands",
          "New Zealand",
          "Nicaragua",
          "Niger",
          "Nigeria",
          "North Macedonia",
          "Norway",
          "Oman",
          "Pakistan",
          "Palau",
          "Panama",
          "Papua New Guinea",
          "Paraguay",
          "Peru",
          "Philippines",
          "Poland",
          "Portugal",
          "Qatar",
          "Romania",
          "Russia",
          "Rwanda",
          "Saint Kitts and Nevis",
          "Saint Lucia",
          "Saint Vincent and the Grenadines",
          "Samoa",
          "San Marino",
          "Sao Tome and Principe",
          "Saudi Arabia",
          "Senegal",
          "Serbia",
          "Seychelles",
          "Sierra Leone",
          "Singapore",
          "Slovakia",
          "Slovenia",
          "Solomon Islands",
          "Somalia",
          "South Africa",
          "South Sudan",
          "Spain",
          "Sri Lanka",
          "Sudan",
          "Summer Olympics 2020",
          "Suriname",
          "Sweden",
          "Switzerland",
          "Syria",
          "Taiwan*",
          "Tajikistan",
          "Tanzania",
          "Thailand",
          "Timor-Leste",
          "Togo",
          "Tonga",
          "Trinidad and Tobago",
          "Tunisia",
          "Turkey",
          "US",
          "Uganda",
          "Ukraine",
          "United Arab Emirates",
          "United Kingdom",
          "Uruguay",
          "Uzbekistan",
          "Vanuatu",
          "Venezuela",
          "Vietnam",
          "West Bank and Gaza",
          "Winter Olympics 2022",
          "Yemen",
          "Zambia",
          "Zimbabwe",
          "Canada",
          "United Kingdom",
          "China",
          "Netherlands",
          "Australia",
          "China",
          "United Kingdom",
          "Netherlands",
          "Canada",
          "United Kingdom",
          "United Kingdom",
          "United Kingdom",
          "China",
          "New Zealand",
          "Netherlands",
          "Canada",
          "United Kingdom",
          "Denmark",
          "France",
          "France",
          "China",
          "China",
          "United Kingdom",
          "Canada",
          "Denmark",
          "France",
          "China",
          "China",
          "China",
          "China",
          "China",
          "China",
          "China",
          "China",
          "China",
          "China",
          "China",
          "United Kingdom",
          "China",
          "China",
          "China",
          "China",
          "China",
          "Canada",
          "France",
          "France",
          "United Kingdom",
          "Canada",
          "France",
          "Australia",
          "Canada",
          "China",
          "Australia",
          "Canada",
          "Canada",
          "Canada",
          "Canada",
          "Canada",
          "China",
          "Canada",
          "Australia",
          "Canada",
          "France",
          "France",
          "United Kingdom",
          "France",
          "Canada",
          "China",
          "China",
          "China",
          "China",
          "China",
          "Netherlands",
          "Australia",
          "France",
          "Australia",
          "China",
          "China",
          "United Kingdom",
          "China",
          "Australia",
          "France",
          "Australia",
          "China",
          "Canada",
          "China",
          "China",
          "",
          "",
          "",
          "",
          "",
          "",
          "",
          "",
          "",
          "",
          "",
          "",
          "",
          "",
          "",
          "",
          "",
          "",
          "",
          "",
          "",
          "",
          "",
          "",
          "",
          "",
          "",
          "",
          "",
          "",
          "",
          "",
          "",
          "",
          "",
          "",
          "",
          "",
          "",
          "",
          "",
          "",
          "",
          "",
          "",
          "",
          "",
          "",
          "",
          "",
          "",
          "",
          "",
          "",
          "",
          "",
          "",
          "",
          "",
          "",
          "",
          "",
          "",
          "",
          "",
          "",
          "",
          "",
          "",
          "",
          "",
          "",
          "",
          "",
          "",
          "",
          "",
          "",
          "",
          "",
          "",
          "",
          "",
          "",
          "",
          "",
          "",
          "",
          "",
          "",
          "",
          "",
          "",
          "",
          "",
          "",
          "",
          "",
          "",
          "",
          "",
          "",
          "",
          "",
          "",
          "",
          "",
          "",
          "",
          "",
          "",
          "",
          "",
          "",
          "",
          "",
          "",
          "",
          "",
          "",
          "",
          "",
          "",
          "",
          "",
          "",
          "",
          "",
          "",
          "",
          "",
          "",
          "",
          "",
          "",
          "",
          "",
          "",
          "",
          "",
          "",
          "",
          "",
          "",
          "",
          "",
          "",
          "",
          "",
          "",
          "",
          "",
          "",
          "",
          "",
          "",
          "",
          "",
          "",
          "",
          "",
          "",
          "",
          "",
          "",
          "",
          "",
          "",
          "",
          "",
          "",
          "",
          "",
          "",
          "",
          "",
          "",
          "",
          "",
          "",
          "",
          "",
          "",
          "",
          "",
          "",
          "",
          "",
          "",
          "",
          "",
          "",
          "",
          "",
          "",
          "",
          "",
          ""
         ],
         "textinfo": "label+text+value",
         "type": "treemap",
         "values": [
          169940,
          267020,
          260723,
          37140,
          98501,
          11,
          7331,
          8716940,
          402403,
          2217585,
          732380,
          32903,
          453916,
          1899803,
          50880,
          814262,
          3421081,
          55183,
          26552,
          6964,
          880891,
          362527,
          259655,
          27299336,
          20454,
          1031660,
          20699,
          543511,
          37856,
          55833,
          122742,
          118675,
          0,
          14154,
          7216,
          2545819,
          6007991,
          7998,
          23860,
          85776,
          757093,
          81109,
          1009973,
          1058946,
          285943,
          3363053,
          2244726,
          712,
          15530,
          10311,
          567895,
          781470,
          450676,
          135109,
          15853,
          9662,
          410210,
          68762,
          467288,
          63476,
          569973,
          20957064,
          47399,
          11911,
          1418027,
          12274653,
          157751,
          2146798,
          13172,
          729977,
          36329,
          7820,
          62156,
          29939,
          29,
          391874,
          1695991,
          85980,
          42586544,
          4708043,
          6761855,
          2271521,
          1242806,
          3374697,
          11991109,
          126732,
          3774164,
          1436762,
          1375330,
          322388,
          2316,
          1294205,
          221696,
          596785,
          199890,
          138431,
          500126,
          1006109,
          32372,
          7358,
          466666,
          10411,
          797492,
          173419,
          9,
          61434,
          84974,
          2996361,
          156903,
          30257,
          69794,
          7,
          58557,
          70862,
          5226269,
          1,
          480289,
          8988,
          875440,
          225740,
          1153562,
          224603,
          156604,
          972141,
          5603964,
          19777,
          17791,
          8707,
          253923,
          284875,
          1009926,
          360999,
          1480592,
          3119,
          739770,
          38222,
          620708,
          3411201,
          3630637,
          5328492,
          3049692,
          349581,
          2531597,
          13526183,
          129278,
          5497,
          21932,
          8144,
          33,
          13861,
          5919,
          724525,
          85346,
          1826787,
          38395,
          7648,
          449570,
          1818532,
          836088,
          4302,
          26203,
          3637673,
          16880,
          10604200,
          625804,
          59525,
          865,
          76876,
          2397330,
          2537734,
          52504,
          19455,
          17765,
          33436,
          2577445,
          21401,
          36630,
          73,
          119226,
          961877,
          12748341,
          77652197,
          162639,
          4668581,
          865576,
          18220515,
          765960,
          232496,
          7,
          501586,
          2457170,
          600128,
          490,
          11659,
          309013,
          231214,
          514165,
          2458,
          1009,
          33455,
          40946,
          1365,
          11146,
          7367,
          338585,
          5928,
          17687,
          46366,
          613,
          2,
          38267,
          0,
          98,
          27701,
          76893,
          53853,
          1487,
          356,
          14284,
          13,
          11409,
          112668,
          3925,
          978,
          162,
          190,
          1476,
          2065,
          2662,
          16583,
          68320,
          1231,
          1191,
          22091,
          1631,
          959,
          594,
          847,
          79,
          125844,
          102746,
          36572,
          163,
          32307,
          35043,
          1191283,
          19710,
          122,
          29230,
          7343,
          41716,
          2114,
          1067511,
          9969,
          30,
          891949,
          487846,
          13,
          256787,
          3687,
          4,
          1020,
          123258,
          2826,
          1079,
          3877,
          268,
          1386,
          9475,
          121701,
          9774,
          34508,
          1087,
          1,
          5813,
          0,
          969033,
          454,
          2140,
          996,
          3302,
          1885,
          2245,
          169940,
          267020,
          260723,
          37140,
          98501,
          11,
          7331,
          8716940,
          402403,
          2876687,
          2217585,
          732380,
          32903,
          453916,
          1899803,
          50880,
          814262,
          3421081,
          55183,
          26552,
          6964,
          880891,
          362527,
          259655,
          27299336,
          20454,
          1031660,
          20699,
          543511,
          37856,
          55833,
          122742,
          118675,
          3177799,
          14154,
          7216,
          2545819,
          123525,
          6007991,
          7998,
          23860,
          85776,
          757093,
          81109,
          1009973,
          1058946,
          285943,
          3363053,
          2283836,
          712,
          15530,
          10311,
          567895,
          781470,
          450676,
          135109,
          15853,
          9662,
          410210,
          68762,
          467288,
          63476,
          569973,
          21646561,
          47399,
          11911,
          1418027,
          12274653,
          157751,
          2146798,
          13172,
          729977,
          36329,
          7820,
          62156,
          29939,
          29,
          391874,
          1695991,
          85980,
          42586544,
          4708043,
          6761855,
          2271521,
          1242806,
          3374697,
          11991109,
          126732,
          3774164,
          1436762,
          1375330,
          322388,
          2316,
          1294205,
          221696,
          596785,
          199890,
          138431,
          500126,
          1006109,
          32372,
          7358,
          466666,
          10411,
          797492,
          173419,
          9,
          61434,
          84974,
          2996361,
          156903,
          30257,
          69794,
          7,
          58557,
          70862,
          5226269,
          1,
          480289,
          8988,
          875440,
          225740,
          1153562,
          224603,
          156604,
          972141,
          5692528,
          19779,
          17791,
          8707,
          253923,
          284875,
          1009926,
          360999,
          1480592,
          3119,
          739770,
          38222,
          620708,
          3411201,
          3630637,
          5328492,
          3049692,
          349581,
          2531597,
          13526183,
          129278,
          5497,
          21932,
          8144,
          33,
          13861,
          5919,
          724525,
          85346,
          1826787,
          38395,
          7648,
          449570,
          1818532,
          836088,
          4302,
          26203,
          3637673,
          16880,
          10604200,
          625804,
          59525,
          865,
          76876,
          2397330,
          2537734,
          52504,
          19455,
          17765,
          33436,
          2577445,
          21401,
          36630,
          73,
          119226,
          961877,
          12748341,
          77652197,
          162639,
          4668581,
          865576,
          18346553,
          765960,
          232496,
          7,
          501586,
          2457170,
          600128,
          490,
          11659,
          309013,
          231214
         ]
        }
       ],
       "layout": {
        "height": 700,
        "legend": {
         "tracegroupgap": 0
        },
        "template": {
         "data": {
          "bar": [
           {
            "error_x": {
             "color": "#2a3f5f"
            },
            "error_y": {
             "color": "#2a3f5f"
            },
            "marker": {
             "line": {
              "color": "#E5ECF6",
              "width": 0.5
             },
             "pattern": {
              "fillmode": "overlay",
              "size": 10,
              "solidity": 0.2
             }
            },
            "type": "bar"
           }
          ],
          "barpolar": [
           {
            "marker": {
             "line": {
              "color": "#E5ECF6",
              "width": 0.5
             },
             "pattern": {
              "fillmode": "overlay",
              "size": 10,
              "solidity": 0.2
             }
            },
            "type": "barpolar"
           }
          ],
          "carpet": [
           {
            "aaxis": {
             "endlinecolor": "#2a3f5f",
             "gridcolor": "white",
             "linecolor": "white",
             "minorgridcolor": "white",
             "startlinecolor": "#2a3f5f"
            },
            "baxis": {
             "endlinecolor": "#2a3f5f",
             "gridcolor": "white",
             "linecolor": "white",
             "minorgridcolor": "white",
             "startlinecolor": "#2a3f5f"
            },
            "type": "carpet"
           }
          ],
          "choropleth": [
           {
            "colorbar": {
             "outlinewidth": 0,
             "ticks": ""
            },
            "type": "choropleth"
           }
          ],
          "contour": [
           {
            "colorbar": {
             "outlinewidth": 0,
             "ticks": ""
            },
            "colorscale": [
             [
              0,
              "#0d0887"
             ],
             [
              0.1111111111111111,
              "#46039f"
             ],
             [
              0.2222222222222222,
              "#7201a8"
             ],
             [
              0.3333333333333333,
              "#9c179e"
             ],
             [
              0.4444444444444444,
              "#bd3786"
             ],
             [
              0.5555555555555556,
              "#d8576b"
             ],
             [
              0.6666666666666666,
              "#ed7953"
             ],
             [
              0.7777777777777778,
              "#fb9f3a"
             ],
             [
              0.8888888888888888,
              "#fdca26"
             ],
             [
              1,
              "#f0f921"
             ]
            ],
            "type": "contour"
           }
          ],
          "contourcarpet": [
           {
            "colorbar": {
             "outlinewidth": 0,
             "ticks": ""
            },
            "type": "contourcarpet"
           }
          ],
          "heatmap": [
           {
            "colorbar": {
             "outlinewidth": 0,
             "ticks": ""
            },
            "colorscale": [
             [
              0,
              "#0d0887"
             ],
             [
              0.1111111111111111,
              "#46039f"
             ],
             [
              0.2222222222222222,
              "#7201a8"
             ],
             [
              0.3333333333333333,
              "#9c179e"
             ],
             [
              0.4444444444444444,
              "#bd3786"
             ],
             [
              0.5555555555555556,
              "#d8576b"
             ],
             [
              0.6666666666666666,
              "#ed7953"
             ],
             [
              0.7777777777777778,
              "#fb9f3a"
             ],
             [
              0.8888888888888888,
              "#fdca26"
             ],
             [
              1,
              "#f0f921"
             ]
            ],
            "type": "heatmap"
           }
          ],
          "heatmapgl": [
           {
            "colorbar": {
             "outlinewidth": 0,
             "ticks": ""
            },
            "colorscale": [
             [
              0,
              "#0d0887"
             ],
             [
              0.1111111111111111,
              "#46039f"
             ],
             [
              0.2222222222222222,
              "#7201a8"
             ],
             [
              0.3333333333333333,
              "#9c179e"
             ],
             [
              0.4444444444444444,
              "#bd3786"
             ],
             [
              0.5555555555555556,
              "#d8576b"
             ],
             [
              0.6666666666666666,
              "#ed7953"
             ],
             [
              0.7777777777777778,
              "#fb9f3a"
             ],
             [
              0.8888888888888888,
              "#fdca26"
             ],
             [
              1,
              "#f0f921"
             ]
            ],
            "type": "heatmapgl"
           }
          ],
          "histogram": [
           {
            "marker": {
             "pattern": {
              "fillmode": "overlay",
              "size": 10,
              "solidity": 0.2
             }
            },
            "type": "histogram"
           }
          ],
          "histogram2d": [
           {
            "colorbar": {
             "outlinewidth": 0,
             "ticks": ""
            },
            "colorscale": [
             [
              0,
              "#0d0887"
             ],
             [
              0.1111111111111111,
              "#46039f"
             ],
             [
              0.2222222222222222,
              "#7201a8"
             ],
             [
              0.3333333333333333,
              "#9c179e"
             ],
             [
              0.4444444444444444,
              "#bd3786"
             ],
             [
              0.5555555555555556,
              "#d8576b"
             ],
             [
              0.6666666666666666,
              "#ed7953"
             ],
             [
              0.7777777777777778,
              "#fb9f3a"
             ],
             [
              0.8888888888888888,
              "#fdca26"
             ],
             [
              1,
              "#f0f921"
             ]
            ],
            "type": "histogram2d"
           }
          ],
          "histogram2dcontour": [
           {
            "colorbar": {
             "outlinewidth": 0,
             "ticks": ""
            },
            "colorscale": [
             [
              0,
              "#0d0887"
             ],
             [
              0.1111111111111111,
              "#46039f"
             ],
             [
              0.2222222222222222,
              "#7201a8"
             ],
             [
              0.3333333333333333,
              "#9c179e"
             ],
             [
              0.4444444444444444,
              "#bd3786"
             ],
             [
              0.5555555555555556,
              "#d8576b"
             ],
             [
              0.6666666666666666,
              "#ed7953"
             ],
             [
              0.7777777777777778,
              "#fb9f3a"
             ],
             [
              0.8888888888888888,
              "#fdca26"
             ],
             [
              1,
              "#f0f921"
             ]
            ],
            "type": "histogram2dcontour"
           }
          ],
          "mesh3d": [
           {
            "colorbar": {
             "outlinewidth": 0,
             "ticks": ""
            },
            "type": "mesh3d"
           }
          ],
          "parcoords": [
           {
            "line": {
             "colorbar": {
              "outlinewidth": 0,
              "ticks": ""
             }
            },
            "type": "parcoords"
           }
          ],
          "pie": [
           {
            "automargin": true,
            "type": "pie"
           }
          ],
          "scatter": [
           {
            "marker": {
             "colorbar": {
              "outlinewidth": 0,
              "ticks": ""
             }
            },
            "type": "scatter"
           }
          ],
          "scatter3d": [
           {
            "line": {
             "colorbar": {
              "outlinewidth": 0,
              "ticks": ""
             }
            },
            "marker": {
             "colorbar": {
              "outlinewidth": 0,
              "ticks": ""
             }
            },
            "type": "scatter3d"
           }
          ],
          "scattercarpet": [
           {
            "marker": {
             "colorbar": {
              "outlinewidth": 0,
              "ticks": ""
             }
            },
            "type": "scattercarpet"
           }
          ],
          "scattergeo": [
           {
            "marker": {
             "colorbar": {
              "outlinewidth": 0,
              "ticks": ""
             }
            },
            "type": "scattergeo"
           }
          ],
          "scattergl": [
           {
            "marker": {
             "colorbar": {
              "outlinewidth": 0,
              "ticks": ""
             }
            },
            "type": "scattergl"
           }
          ],
          "scattermapbox": [
           {
            "marker": {
             "colorbar": {
              "outlinewidth": 0,
              "ticks": ""
             }
            },
            "type": "scattermapbox"
           }
          ],
          "scatterpolar": [
           {
            "marker": {
             "colorbar": {
              "outlinewidth": 0,
              "ticks": ""
             }
            },
            "type": "scatterpolar"
           }
          ],
          "scatterpolargl": [
           {
            "marker": {
             "colorbar": {
              "outlinewidth": 0,
              "ticks": ""
             }
            },
            "type": "scatterpolargl"
           }
          ],
          "scatterternary": [
           {
            "marker": {
             "colorbar": {
              "outlinewidth": 0,
              "ticks": ""
             }
            },
            "type": "scatterternary"
           }
          ],
          "surface": [
           {
            "colorbar": {
             "outlinewidth": 0,
             "ticks": ""
            },
            "colorscale": [
             [
              0,
              "#0d0887"
             ],
             [
              0.1111111111111111,
              "#46039f"
             ],
             [
              0.2222222222222222,
              "#7201a8"
             ],
             [
              0.3333333333333333,
              "#9c179e"
             ],
             [
              0.4444444444444444,
              "#bd3786"
             ],
             [
              0.5555555555555556,
              "#d8576b"
             ],
             [
              0.6666666666666666,
              "#ed7953"
             ],
             [
              0.7777777777777778,
              "#fb9f3a"
             ],
             [
              0.8888888888888888,
              "#fdca26"
             ],
             [
              1,
              "#f0f921"
             ]
            ],
            "type": "surface"
           }
          ],
          "table": [
           {
            "cells": {
             "fill": {
              "color": "#EBF0F8"
             },
             "line": {
              "color": "white"
             }
            },
            "header": {
             "fill": {
              "color": "#C8D4E3"
             },
             "line": {
              "color": "white"
             }
            },
            "type": "table"
           }
          ]
         },
         "layout": {
          "annotationdefaults": {
           "arrowcolor": "#2a3f5f",
           "arrowhead": 0,
           "arrowwidth": 1
          },
          "autotypenumbers": "strict",
          "coloraxis": {
           "colorbar": {
            "outlinewidth": 0,
            "ticks": ""
           }
          },
          "colorscale": {
           "diverging": [
            [
             0,
             "#8e0152"
            ],
            [
             0.1,
             "#c51b7d"
            ],
            [
             0.2,
             "#de77ae"
            ],
            [
             0.3,
             "#f1b6da"
            ],
            [
             0.4,
             "#fde0ef"
            ],
            [
             0.5,
             "#f7f7f7"
            ],
            [
             0.6,
             "#e6f5d0"
            ],
            [
             0.7,
             "#b8e186"
            ],
            [
             0.8,
             "#7fbc41"
            ],
            [
             0.9,
             "#4d9221"
            ],
            [
             1,
             "#276419"
            ]
           ],
           "sequential": [
            [
             0,
             "#0d0887"
            ],
            [
             0.1111111111111111,
             "#46039f"
            ],
            [
             0.2222222222222222,
             "#7201a8"
            ],
            [
             0.3333333333333333,
             "#9c179e"
            ],
            [
             0.4444444444444444,
             "#bd3786"
            ],
            [
             0.5555555555555556,
             "#d8576b"
            ],
            [
             0.6666666666666666,
             "#ed7953"
            ],
            [
             0.7777777777777778,
             "#fb9f3a"
            ],
            [
             0.8888888888888888,
             "#fdca26"
            ],
            [
             1,
             "#f0f921"
            ]
           ],
           "sequentialminus": [
            [
             0,
             "#0d0887"
            ],
            [
             0.1111111111111111,
             "#46039f"
            ],
            [
             0.2222222222222222,
             "#7201a8"
            ],
            [
             0.3333333333333333,
             "#9c179e"
            ],
            [
             0.4444444444444444,
             "#bd3786"
            ],
            [
             0.5555555555555556,
             "#d8576b"
            ],
            [
             0.6666666666666666,
             "#ed7953"
            ],
            [
             0.7777777777777778,
             "#fb9f3a"
            ],
            [
             0.8888888888888888,
             "#fdca26"
            ],
            [
             1,
             "#f0f921"
            ]
           ]
          },
          "colorway": [
           "#636efa",
           "#EF553B",
           "#00cc96",
           "#ab63fa",
           "#FFA15A",
           "#19d3f3",
           "#FF6692",
           "#B6E880",
           "#FF97FF",
           "#FECB52"
          ],
          "font": {
           "color": "#2a3f5f"
          },
          "geo": {
           "bgcolor": "white",
           "lakecolor": "white",
           "landcolor": "#E5ECF6",
           "showlakes": true,
           "showland": true,
           "subunitcolor": "white"
          },
          "hoverlabel": {
           "align": "left"
          },
          "hovermode": "closest",
          "mapbox": {
           "style": "light"
          },
          "paper_bgcolor": "white",
          "plot_bgcolor": "#E5ECF6",
          "polar": {
           "angularaxis": {
            "gridcolor": "white",
            "linecolor": "white",
            "ticks": ""
           },
           "bgcolor": "#E5ECF6",
           "radialaxis": {
            "gridcolor": "white",
            "linecolor": "white",
            "ticks": ""
           }
          },
          "scene": {
           "xaxis": {
            "backgroundcolor": "#E5ECF6",
            "gridcolor": "white",
            "gridwidth": 2,
            "linecolor": "white",
            "showbackground": true,
            "ticks": "",
            "zerolinecolor": "white"
           },
           "yaxis": {
            "backgroundcolor": "#E5ECF6",
            "gridcolor": "white",
            "gridwidth": 2,
            "linecolor": "white",
            "showbackground": true,
            "ticks": "",
            "zerolinecolor": "white"
           },
           "zaxis": {
            "backgroundcolor": "#E5ECF6",
            "gridcolor": "white",
            "gridwidth": 2,
            "linecolor": "white",
            "showbackground": true,
            "ticks": "",
            "zerolinecolor": "white"
           }
          },
          "shapedefaults": {
           "line": {
            "color": "#2a3f5f"
           }
          },
          "ternary": {
           "aaxis": {
            "gridcolor": "white",
            "linecolor": "white",
            "ticks": ""
           },
           "baxis": {
            "gridcolor": "white",
            "linecolor": "white",
            "ticks": ""
           },
           "bgcolor": "#E5ECF6",
           "caxis": {
            "gridcolor": "white",
            "linecolor": "white",
            "ticks": ""
           }
          },
          "title": {
           "x": 0.05
          },
          "xaxis": {
           "automargin": true,
           "gridcolor": "white",
           "linecolor": "white",
           "ticks": "",
           "title": {
            "standoff": 15
           },
           "zerolinecolor": "white",
           "zerolinewidth": 2
          },
          "yaxis": {
           "automargin": true,
           "gridcolor": "white",
           "linecolor": "white",
           "ticks": "",
           "title": {
            "standoff": 15
           },
           "zerolinecolor": "white",
           "zerolinewidth": 2
          }
         }
        },
        "title": {
         "text": "Number of Confirmed Cases"
        },
        "treemapcolorway": [
         "rgb(27,158,119)",
         "rgb(217,95,2)",
         "rgb(117,112,179)",
         "rgb(231,41,138)",
         "rgb(102,166,30)",
         "rgb(230,171,2)",
         "rgb(166,118,29)",
         "rgb(102,102,102)"
        ]
       }
      },
      "text/html": [
       "<div>                            <div id=\"8f9519e5-43df-49f4-8556-5c0c1eaaa145\" class=\"plotly-graph-div\" style=\"height:700px; width:100%;\"></div>            <script type=\"text/javascript\">                require([\"plotly\"], function(Plotly) {                    window.PLOTLYENV=window.PLOTLYENV || {};                                    if (document.getElementById(\"8f9519e5-43df-49f4-8556-5c0c1eaaa145\")) {                    Plotly.newPlot(                        \"8f9519e5-43df-49f4-8556-5c0c1eaaa145\",                        [{\"branchvalues\":\"total\",\"domain\":{\"x\":[0.0,1.0],\"y\":[0.0,1.0]},\"hovertemplate\":\"labels=%{label}<br>Confirmed=%{value}<br>parent=%{parent}<br>id=%{id}<extra></extra>\",\"ids\":[\"Afghanistan/\",\"Albania/\",\"Algeria/\",\"Andorra/\",\"Angola/\",\"Antarctica/\",\"Antigua and Barbuda/\",\"Argentina/\",\"Armenia/\",\"Austria/\",\"Azerbaijan/\",\"Bahamas/\",\"Bahrain/\",\"Bangladesh/\",\"Barbados/\",\"Belarus/\",\"Belgium/\",\"Belize/\",\"Benin/\",\"Bhutan/\",\"Bolivia/\",\"Bosnia and Herzegovina/\",\"Botswana/\",\"Brazil/\",\"Brunei/\",\"Bulgaria/\",\"Burkina Faso/\",\"Burma/\",\"Burundi/\",\"Cabo Verde/\",\"Cambodia/\",\"Cameroon/\",\"Canada/\",\"Central African Republic/\",\"Chad/\",\"Chile/\",\"Colombia/\",\"Comoros/\",\"Congo (Brazzaville)/\",\"Congo (Kinshasa)/\",\"Costa Rica/\",\"Cote d'Ivoire/\",\"Croatia/\",\"Cuba/\",\"Cyprus/\",\"Czechia/\",\"Denmark/\",\"Diamond Princess/\",\"Djibouti/\",\"Dominica/\",\"Dominican Republic/\",\"Ecuador/\",\"Egypt/\",\"El Salvador/\",\"Equatorial Guinea/\",\"Eritrea/\",\"Estonia/\",\"Eswatini/\",\"Ethiopia/\",\"Fiji/\",\"Finland/\",\"France/\",\"Gabon/\",\"Gambia/\",\"Georgia/\",\"Germany/\",\"Ghana/\",\"Greece/\",\"Grenada/\",\"Guatemala/\",\"Guinea/\",\"Guinea-Bissau/\",\"Guyana/\",\"Haiti/\",\"Holy See/\",\"Honduras/\",\"Hungary/\",\"Iceland/\",\"India/\",\"Indonesia/\",\"Iran/\",\"Iraq/\",\"Ireland/\",\"Israel/\",\"Italy/\",\"Jamaica/\",\"Japan/\",\"Jordan/\",\"Kazakhstan/\",\"Kenya/\",\"Kiribati/\",\"Korea, South/\",\"Kosovo/\",\"Kuwait/\",\"Kyrgyzstan/\",\"Laos/\",\"Latvia/\",\"Lebanon/\",\"Lesotho/\",\"Liberia/\",\"Libya/\",\"Liechtenstein/\",\"Lithuania/\",\"Luxembourg/\",\"MS Zaandam/\",\"Madagascar/\",\"Malawi/\",\"Malaysia/\",\"Maldives/\",\"Mali/\",\"Malta/\",\"Marshall Islands/\",\"Mauritania/\",\"Mauritius/\",\"Mexico/\",\"Micronesia/\",\"Moldova/\",\"Monaco/\",\"Mongolia/\",\"Montenegro/\",\"Morocco/\",\"Mozambique/\",\"Namibia/\",\"Nepal/\",\"Netherlands/\",\"New Zealand/\",\"Nicaragua/\",\"Niger/\",\"Nigeria/\",\"North Macedonia/\",\"Norway/\",\"Oman/\",\"Pakistan/\",\"Palau/\",\"Panama/\",\"Papua New Guinea/\",\"Paraguay/\",\"Peru/\",\"Philippines/\",\"Poland/\",\"Portugal/\",\"Qatar/\",\"Romania/\",\"Russia/\",\"Rwanda/\",\"Saint Kitts and Nevis/\",\"Saint Lucia/\",\"Saint Vincent and the Grenadines/\",\"Samoa/\",\"San Marino/\",\"Sao Tome and Principe/\",\"Saudi Arabia/\",\"Senegal/\",\"Serbia/\",\"Seychelles/\",\"Sierra Leone/\",\"Singapore/\",\"Slovakia/\",\"Slovenia/\",\"Solomon Islands/\",\"Somalia/\",\"South Africa/\",\"South Sudan/\",\"Spain/\",\"Sri Lanka/\",\"Sudan/\",\"Summer Olympics 2020/\",\"Suriname/\",\"Sweden/\",\"Switzerland/\",\"Syria/\",\"Taiwan*/\",\"Tajikistan/\",\"Tanzania/\",\"Thailand/\",\"Timor-Leste/\",\"Togo/\",\"Tonga/\",\"Trinidad and Tobago/\",\"Tunisia/\",\"Turkey/\",\"US/\",\"Uganda/\",\"Ukraine/\",\"United Arab Emirates/\",\"United Kingdom/\",\"Uruguay/\",\"Uzbekistan/\",\"Vanuatu/\",\"Venezuela/\",\"Vietnam/\",\"West Bank and Gaza/\",\"Winter Olympics 2022/\",\"Yemen/\",\"Zambia/\",\"Zimbabwe/\",\"Canada/Alberta\",\"United Kingdom/Anguilla\",\"China/Anhui\",\"Netherlands/Aruba\",\"Australia/Australian Capital Territory\",\"China/Beijing\",\"United Kingdom/Bermuda\",\"Netherlands/Bonaire, Sint Eustatius and Saba\",\"Canada/British Columbia\",\"United Kingdom/British Virgin Islands\",\"United Kingdom/Cayman Islands\",\"United Kingdom/Channel Islands\",\"China/Chongqing\",\"New Zealand/Cook Islands\",\"Netherlands/Curacao\",\"Canada/Diamond Princess\",\"United Kingdom/Falkland Islands (Malvinas)\",\"Denmark/Faroe Islands\",\"France/French Guiana\",\"France/French Polynesia\",\"China/Fujian\",\"China/Gansu\",\"United Kingdom/Gibraltar\",\"Canada/Grand Princess\",\"Denmark/Greenland\",\"France/Guadeloupe\",\"China/Guangdong\",\"China/Guangxi\",\"China/Guizhou\",\"China/Hainan\",\"China/Hebei\",\"China/Heilongjiang\",\"China/Henan\",\"China/Hong Kong\",\"China/Hubei\",\"China/Hunan\",\"China/Inner Mongolia\",\"United Kingdom/Isle of Man\",\"China/Jiangsu\",\"China/Jiangxi\",\"China/Jilin\",\"China/Liaoning\",\"China/Macau\",\"Canada/Manitoba\",\"France/Martinique\",\"France/Mayotte\",\"United Kingdom/Montserrat\",\"Canada/New Brunswick\",\"France/New Caledonia\",\"Australia/New South Wales\",\"Canada/Newfoundland and Labrador\",\"China/Ningxia\",\"Australia/Northern Territory\",\"Canada/Northwest Territories\",\"Canada/Nova Scotia\",\"Canada/Nunavut\",\"Canada/Ontario\",\"Canada/Prince Edward Island\",\"China/Qinghai\",\"Canada/Quebec\",\"Australia/Queensland\",\"Canada/Repatriated Travellers\",\"France/Reunion\",\"France/Saint Barthelemy\",\"United Kingdom/Saint Helena, Ascension and Tristan da Cunha\",\"France/Saint Pierre and Miquelon\",\"Canada/Saskatchewan\",\"China/Shaanxi\",\"China/Shandong\",\"China/Shanghai\",\"China/Shanxi\",\"China/Sichuan\",\"Netherlands/Sint Maarten\",\"Australia/South Australia\",\"France/St Martin\",\"Australia/Tasmania\",\"China/Tianjin\",\"China/Tibet\",\"United Kingdom/Turks and Caicos Islands\",\"China/Unknown\",\"Australia/Victoria\",\"France/Wallis and Futuna\",\"Australia/Western Australia\",\"China/Xinjiang\",\"Canada/Yukon\",\"China/Yunnan\",\"China/Zhejiang\",\"Afghanistan\",\"Albania\",\"Algeria\",\"Andorra\",\"Angola\",\"Antarctica\",\"Antigua and Barbuda\",\"Argentina\",\"Armenia\",\"Australia\",\"Austria\",\"Azerbaijan\",\"Bahamas\",\"Bahrain\",\"Bangladesh\",\"Barbados\",\"Belarus\",\"Belgium\",\"Belize\",\"Benin\",\"Bhutan\",\"Bolivia\",\"Bosnia and Herzegovina\",\"Botswana\",\"Brazil\",\"Brunei\",\"Bulgaria\",\"Burkina Faso\",\"Burma\",\"Burundi\",\"Cabo Verde\",\"Cambodia\",\"Cameroon\",\"Canada\",\"Central African Republic\",\"Chad\",\"Chile\",\"China\",\"Colombia\",\"Comoros\",\"Congo (Brazzaville)\",\"Congo (Kinshasa)\",\"Costa Rica\",\"Cote d'Ivoire\",\"Croatia\",\"Cuba\",\"Cyprus\",\"Czechia\",\"Denmark\",\"Diamond Princess\",\"Djibouti\",\"Dominica\",\"Dominican Republic\",\"Ecuador\",\"Egypt\",\"El Salvador\",\"Equatorial Guinea\",\"Eritrea\",\"Estonia\",\"Eswatini\",\"Ethiopia\",\"Fiji\",\"Finland\",\"France\",\"Gabon\",\"Gambia\",\"Georgia\",\"Germany\",\"Ghana\",\"Greece\",\"Grenada\",\"Guatemala\",\"Guinea\",\"Guinea-Bissau\",\"Guyana\",\"Haiti\",\"Holy See\",\"Honduras\",\"Hungary\",\"Iceland\",\"India\",\"Indonesia\",\"Iran\",\"Iraq\",\"Ireland\",\"Israel\",\"Italy\",\"Jamaica\",\"Japan\",\"Jordan\",\"Kazakhstan\",\"Kenya\",\"Kiribati\",\"Korea, South\",\"Kosovo\",\"Kuwait\",\"Kyrgyzstan\",\"Laos\",\"Latvia\",\"Lebanon\",\"Lesotho\",\"Liberia\",\"Libya\",\"Liechtenstein\",\"Lithuania\",\"Luxembourg\",\"MS Zaandam\",\"Madagascar\",\"Malawi\",\"Malaysia\",\"Maldives\",\"Mali\",\"Malta\",\"Marshall Islands\",\"Mauritania\",\"Mauritius\",\"Mexico\",\"Micronesia\",\"Moldova\",\"Monaco\",\"Mongolia\",\"Montenegro\",\"Morocco\",\"Mozambique\",\"Namibia\",\"Nepal\",\"Netherlands\",\"New Zealand\",\"Nicaragua\",\"Niger\",\"Nigeria\",\"North Macedonia\",\"Norway\",\"Oman\",\"Pakistan\",\"Palau\",\"Panama\",\"Papua New Guinea\",\"Paraguay\",\"Peru\",\"Philippines\",\"Poland\",\"Portugal\",\"Qatar\",\"Romania\",\"Russia\",\"Rwanda\",\"Saint Kitts and Nevis\",\"Saint Lucia\",\"Saint Vincent and the Grenadines\",\"Samoa\",\"San Marino\",\"Sao Tome and Principe\",\"Saudi Arabia\",\"Senegal\",\"Serbia\",\"Seychelles\",\"Sierra Leone\",\"Singapore\",\"Slovakia\",\"Slovenia\",\"Solomon Islands\",\"Somalia\",\"South Africa\",\"South Sudan\",\"Spain\",\"Sri Lanka\",\"Sudan\",\"Summer Olympics 2020\",\"Suriname\",\"Sweden\",\"Switzerland\",\"Syria\",\"Taiwan*\",\"Tajikistan\",\"Tanzania\",\"Thailand\",\"Timor-Leste\",\"Togo\",\"Tonga\",\"Trinidad and Tobago\",\"Tunisia\",\"Turkey\",\"US\",\"Uganda\",\"Ukraine\",\"United Arab Emirates\",\"United Kingdom\",\"Uruguay\",\"Uzbekistan\",\"Vanuatu\",\"Venezuela\",\"Vietnam\",\"West Bank and Gaza\",\"Winter Olympics 2022\",\"Yemen\",\"Zambia\",\"Zimbabwe\"],\"labels\":[\"\",\"\",\"\",\"\",\"\",\"\",\"\",\"\",\"\",\"\",\"\",\"\",\"\",\"\",\"\",\"\",\"\",\"\",\"\",\"\",\"\",\"\",\"\",\"\",\"\",\"\",\"\",\"\",\"\",\"\",\"\",\"\",\"\",\"\",\"\",\"\",\"\",\"\",\"\",\"\",\"\",\"\",\"\",\"\",\"\",\"\",\"\",\"\",\"\",\"\",\"\",\"\",\"\",\"\",\"\",\"\",\"\",\"\",\"\",\"\",\"\",\"\",\"\",\"\",\"\",\"\",\"\",\"\",\"\",\"\",\"\",\"\",\"\",\"\",\"\",\"\",\"\",\"\",\"\",\"\",\"\",\"\",\"\",\"\",\"\",\"\",\"\",\"\",\"\",\"\",\"\",\"\",\"\",\"\",\"\",\"\",\"\",\"\",\"\",\"\",\"\",\"\",\"\",\"\",\"\",\"\",\"\",\"\",\"\",\"\",\"\",\"\",\"\",\"\",\"\",\"\",\"\",\"\",\"\",\"\",\"\",\"\",\"\",\"\",\"\",\"\",\"\",\"\",\"\",\"\",\"\",\"\",\"\",\"\",\"\",\"\",\"\",\"\",\"\",\"\",\"\",\"\",\"\",\"\",\"\",\"\",\"\",\"\",\"\",\"\",\"\",\"\",\"\",\"\",\"\",\"\",\"\",\"\",\"\",\"\",\"\",\"\",\"\",\"\",\"\",\"\",\"\",\"\",\"\",\"\",\"\",\"\",\"\",\"\",\"\",\"\",\"\",\"\",\"\",\"\",\"\",\"\",\"\",\"\",\"\",\"\",\"\",\"\",\"\",\"\",\"\",\"\",\"\",\"\",\"\",\"\",\"Alberta\",\"Anguilla\",\"Anhui\",\"Aruba\",\"Australian Capital Territory\",\"Beijing\",\"Bermuda\",\"Bonaire, Sint Eustatius and Saba\",\"British Columbia\",\"British Virgin Islands\",\"Cayman Islands\",\"Channel Islands\",\"Chongqing\",\"Cook Islands\",\"Curacao\",\"Diamond Princess\",\"Falkland Islands (Malvinas)\",\"Faroe Islands\",\"French Guiana\",\"French Polynesia\",\"Fujian\",\"Gansu\",\"Gibraltar\",\"Grand Princess\",\"Greenland\",\"Guadeloupe\",\"Guangdong\",\"Guangxi\",\"Guizhou\",\"Hainan\",\"Hebei\",\"Heilongjiang\",\"Henan\",\"Hong Kong\",\"Hubei\",\"Hunan\",\"Inner Mongolia\",\"Isle of Man\",\"Jiangsu\",\"Jiangxi\",\"Jilin\",\"Liaoning\",\"Macau\",\"Manitoba\",\"Martinique\",\"Mayotte\",\"Montserrat\",\"New Brunswick\",\"New Caledonia\",\"New South Wales\",\"Newfoundland and Labrador\",\"Ningxia\",\"Northern Territory\",\"Northwest Territories\",\"Nova Scotia\",\"Nunavut\",\"Ontario\",\"Prince Edward Island\",\"Qinghai\",\"Quebec\",\"Queensland\",\"Repatriated Travellers\",\"Reunion\",\"Saint Barthelemy\",\"Saint Helena, Ascension and Tristan da Cunha\",\"Saint Pierre and Miquelon\",\"Saskatchewan\",\"Shaanxi\",\"Shandong\",\"Shanghai\",\"Shanxi\",\"Sichuan\",\"Sint Maarten\",\"South Australia\",\"St Martin\",\"Tasmania\",\"Tianjin\",\"Tibet\",\"Turks and Caicos Islands\",\"Unknown\",\"Victoria\",\"Wallis and Futuna\",\"Western Australia\",\"Xinjiang\",\"Yukon\",\"Yunnan\",\"Zhejiang\",\"Afghanistan\",\"Albania\",\"Algeria\",\"Andorra\",\"Angola\",\"Antarctica\",\"Antigua and Barbuda\",\"Argentina\",\"Armenia\",\"Australia\",\"Austria\",\"Azerbaijan\",\"Bahamas\",\"Bahrain\",\"Bangladesh\",\"Barbados\",\"Belarus\",\"Belgium\",\"Belize\",\"Benin\",\"Bhutan\",\"Bolivia\",\"Bosnia and Herzegovina\",\"Botswana\",\"Brazil\",\"Brunei\",\"Bulgaria\",\"Burkina Faso\",\"Burma\",\"Burundi\",\"Cabo Verde\",\"Cambodia\",\"Cameroon\",\"Canada\",\"Central African Republic\",\"Chad\",\"Chile\",\"China\",\"Colombia\",\"Comoros\",\"Congo (Brazzaville)\",\"Congo (Kinshasa)\",\"Costa Rica\",\"Cote d'Ivoire\",\"Croatia\",\"Cuba\",\"Cyprus\",\"Czechia\",\"Denmark\",\"Diamond Princess\",\"Djibouti\",\"Dominica\",\"Dominican Republic\",\"Ecuador\",\"Egypt\",\"El Salvador\",\"Equatorial Guinea\",\"Eritrea\",\"Estonia\",\"Eswatini\",\"Ethiopia\",\"Fiji\",\"Finland\",\"France\",\"Gabon\",\"Gambia\",\"Georgia\",\"Germany\",\"Ghana\",\"Greece\",\"Grenada\",\"Guatemala\",\"Guinea\",\"Guinea-Bissau\",\"Guyana\",\"Haiti\",\"Holy See\",\"Honduras\",\"Hungary\",\"Iceland\",\"India\",\"Indonesia\",\"Iran\",\"Iraq\",\"Ireland\",\"Israel\",\"Italy\",\"Jamaica\",\"Japan\",\"Jordan\",\"Kazakhstan\",\"Kenya\",\"Kiribati\",\"Korea, South\",\"Kosovo\",\"Kuwait\",\"Kyrgyzstan\",\"Laos\",\"Latvia\",\"Lebanon\",\"Lesotho\",\"Liberia\",\"Libya\",\"Liechtenstein\",\"Lithuania\",\"Luxembourg\",\"MS Zaandam\",\"Madagascar\",\"Malawi\",\"Malaysia\",\"Maldives\",\"Mali\",\"Malta\",\"Marshall Islands\",\"Mauritania\",\"Mauritius\",\"Mexico\",\"Micronesia\",\"Moldova\",\"Monaco\",\"Mongolia\",\"Montenegro\",\"Morocco\",\"Mozambique\",\"Namibia\",\"Nepal\",\"Netherlands\",\"New Zealand\",\"Nicaragua\",\"Niger\",\"Nigeria\",\"North Macedonia\",\"Norway\",\"Oman\",\"Pakistan\",\"Palau\",\"Panama\",\"Papua New Guinea\",\"Paraguay\",\"Peru\",\"Philippines\",\"Poland\",\"Portugal\",\"Qatar\",\"Romania\",\"Russia\",\"Rwanda\",\"Saint Kitts and Nevis\",\"Saint Lucia\",\"Saint Vincent and the Grenadines\",\"Samoa\",\"San Marino\",\"Sao Tome and Principe\",\"Saudi Arabia\",\"Senegal\",\"Serbia\",\"Seychelles\",\"Sierra Leone\",\"Singapore\",\"Slovakia\",\"Slovenia\",\"Solomon Islands\",\"Somalia\",\"South Africa\",\"South Sudan\",\"Spain\",\"Sri Lanka\",\"Sudan\",\"Summer Olympics 2020\",\"Suriname\",\"Sweden\",\"Switzerland\",\"Syria\",\"Taiwan*\",\"Tajikistan\",\"Tanzania\",\"Thailand\",\"Timor-Leste\",\"Togo\",\"Tonga\",\"Trinidad and Tobago\",\"Tunisia\",\"Turkey\",\"US\",\"Uganda\",\"Ukraine\",\"United Arab Emirates\",\"United Kingdom\",\"Uruguay\",\"Uzbekistan\",\"Vanuatu\",\"Venezuela\",\"Vietnam\",\"West Bank and Gaza\",\"Winter Olympics 2022\",\"Yemen\",\"Zambia\",\"Zimbabwe\"],\"name\":\"\",\"parents\":[\"Afghanistan\",\"Albania\",\"Algeria\",\"Andorra\",\"Angola\",\"Antarctica\",\"Antigua and Barbuda\",\"Argentina\",\"Armenia\",\"Austria\",\"Azerbaijan\",\"Bahamas\",\"Bahrain\",\"Bangladesh\",\"Barbados\",\"Belarus\",\"Belgium\",\"Belize\",\"Benin\",\"Bhutan\",\"Bolivia\",\"Bosnia and Herzegovina\",\"Botswana\",\"Brazil\",\"Brunei\",\"Bulgaria\",\"Burkina Faso\",\"Burma\",\"Burundi\",\"Cabo Verde\",\"Cambodia\",\"Cameroon\",\"Canada\",\"Central African Republic\",\"Chad\",\"Chile\",\"Colombia\",\"Comoros\",\"Congo (Brazzaville)\",\"Congo (Kinshasa)\",\"Costa Rica\",\"Cote d'Ivoire\",\"Croatia\",\"Cuba\",\"Cyprus\",\"Czechia\",\"Denmark\",\"Diamond Princess\",\"Djibouti\",\"Dominica\",\"Dominican Republic\",\"Ecuador\",\"Egypt\",\"El Salvador\",\"Equatorial Guinea\",\"Eritrea\",\"Estonia\",\"Eswatini\",\"Ethiopia\",\"Fiji\",\"Finland\",\"France\",\"Gabon\",\"Gambia\",\"Georgia\",\"Germany\",\"Ghana\",\"Greece\",\"Grenada\",\"Guatemala\",\"Guinea\",\"Guinea-Bissau\",\"Guyana\",\"Haiti\",\"Holy See\",\"Honduras\",\"Hungary\",\"Iceland\",\"India\",\"Indonesia\",\"Iran\",\"Iraq\",\"Ireland\",\"Israel\",\"Italy\",\"Jamaica\",\"Japan\",\"Jordan\",\"Kazakhstan\",\"Kenya\",\"Kiribati\",\"Korea, South\",\"Kosovo\",\"Kuwait\",\"Kyrgyzstan\",\"Laos\",\"Latvia\",\"Lebanon\",\"Lesotho\",\"Liberia\",\"Libya\",\"Liechtenstein\",\"Lithuania\",\"Luxembourg\",\"MS Zaandam\",\"Madagascar\",\"Malawi\",\"Malaysia\",\"Maldives\",\"Mali\",\"Malta\",\"Marshall Islands\",\"Mauritania\",\"Mauritius\",\"Mexico\",\"Micronesia\",\"Moldova\",\"Monaco\",\"Mongolia\",\"Montenegro\",\"Morocco\",\"Mozambique\",\"Namibia\",\"Nepal\",\"Netherlands\",\"New Zealand\",\"Nicaragua\",\"Niger\",\"Nigeria\",\"North Macedonia\",\"Norway\",\"Oman\",\"Pakistan\",\"Palau\",\"Panama\",\"Papua New Guinea\",\"Paraguay\",\"Peru\",\"Philippines\",\"Poland\",\"Portugal\",\"Qatar\",\"Romania\",\"Russia\",\"Rwanda\",\"Saint Kitts and Nevis\",\"Saint Lucia\",\"Saint Vincent and the Grenadines\",\"Samoa\",\"San Marino\",\"Sao Tome and Principe\",\"Saudi Arabia\",\"Senegal\",\"Serbia\",\"Seychelles\",\"Sierra Leone\",\"Singapore\",\"Slovakia\",\"Slovenia\",\"Solomon Islands\",\"Somalia\",\"South Africa\",\"South Sudan\",\"Spain\",\"Sri Lanka\",\"Sudan\",\"Summer Olympics 2020\",\"Suriname\",\"Sweden\",\"Switzerland\",\"Syria\",\"Taiwan*\",\"Tajikistan\",\"Tanzania\",\"Thailand\",\"Timor-Leste\",\"Togo\",\"Tonga\",\"Trinidad and Tobago\",\"Tunisia\",\"Turkey\",\"US\",\"Uganda\",\"Ukraine\",\"United Arab Emirates\",\"United Kingdom\",\"Uruguay\",\"Uzbekistan\",\"Vanuatu\",\"Venezuela\",\"Vietnam\",\"West Bank and Gaza\",\"Winter Olympics 2022\",\"Yemen\",\"Zambia\",\"Zimbabwe\",\"Canada\",\"United Kingdom\",\"China\",\"Netherlands\",\"Australia\",\"China\",\"United Kingdom\",\"Netherlands\",\"Canada\",\"United Kingdom\",\"United Kingdom\",\"United Kingdom\",\"China\",\"New Zealand\",\"Netherlands\",\"Canada\",\"United Kingdom\",\"Denmark\",\"France\",\"France\",\"China\",\"China\",\"United Kingdom\",\"Canada\",\"Denmark\",\"France\",\"China\",\"China\",\"China\",\"China\",\"China\",\"China\",\"China\",\"China\",\"China\",\"China\",\"China\",\"United Kingdom\",\"China\",\"China\",\"China\",\"China\",\"China\",\"Canada\",\"France\",\"France\",\"United Kingdom\",\"Canada\",\"France\",\"Australia\",\"Canada\",\"China\",\"Australia\",\"Canada\",\"Canada\",\"Canada\",\"Canada\",\"Canada\",\"China\",\"Canada\",\"Australia\",\"Canada\",\"France\",\"France\",\"United Kingdom\",\"France\",\"Canada\",\"China\",\"China\",\"China\",\"China\",\"China\",\"Netherlands\",\"Australia\",\"France\",\"Australia\",\"China\",\"China\",\"United Kingdom\",\"China\",\"Australia\",\"France\",\"Australia\",\"China\",\"Canada\",\"China\",\"China\",\"\",\"\",\"\",\"\",\"\",\"\",\"\",\"\",\"\",\"\",\"\",\"\",\"\",\"\",\"\",\"\",\"\",\"\",\"\",\"\",\"\",\"\",\"\",\"\",\"\",\"\",\"\",\"\",\"\",\"\",\"\",\"\",\"\",\"\",\"\",\"\",\"\",\"\",\"\",\"\",\"\",\"\",\"\",\"\",\"\",\"\",\"\",\"\",\"\",\"\",\"\",\"\",\"\",\"\",\"\",\"\",\"\",\"\",\"\",\"\",\"\",\"\",\"\",\"\",\"\",\"\",\"\",\"\",\"\",\"\",\"\",\"\",\"\",\"\",\"\",\"\",\"\",\"\",\"\",\"\",\"\",\"\",\"\",\"\",\"\",\"\",\"\",\"\",\"\",\"\",\"\",\"\",\"\",\"\",\"\",\"\",\"\",\"\",\"\",\"\",\"\",\"\",\"\",\"\",\"\",\"\",\"\",\"\",\"\",\"\",\"\",\"\",\"\",\"\",\"\",\"\",\"\",\"\",\"\",\"\",\"\",\"\",\"\",\"\",\"\",\"\",\"\",\"\",\"\",\"\",\"\",\"\",\"\",\"\",\"\",\"\",\"\",\"\",\"\",\"\",\"\",\"\",\"\",\"\",\"\",\"\",\"\",\"\",\"\",\"\",\"\",\"\",\"\",\"\",\"\",\"\",\"\",\"\",\"\",\"\",\"\",\"\",\"\",\"\",\"\",\"\",\"\",\"\",\"\",\"\",\"\",\"\",\"\",\"\",\"\",\"\",\"\",\"\",\"\",\"\",\"\",\"\",\"\",\"\",\"\",\"\",\"\",\"\",\"\",\"\",\"\",\"\",\"\",\"\",\"\",\"\",\"\",\"\"],\"textinfo\":\"label+text+value\",\"type\":\"treemap\",\"values\":[169940,267020,260723,37140,98501,11,7331,8716940,402403,2217585,732380,32903,453916,1899803,50880,814262,3421081,55183,26552,6964,880891,362527,259655,27299336,20454,1031660,20699,543511,37856,55833,122742,118675,0,14154,7216,2545819,6007991,7998,23860,85776,757093,81109,1009973,1058946,285943,3363053,2244726,712,15530,10311,567895,781470,450676,135109,15853,9662,410210,68762,467288,63476,569973,20957064,47399,11911,1418027,12274653,157751,2146798,13172,729977,36329,7820,62156,29939,29,391874,1695991,85980,42586544,4708043,6761855,2271521,1242806,3374697,11991109,126732,3774164,1436762,1375330,322388,2316,1294205,221696,596785,199890,138431,500126,1006109,32372,7358,466666,10411,797492,173419,9,61434,84974,2996361,156903,30257,69794,7,58557,70862,5226269,1,480289,8988,875440,225740,1153562,224603,156604,972141,5603964,19777,17791,8707,253923,284875,1009926,360999,1480592,3119,739770,38222,620708,3411201,3630637,5328492,3049692,349581,2531597,13526183,129278,5497,21932,8144,33,13861,5919,724525,85346,1826787,38395,7648,449570,1818532,836088,4302,26203,3637673,16880,10604200,625804,59525,865,76876,2397330,2537734,52504,19455,17765,33436,2577445,21401,36630,73,119226,961877,12748341,77652197,162639,4668581,865576,18220515,765960,232496,7,501586,2457170,600128,490,11659,309013,231214,514165,2458,1009,33455,40946,1365,11146,7367,338585,5928,17687,46366,613,2,38267,0,98,27701,76893,53853,1487,356,14284,13,11409,112668,3925,978,162,190,1476,2065,2662,16583,68320,1231,1191,22091,1631,959,594,847,79,125844,102746,36572,163,32307,35043,1191283,19710,122,29230,7343,41716,2114,1067511,9969,30,891949,487846,13,256787,3687,4,1020,123258,2826,1079,3877,268,1386,9475,121701,9774,34508,1087,1,5813,0,969033,454,2140,996,3302,1885,2245,169940,267020,260723,37140,98501,11,7331,8716940,402403,2876687,2217585,732380,32903,453916,1899803,50880,814262,3421081,55183,26552,6964,880891,362527,259655,27299336,20454,1031660,20699,543511,37856,55833,122742,118675,3177799,14154,7216,2545819,123525,6007991,7998,23860,85776,757093,81109,1009973,1058946,285943,3363053,2283836,712,15530,10311,567895,781470,450676,135109,15853,9662,410210,68762,467288,63476,569973,21646561,47399,11911,1418027,12274653,157751,2146798,13172,729977,36329,7820,62156,29939,29,391874,1695991,85980,42586544,4708043,6761855,2271521,1242806,3374697,11991109,126732,3774164,1436762,1375330,322388,2316,1294205,221696,596785,199890,138431,500126,1006109,32372,7358,466666,10411,797492,173419,9,61434,84974,2996361,156903,30257,69794,7,58557,70862,5226269,1,480289,8988,875440,225740,1153562,224603,156604,972141,5692528,19779,17791,8707,253923,284875,1009926,360999,1480592,3119,739770,38222,620708,3411201,3630637,5328492,3049692,349581,2531597,13526183,129278,5497,21932,8144,33,13861,5919,724525,85346,1826787,38395,7648,449570,1818532,836088,4302,26203,3637673,16880,10604200,625804,59525,865,76876,2397330,2537734,52504,19455,17765,33436,2577445,21401,36630,73,119226,961877,12748341,77652197,162639,4668581,865576,18346553,765960,232496,7,501586,2457170,600128,490,11659,309013,231214]}],                        {\"height\":700,\"legend\":{\"tracegroupgap\":0},\"template\":{\"data\":{\"bar\":[{\"error_x\":{\"color\":\"#2a3f5f\"},\"error_y\":{\"color\":\"#2a3f5f\"},\"marker\":{\"line\":{\"color\":\"#E5ECF6\",\"width\":0.5},\"pattern\":{\"fillmode\":\"overlay\",\"size\":10,\"solidity\":0.2}},\"type\":\"bar\"}],\"barpolar\":[{\"marker\":{\"line\":{\"color\":\"#E5ECF6\",\"width\":0.5},\"pattern\":{\"fillmode\":\"overlay\",\"size\":10,\"solidity\":0.2}},\"type\":\"barpolar\"}],\"carpet\":[{\"aaxis\":{\"endlinecolor\":\"#2a3f5f\",\"gridcolor\":\"white\",\"linecolor\":\"white\",\"minorgridcolor\":\"white\",\"startlinecolor\":\"#2a3f5f\"},\"baxis\":{\"endlinecolor\":\"#2a3f5f\",\"gridcolor\":\"white\",\"linecolor\":\"white\",\"minorgridcolor\":\"white\",\"startlinecolor\":\"#2a3f5f\"},\"type\":\"carpet\"}],\"choropleth\":[{\"colorbar\":{\"outlinewidth\":0,\"ticks\":\"\"},\"type\":\"choropleth\"}],\"contour\":[{\"colorbar\":{\"outlinewidth\":0,\"ticks\":\"\"},\"colorscale\":[[0.0,\"#0d0887\"],[0.1111111111111111,\"#46039f\"],[0.2222222222222222,\"#7201a8\"],[0.3333333333333333,\"#9c179e\"],[0.4444444444444444,\"#bd3786\"],[0.5555555555555556,\"#d8576b\"],[0.6666666666666666,\"#ed7953\"],[0.7777777777777778,\"#fb9f3a\"],[0.8888888888888888,\"#fdca26\"],[1.0,\"#f0f921\"]],\"type\":\"contour\"}],\"contourcarpet\":[{\"colorbar\":{\"outlinewidth\":0,\"ticks\":\"\"},\"type\":\"contourcarpet\"}],\"heatmap\":[{\"colorbar\":{\"outlinewidth\":0,\"ticks\":\"\"},\"colorscale\":[[0.0,\"#0d0887\"],[0.1111111111111111,\"#46039f\"],[0.2222222222222222,\"#7201a8\"],[0.3333333333333333,\"#9c179e\"],[0.4444444444444444,\"#bd3786\"],[0.5555555555555556,\"#d8576b\"],[0.6666666666666666,\"#ed7953\"],[0.7777777777777778,\"#fb9f3a\"],[0.8888888888888888,\"#fdca26\"],[1.0,\"#f0f921\"]],\"type\":\"heatmap\"}],\"heatmapgl\":[{\"colorbar\":{\"outlinewidth\":0,\"ticks\":\"\"},\"colorscale\":[[0.0,\"#0d0887\"],[0.1111111111111111,\"#46039f\"],[0.2222222222222222,\"#7201a8\"],[0.3333333333333333,\"#9c179e\"],[0.4444444444444444,\"#bd3786\"],[0.5555555555555556,\"#d8576b\"],[0.6666666666666666,\"#ed7953\"],[0.7777777777777778,\"#fb9f3a\"],[0.8888888888888888,\"#fdca26\"],[1.0,\"#f0f921\"]],\"type\":\"heatmapgl\"}],\"histogram\":[{\"marker\":{\"pattern\":{\"fillmode\":\"overlay\",\"size\":10,\"solidity\":0.2}},\"type\":\"histogram\"}],\"histogram2d\":[{\"colorbar\":{\"outlinewidth\":0,\"ticks\":\"\"},\"colorscale\":[[0.0,\"#0d0887\"],[0.1111111111111111,\"#46039f\"],[0.2222222222222222,\"#7201a8\"],[0.3333333333333333,\"#9c179e\"],[0.4444444444444444,\"#bd3786\"],[0.5555555555555556,\"#d8576b\"],[0.6666666666666666,\"#ed7953\"],[0.7777777777777778,\"#fb9f3a\"],[0.8888888888888888,\"#fdca26\"],[1.0,\"#f0f921\"]],\"type\":\"histogram2d\"}],\"histogram2dcontour\":[{\"colorbar\":{\"outlinewidth\":0,\"ticks\":\"\"},\"colorscale\":[[0.0,\"#0d0887\"],[0.1111111111111111,\"#46039f\"],[0.2222222222222222,\"#7201a8\"],[0.3333333333333333,\"#9c179e\"],[0.4444444444444444,\"#bd3786\"],[0.5555555555555556,\"#d8576b\"],[0.6666666666666666,\"#ed7953\"],[0.7777777777777778,\"#fb9f3a\"],[0.8888888888888888,\"#fdca26\"],[1.0,\"#f0f921\"]],\"type\":\"histogram2dcontour\"}],\"mesh3d\":[{\"colorbar\":{\"outlinewidth\":0,\"ticks\":\"\"},\"type\":\"mesh3d\"}],\"parcoords\":[{\"line\":{\"colorbar\":{\"outlinewidth\":0,\"ticks\":\"\"}},\"type\":\"parcoords\"}],\"pie\":[{\"automargin\":true,\"type\":\"pie\"}],\"scatter\":[{\"marker\":{\"colorbar\":{\"outlinewidth\":0,\"ticks\":\"\"}},\"type\":\"scatter\"}],\"scatter3d\":[{\"line\":{\"colorbar\":{\"outlinewidth\":0,\"ticks\":\"\"}},\"marker\":{\"colorbar\":{\"outlinewidth\":0,\"ticks\":\"\"}},\"type\":\"scatter3d\"}],\"scattercarpet\":[{\"marker\":{\"colorbar\":{\"outlinewidth\":0,\"ticks\":\"\"}},\"type\":\"scattercarpet\"}],\"scattergeo\":[{\"marker\":{\"colorbar\":{\"outlinewidth\":0,\"ticks\":\"\"}},\"type\":\"scattergeo\"}],\"scattergl\":[{\"marker\":{\"colorbar\":{\"outlinewidth\":0,\"ticks\":\"\"}},\"type\":\"scattergl\"}],\"scattermapbox\":[{\"marker\":{\"colorbar\":{\"outlinewidth\":0,\"ticks\":\"\"}},\"type\":\"scattermapbox\"}],\"scatterpolar\":[{\"marker\":{\"colorbar\":{\"outlinewidth\":0,\"ticks\":\"\"}},\"type\":\"scatterpolar\"}],\"scatterpolargl\":[{\"marker\":{\"colorbar\":{\"outlinewidth\":0,\"ticks\":\"\"}},\"type\":\"scatterpolargl\"}],\"scatterternary\":[{\"marker\":{\"colorbar\":{\"outlinewidth\":0,\"ticks\":\"\"}},\"type\":\"scatterternary\"}],\"surface\":[{\"colorbar\":{\"outlinewidth\":0,\"ticks\":\"\"},\"colorscale\":[[0.0,\"#0d0887\"],[0.1111111111111111,\"#46039f\"],[0.2222222222222222,\"#7201a8\"],[0.3333333333333333,\"#9c179e\"],[0.4444444444444444,\"#bd3786\"],[0.5555555555555556,\"#d8576b\"],[0.6666666666666666,\"#ed7953\"],[0.7777777777777778,\"#fb9f3a\"],[0.8888888888888888,\"#fdca26\"],[1.0,\"#f0f921\"]],\"type\":\"surface\"}],\"table\":[{\"cells\":{\"fill\":{\"color\":\"#EBF0F8\"},\"line\":{\"color\":\"white\"}},\"header\":{\"fill\":{\"color\":\"#C8D4E3\"},\"line\":{\"color\":\"white\"}},\"type\":\"table\"}]},\"layout\":{\"annotationdefaults\":{\"arrowcolor\":\"#2a3f5f\",\"arrowhead\":0,\"arrowwidth\":1},\"autotypenumbers\":\"strict\",\"coloraxis\":{\"colorbar\":{\"outlinewidth\":0,\"ticks\":\"\"}},\"colorscale\":{\"diverging\":[[0,\"#8e0152\"],[0.1,\"#c51b7d\"],[0.2,\"#de77ae\"],[0.3,\"#f1b6da\"],[0.4,\"#fde0ef\"],[0.5,\"#f7f7f7\"],[0.6,\"#e6f5d0\"],[0.7,\"#b8e186\"],[0.8,\"#7fbc41\"],[0.9,\"#4d9221\"],[1,\"#276419\"]],\"sequential\":[[0.0,\"#0d0887\"],[0.1111111111111111,\"#46039f\"],[0.2222222222222222,\"#7201a8\"],[0.3333333333333333,\"#9c179e\"],[0.4444444444444444,\"#bd3786\"],[0.5555555555555556,\"#d8576b\"],[0.6666666666666666,\"#ed7953\"],[0.7777777777777778,\"#fb9f3a\"],[0.8888888888888888,\"#fdca26\"],[1.0,\"#f0f921\"]],\"sequentialminus\":[[0.0,\"#0d0887\"],[0.1111111111111111,\"#46039f\"],[0.2222222222222222,\"#7201a8\"],[0.3333333333333333,\"#9c179e\"],[0.4444444444444444,\"#bd3786\"],[0.5555555555555556,\"#d8576b\"],[0.6666666666666666,\"#ed7953\"],[0.7777777777777778,\"#fb9f3a\"],[0.8888888888888888,\"#fdca26\"],[1.0,\"#f0f921\"]]},\"colorway\":[\"#636efa\",\"#EF553B\",\"#00cc96\",\"#ab63fa\",\"#FFA15A\",\"#19d3f3\",\"#FF6692\",\"#B6E880\",\"#FF97FF\",\"#FECB52\"],\"font\":{\"color\":\"#2a3f5f\"},\"geo\":{\"bgcolor\":\"white\",\"lakecolor\":\"white\",\"landcolor\":\"#E5ECF6\",\"showlakes\":true,\"showland\":true,\"subunitcolor\":\"white\"},\"hoverlabel\":{\"align\":\"left\"},\"hovermode\":\"closest\",\"mapbox\":{\"style\":\"light\"},\"paper_bgcolor\":\"white\",\"plot_bgcolor\":\"#E5ECF6\",\"polar\":{\"angularaxis\":{\"gridcolor\":\"white\",\"linecolor\":\"white\",\"ticks\":\"\"},\"bgcolor\":\"#E5ECF6\",\"radialaxis\":{\"gridcolor\":\"white\",\"linecolor\":\"white\",\"ticks\":\"\"}},\"scene\":{\"xaxis\":{\"backgroundcolor\":\"#E5ECF6\",\"gridcolor\":\"white\",\"gridwidth\":2,\"linecolor\":\"white\",\"showbackground\":true,\"ticks\":\"\",\"zerolinecolor\":\"white\"},\"yaxis\":{\"backgroundcolor\":\"#E5ECF6\",\"gridcolor\":\"white\",\"gridwidth\":2,\"linecolor\":\"white\",\"showbackground\":true,\"ticks\":\"\",\"zerolinecolor\":\"white\"},\"zaxis\":{\"backgroundcolor\":\"#E5ECF6\",\"gridcolor\":\"white\",\"gridwidth\":2,\"linecolor\":\"white\",\"showbackground\":true,\"ticks\":\"\",\"zerolinecolor\":\"white\"}},\"shapedefaults\":{\"line\":{\"color\":\"#2a3f5f\"}},\"ternary\":{\"aaxis\":{\"gridcolor\":\"white\",\"linecolor\":\"white\",\"ticks\":\"\"},\"baxis\":{\"gridcolor\":\"white\",\"linecolor\":\"white\",\"ticks\":\"\"},\"bgcolor\":\"#E5ECF6\",\"caxis\":{\"gridcolor\":\"white\",\"linecolor\":\"white\",\"ticks\":\"\"}},\"title\":{\"x\":0.05},\"xaxis\":{\"automargin\":true,\"gridcolor\":\"white\",\"linecolor\":\"white\",\"ticks\":\"\",\"title\":{\"standoff\":15},\"zerolinecolor\":\"white\",\"zerolinewidth\":2},\"yaxis\":{\"automargin\":true,\"gridcolor\":\"white\",\"linecolor\":\"white\",\"ticks\":\"\",\"title\":{\"standoff\":15},\"zerolinecolor\":\"white\",\"zerolinewidth\":2}}},\"title\":{\"text\":\"Number of Confirmed Cases\"},\"treemapcolorway\":[\"rgb(27,158,119)\",\"rgb(217,95,2)\",\"rgb(117,112,179)\",\"rgb(231,41,138)\",\"rgb(102,166,30)\",\"rgb(230,171,2)\",\"rgb(166,118,29)\",\"rgb(102,102,102)\"]},                        {\"responsive\": true}                    ).then(function(){\n",
       "                            \n",
       "var gd = document.getElementById('8f9519e5-43df-49f4-8556-5c0c1eaaa145');\n",
       "var x = new MutationObserver(function (mutations, observer) {{\n",
       "        var display = window.getComputedStyle(gd).display;\n",
       "        if (!display || display === 'none') {{\n",
       "            console.log([gd, 'removed!']);\n",
       "            Plotly.purge(gd);\n",
       "            observer.disconnect();\n",
       "        }}\n",
       "}});\n",
       "\n",
       "// Listen for the removal of the full notebook cells\n",
       "var notebookContainer = gd.closest('#notebook-container');\n",
       "if (notebookContainer) {{\n",
       "    x.observe(notebookContainer, {childList: true});\n",
       "}}\n",
       "\n",
       "// Listen for the clearing of the current output cell\n",
       "var outputEl = gd.closest('.output');\n",
       "if (outputEl) {{\n",
       "    x.observe(outputEl, {childList: true});\n",
       "}}\n",
       "\n",
       "                        })                };                });            </script>        </div>"
      ]
     },
     "metadata": {},
     "output_type": "display_data"
    }
   ],
   "source": [
    "fig = px.treemap(full_latest.sort_values(by = 'Confirmed', ascending = False).reset_index(drop = True), \n",
    "                path = ['Country', 'ProvinceState'], values = 'Confirmed', height = 700, \n",
    "                 title = 'Number of Confirmed Cases', color_discrete_sequence = px.colors.qualitative.Dark2)\n",
    "fig.data[0].textinfo = 'label+text+value'\n",
    "fig.show()"
   ]
  },
  {
   "cell_type": "markdown",
   "id": "b1024bfd",
   "metadata": {},
   "source": [
    "#### Death Cases"
   ]
  },
  {
   "cell_type": "code",
   "execution_count": 165,
   "id": "98d31593",
   "metadata": {},
   "outputs": [],
   "source": [
    "# fig = px.treemap(full_latest.sort_values(by = 'Deaths', ascending = False).reset_index(drop = True), \n",
    "#                 path = ['Country', 'ProvinceState'], values = 'Deaths', height = 700, \n",
    "#                  title = 'Number of Death Cases', color_discrete_sequence = px.colors.qualitative.Dark2)\n",
    "# fig.data[0].textinfo = 'label+text+value'\n",
    "# fig.show()"
   ]
  },
  {
   "cell_type": "markdown",
   "id": "a2432748",
   "metadata": {},
   "source": [
    "### First and Last Case Report Time\n",
    "When was the **first** and the **last** case reported in each **country** (*at the time of this analysis*)?"
   ]
  },
  {
   "cell_type": "code",
   "execution_count": 174,
   "id": "9d6e867d",
   "metadata": {},
   "outputs": [
    {
     "data": {
      "text/html": [
       "<div>\n",
       "<style scoped>\n",
       "    .dataframe tbody tr th:only-of-type {\n",
       "        vertical-align: middle;\n",
       "    }\n",
       "\n",
       "    .dataframe tbody tr th {\n",
       "        vertical-align: top;\n",
       "    }\n",
       "\n",
       "    .dataframe thead th {\n",
       "        text-align: right;\n",
       "    }\n",
       "</style>\n",
       "<table border=\"1\" class=\"dataframe\">\n",
       "  <thead>\n",
       "    <tr style=\"text-align: right;\">\n",
       "      <th></th>\n",
       "      <th>Country</th>\n",
       "      <th>min</th>\n",
       "    </tr>\n",
       "  </thead>\n",
       "  <tbody>\n",
       "    <tr>\n",
       "      <th>104</th>\n",
       "      <td>Lithuania</td>\n",
       "      <td>2020-02-29</td>\n",
       "    </tr>\n",
       "    <tr>\n",
       "      <th>89</th>\n",
       "      <td>Jordan</td>\n",
       "      <td>2020-03-03</td>\n",
       "    </tr>\n",
       "    <tr>\n",
       "      <th>193</th>\n",
       "      <td>West Bank and Gaza</td>\n",
       "      <td>2020-03-05</td>\n",
       "    </tr>\n",
       "    <tr>\n",
       "      <th>154</th>\n",
       "      <td>Senegal</td>\n",
       "      <td>2020-03-02</td>\n",
       "    </tr>\n",
       "    <tr>\n",
       "      <th>150</th>\n",
       "      <td>Samoa</td>\n",
       "      <td>2020-11-18</td>\n",
       "    </tr>\n",
       "  </tbody>\n",
       "</table>\n",
       "</div>"
      ],
      "text/plain": [
       "                Country         min\n",
       "104           Lithuania  2020-02-29\n",
       "89               Jordan  2020-03-03\n",
       "193  West Bank and Gaza  2020-03-05\n",
       "154             Senegal  2020-03-02\n",
       "150               Samoa  2020-11-18"
      ]
     },
     "execution_count": 174,
     "metadata": {},
     "output_type": "execute_result"
    }
   ],
   "source": [
    "first_date = df[df.Confirmed > 0]\n",
    "first_date = first_date.groupby('Country')['Date'].agg(['min']).reset_index()\n",
    "first_date.sample(5)"
   ]
  },
  {
   "cell_type": "code",
   "execution_count": 175,
   "id": "a1a81fa8",
   "metadata": {},
   "outputs": [
    {
     "data": {
      "text/html": [
       "<div>\n",
       "<style scoped>\n",
       "    .dataframe tbody tr th:only-of-type {\n",
       "        vertical-align: middle;\n",
       "    }\n",
       "\n",
       "    .dataframe tbody tr th {\n",
       "        vertical-align: top;\n",
       "    }\n",
       "\n",
       "    .dataframe thead th {\n",
       "        text-align: right;\n",
       "    }\n",
       "</style>\n",
       "<table border=\"1\" class=\"dataframe\">\n",
       "  <thead>\n",
       "    <tr style=\"text-align: right;\">\n",
       "      <th></th>\n",
       "      <th>Country</th>\n",
       "      <th>max</th>\n",
       "    </tr>\n",
       "  </thead>\n",
       "  <tbody>\n",
       "    <tr>\n",
       "      <th>189</th>\n",
       "      <td>Uzbekistan</td>\n",
       "      <td>2022-02-11</td>\n",
       "    </tr>\n",
       "    <tr>\n",
       "      <th>34</th>\n",
       "      <td>Central African Republic</td>\n",
       "      <td>2022-02-11</td>\n",
       "    </tr>\n",
       "    <tr>\n",
       "      <th>175</th>\n",
       "      <td>Tanzania</td>\n",
       "      <td>2022-02-11</td>\n",
       "    </tr>\n",
       "    <tr>\n",
       "      <th>153</th>\n",
       "      <td>Saudi Arabia</td>\n",
       "      <td>2022-02-11</td>\n",
       "    </tr>\n",
       "    <tr>\n",
       "      <th>59</th>\n",
       "      <td>Eswatini</td>\n",
       "      <td>2022-02-11</td>\n",
       "    </tr>\n",
       "  </tbody>\n",
       "</table>\n",
       "</div>"
      ],
      "text/plain": [
       "                      Country         max\n",
       "189                Uzbekistan  2022-02-11\n",
       "34   Central African Republic  2022-02-11\n",
       "175                  Tanzania  2022-02-11\n",
       "153              Saudi Arabia  2022-02-11\n",
       "59                   Eswatini  2022-02-11"
      ]
     },
     "execution_count": 175,
     "metadata": {},
     "output_type": "execute_result"
    }
   ],
   "source": [
    "last_date = df[df.Confirmed > 0]\n",
    "last_date = last_date.groupby('Country')['Date'].agg(['max']).reset_index()\n",
    "last_date.sample(5)"
   ]
  },
  {
   "cell_type": "markdown",
   "id": "160ec129",
   "metadata": {},
   "source": [
    "**Latest date any case (`Confirmed, Deaths, Recovered`) was reported by a country** "
   ]
  },
  {
   "cell_type": "code",
   "execution_count": 176,
   "id": "c59d1c18",
   "metadata": {},
   "outputs": [
    {
     "data": {
      "text/html": [
       "<div>\n",
       "<style scoped>\n",
       "    .dataframe tbody tr th:only-of-type {\n",
       "        vertical-align: middle;\n",
       "    }\n",
       "\n",
       "    .dataframe tbody tr th {\n",
       "        vertical-align: top;\n",
       "    }\n",
       "\n",
       "    .dataframe thead th {\n",
       "        text-align: right;\n",
       "    }\n",
       "</style>\n",
       "<table border=\"1\" class=\"dataframe\">\n",
       "  <thead>\n",
       "    <tr style=\"text-align: right;\">\n",
       "      <th></th>\n",
       "      <th>Country</th>\n",
       "      <th>Date</th>\n",
       "      <th>Confirmed</th>\n",
       "      <th>Deaths</th>\n",
       "      <th>Recovered</th>\n",
       "    </tr>\n",
       "  </thead>\n",
       "  <tbody>\n",
       "    <tr>\n",
       "      <th>110726</th>\n",
       "      <td>Saint Kitts and Nevis</td>\n",
       "      <td>2020-07-22</td>\n",
       "      <td>0.0</td>\n",
       "      <td>0.0</td>\n",
       "      <td>0.0</td>\n",
       "    </tr>\n",
       "    <tr>\n",
       "      <th>82832</th>\n",
       "      <td>Maldives</td>\n",
       "      <td>2020-05-13</td>\n",
       "      <td>51.0</td>\n",
       "      <td>1.0</td>\n",
       "      <td>11.0</td>\n",
       "    </tr>\n",
       "    <tr>\n",
       "      <th>47670</th>\n",
       "      <td>France</td>\n",
       "      <td>2020-11-11</td>\n",
       "      <td>36406.0</td>\n",
       "      <td>328.0</td>\n",
       "      <td>1776.0</td>\n",
       "    </tr>\n",
       "    <tr>\n",
       "      <th>48848</th>\n",
       "      <td>Gabon</td>\n",
       "      <td>2022-01-11</td>\n",
       "      <td>0.0</td>\n",
       "      <td>0.0</td>\n",
       "      <td>0.0</td>\n",
       "    </tr>\n",
       "    <tr>\n",
       "      <th>114998</th>\n",
       "      <td>Sao Tome and Principe</td>\n",
       "      <td>2021-12-16</td>\n",
       "      <td>2.0</td>\n",
       "      <td>0.0</td>\n",
       "      <td>0.0</td>\n",
       "    </tr>\n",
       "  </tbody>\n",
       "</table>\n",
       "</div>"
      ],
      "text/plain": [
       "                      Country        Date  Confirmed  Deaths  Recovered\n",
       "110726  Saint Kitts and Nevis  2020-07-22        0.0     0.0        0.0\n",
       "82832                Maldives  2020-05-13       51.0     1.0       11.0\n",
       "47670                  France  2020-11-11    36406.0   328.0     1776.0\n",
       "48848                   Gabon  2022-01-11        0.0     0.0        0.0\n",
       "114998  Sao Tome and Principe  2021-12-16        2.0     0.0        0.0"
      ]
     },
     "execution_count": 176,
     "metadata": {},
     "output_type": "execute_result"
    }
   ],
   "source": [
    "latest_date = df.groupby(['Country', 'Date'])['Confirmed', 'Deaths', 'Recovered'].sum().diff().reset_index()\n",
    "latest_date.sample(5)"
   ]
  },
  {
   "cell_type": "code",
   "execution_count": 177,
   "id": "01956621",
   "metadata": {},
   "outputs": [
    {
     "data": {
      "text/html": [
       "<div>\n",
       "<style scoped>\n",
       "    .dataframe tbody tr th:only-of-type {\n",
       "        vertical-align: middle;\n",
       "    }\n",
       "\n",
       "    .dataframe tbody tr th {\n",
       "        vertical-align: top;\n",
       "    }\n",
       "\n",
       "    .dataframe thead th {\n",
       "        text-align: right;\n",
       "    }\n",
       "</style>\n",
       "<table border=\"1\" class=\"dataframe\">\n",
       "  <thead>\n",
       "    <tr style=\"text-align: right;\">\n",
       "      <th></th>\n",
       "      <th>Country</th>\n",
       "      <th>Date</th>\n",
       "      <th>Confirmed</th>\n",
       "      <th>Deaths</th>\n",
       "      <th>Recovered</th>\n",
       "    </tr>\n",
       "  </thead>\n",
       "  <tbody>\n",
       "    <tr>\n",
       "      <th>100501</th>\n",
       "      <td>Oman</td>\n",
       "      <td>2021-05-21</td>\n",
       "      <td>0.0</td>\n",
       "      <td>0.0</td>\n",
       "      <td>0.0</td>\n",
       "    </tr>\n",
       "    <tr>\n",
       "      <th>82634</th>\n",
       "      <td>Malaysia</td>\n",
       "      <td>2021-11-18</td>\n",
       "      <td>6380.0</td>\n",
       "      <td>55.0</td>\n",
       "      <td>0.0</td>\n",
       "    </tr>\n",
       "    <tr>\n",
       "      <th>95426</th>\n",
       "      <td>Netherlands</td>\n",
       "      <td>2021-11-26</td>\n",
       "      <td>21349.0</td>\n",
       "      <td>59.0</td>\n",
       "      <td>0.0</td>\n",
       "    </tr>\n",
       "    <tr>\n",
       "      <th>6486</th>\n",
       "      <td>Armenia</td>\n",
       "      <td>2021-05-06</td>\n",
       "      <td>425.0</td>\n",
       "      <td>14.0</td>\n",
       "      <td>714.0</td>\n",
       "    </tr>\n",
       "    <tr>\n",
       "      <th>50989</th>\n",
       "      <td>Germany</td>\n",
       "      <td>2021-09-18</td>\n",
       "      <td>7103.0</td>\n",
       "      <td>36.0</td>\n",
       "      <td>0.0</td>\n",
       "    </tr>\n",
       "  </tbody>\n",
       "</table>\n",
       "</div>"
      ],
      "text/plain": [
       "            Country        Date  Confirmed  Deaths  Recovered\n",
       "100501         Oman  2021-05-21        0.0     0.0        0.0\n",
       "82634      Malaysia  2021-11-18     6380.0    55.0        0.0\n",
       "95426   Netherlands  2021-11-26    21349.0    59.0        0.0\n",
       "6486        Armenia  2021-05-06      425.0    14.0      714.0\n",
       "50989       Germany  2021-09-18     7103.0    36.0        0.0"
      ]
     },
     "execution_count": 177,
     "metadata": {},
     "output_type": "execute_result"
    }
   ],
   "source": [
    "mask = latest_date.Country != latest_date.Country.shift(1)\n",
    "\n",
    "latest_date.loc[mask, 'Confirmed'] = np.nan\n",
    "latest_date.loc[mask, 'Deaths'] = np.nan\n",
    "latest_date.loc[mask, 'Recovered'] = np.nan\n",
    "latest_date.sample(5)"
   ]
  },
  {
   "cell_type": "code",
   "execution_count": 178,
   "id": "9b5a2ed8",
   "metadata": {},
   "outputs": [
    {
     "data": {
      "text/html": [
       "<div>\n",
       "<style scoped>\n",
       "    .dataframe tbody tr th:only-of-type {\n",
       "        vertical-align: middle;\n",
       "    }\n",
       "\n",
       "    .dataframe tbody tr th {\n",
       "        vertical-align: top;\n",
       "    }\n",
       "\n",
       "    .dataframe thead th {\n",
       "        text-align: right;\n",
       "    }\n",
       "</style>\n",
       "<table border=\"1\" class=\"dataframe\">\n",
       "  <thead>\n",
       "    <tr style=\"text-align: right;\">\n",
       "      <th></th>\n",
       "      <th>Country</th>\n",
       "      <th>Date</th>\n",
       "      <th>Confirmed</th>\n",
       "      <th>Deaths</th>\n",
       "      <th>Recovered</th>\n",
       "    </tr>\n",
       "  </thead>\n",
       "  <tbody>\n",
       "    <tr>\n",
       "      <th>66869</th>\n",
       "      <td>Japan</td>\n",
       "      <td>2021-12-15</td>\n",
       "      <td>159.0</td>\n",
       "      <td>1.0</td>\n",
       "      <td>0.0</td>\n",
       "    </tr>\n",
       "    <tr>\n",
       "      <th>114274</th>\n",
       "      <td>San Marino</td>\n",
       "      <td>2022-01-13</td>\n",
       "      <td>180.0</td>\n",
       "      <td>0.0</td>\n",
       "      <td>0.0</td>\n",
       "    </tr>\n",
       "    <tr>\n",
       "      <th>13366</th>\n",
       "      <td>Belgium</td>\n",
       "      <td>2021-08-26</td>\n",
       "      <td>2467.0</td>\n",
       "      <td>6.0</td>\n",
       "      <td>0.0</td>\n",
       "    </tr>\n",
       "    <tr>\n",
       "      <th>5367</th>\n",
       "      <td>Argentina</td>\n",
       "      <td>2020-05-04</td>\n",
       "      <td>104.0</td>\n",
       "      <td>14.0</td>\n",
       "      <td>88.0</td>\n",
       "    </tr>\n",
       "    <tr>\n",
       "      <th>87897</th>\n",
       "      <td>Mexico</td>\n",
       "      <td>2021-11-17</td>\n",
       "      <td>4571.0</td>\n",
       "      <td>369.0</td>\n",
       "      <td>0.0</td>\n",
       "    </tr>\n",
       "  </tbody>\n",
       "</table>\n",
       "</div>"
      ],
      "text/plain": [
       "           Country        Date  Confirmed  Deaths  Recovered\n",
       "66869        Japan  2021-12-15      159.0     1.0        0.0\n",
       "114274  San Marino  2022-01-13      180.0     0.0        0.0\n",
       "13366      Belgium  2021-08-26     2467.0     6.0        0.0\n",
       "5367     Argentina  2020-05-04      104.0    14.0       88.0\n",
       "87897       Mexico  2021-11-17     4571.0   369.0        0.0"
      ]
     },
     "execution_count": 178,
     "metadata": {},
     "output_type": "execute_result"
    }
   ],
   "source": [
    "latest_date = latest_date[latest_date.Confirmed > 0]\n",
    "latest_date.sample(5)"
   ]
  },
  {
   "cell_type": "code",
   "execution_count": 179,
   "id": "2f6f9839",
   "metadata": {},
   "outputs": [
    {
     "data": {
      "text/html": [
       "<div>\n",
       "<style scoped>\n",
       "    .dataframe tbody tr th:only-of-type {\n",
       "        vertical-align: middle;\n",
       "    }\n",
       "\n",
       "    .dataframe tbody tr th {\n",
       "        vertical-align: top;\n",
       "    }\n",
       "\n",
       "    .dataframe thead th {\n",
       "        text-align: right;\n",
       "    }\n",
       "</style>\n",
       "<table border=\"1\" class=\"dataframe\">\n",
       "  <thead>\n",
       "    <tr style=\"text-align: right;\">\n",
       "      <th></th>\n",
       "      <th>Country</th>\n",
       "      <th>max</th>\n",
       "    </tr>\n",
       "  </thead>\n",
       "  <tbody>\n",
       "    <tr>\n",
       "      <th>45</th>\n",
       "      <td>Cuba</td>\n",
       "      <td>2022-02-11</td>\n",
       "    </tr>\n",
       "    <tr>\n",
       "      <th>127</th>\n",
       "      <td>New Zealand</td>\n",
       "      <td>2022-02-11</td>\n",
       "    </tr>\n",
       "    <tr>\n",
       "      <th>108</th>\n",
       "      <td>Malawi</td>\n",
       "      <td>2022-02-11</td>\n",
       "    </tr>\n",
       "    <tr>\n",
       "      <th>154</th>\n",
       "      <td>Senegal</td>\n",
       "      <td>2022-02-11</td>\n",
       "    </tr>\n",
       "    <tr>\n",
       "      <th>50</th>\n",
       "      <td>Djibouti</td>\n",
       "      <td>2022-02-11</td>\n",
       "    </tr>\n",
       "  </tbody>\n",
       "</table>\n",
       "</div>"
      ],
      "text/plain": [
       "         Country         max\n",
       "45          Cuba  2022-02-11\n",
       "127  New Zealand  2022-02-11\n",
       "108       Malawi  2022-02-11\n",
       "154      Senegal  2022-02-11\n",
       "50      Djibouti  2022-02-11"
      ]
     },
     "execution_count": 179,
     "metadata": {},
     "output_type": "execute_result"
    }
   ],
   "source": [
    "latest_date = latest_date.groupby('Country')['Date'].agg(['max']).reset_index()\n",
    "latest_date.sample(5)"
   ]
  },
  {
   "cell_type": "code",
   "execution_count": 181,
   "id": "c5eb3138",
   "metadata": {},
   "outputs": [
    {
     "data": {
      "text/html": [
       "<div>\n",
       "<style scoped>\n",
       "    .dataframe tbody tr th:only-of-type {\n",
       "        vertical-align: middle;\n",
       "    }\n",
       "\n",
       "    .dataframe tbody tr th {\n",
       "        vertical-align: top;\n",
       "    }\n",
       "\n",
       "    .dataframe thead th {\n",
       "        text-align: right;\n",
       "    }\n",
       "</style>\n",
       "<table border=\"1\" class=\"dataframe\">\n",
       "  <thead>\n",
       "    <tr style=\"text-align: right;\">\n",
       "      <th></th>\n",
       "      <th>Country</th>\n",
       "      <th>min</th>\n",
       "      <th>max</th>\n",
       "    </tr>\n",
       "  </thead>\n",
       "  <tbody>\n",
       "    <tr>\n",
       "      <th>41</th>\n",
       "      <td>Congo (Kinshasa)</td>\n",
       "      <td>2020-03-11</td>\n",
       "      <td>2022-02-11</td>\n",
       "    </tr>\n",
       "    <tr>\n",
       "      <th>140</th>\n",
       "      <td>Philippines</td>\n",
       "      <td>2020-01-30</td>\n",
       "      <td>2022-02-11</td>\n",
       "    </tr>\n",
       "    <tr>\n",
       "      <th>120</th>\n",
       "      <td>Mongolia</td>\n",
       "      <td>2020-03-10</td>\n",
       "      <td>2022-02-11</td>\n",
       "    </tr>\n",
       "    <tr>\n",
       "      <th>191</th>\n",
       "      <td>Venezuela</td>\n",
       "      <td>2020-03-14</td>\n",
       "      <td>2022-02-10</td>\n",
       "    </tr>\n",
       "    <tr>\n",
       "      <th>153</th>\n",
       "      <td>Saudi Arabia</td>\n",
       "      <td>2020-03-02</td>\n",
       "      <td>2022-02-11</td>\n",
       "    </tr>\n",
       "  </tbody>\n",
       "</table>\n",
       "</div>"
      ],
      "text/plain": [
       "              Country         min         max\n",
       "41   Congo (Kinshasa)  2020-03-11  2022-02-11\n",
       "140       Philippines  2020-01-30  2022-02-11\n",
       "120          Mongolia  2020-03-10  2022-02-11\n",
       "191         Venezuela  2020-03-14  2022-02-10\n",
       "153      Saudi Arabia  2020-03-02  2022-02-11"
      ]
     },
     "execution_count": 181,
     "metadata": {},
     "output_type": "execute_result"
    }
   ],
   "source": [
    "first_last = pd.concat([first_date, latest_date['max']], axis = 1)\n",
    "first_last.sample(5)"
   ]
  },
  {
   "cell_type": "code",
   "execution_count": 185,
   "id": "a669fddc",
   "metadata": {},
   "outputs": [],
   "source": [
    "first_last['min'] = first_last['min'].map(lambda d: pd.to_datetime(d.split()[0], format = '%Y-%m-%d').date())\n",
    "first_last['max'] = first_last['max'].map(lambda d: pd.to_datetime(d.split()[0], format = '%Y-%m-%d').date())"
   ]
  },
  {
   "cell_type": "code",
   "execution_count": 186,
   "id": "4397dc2c",
   "metadata": {},
   "outputs": [
    {
     "data": {
      "text/html": [
       "<div>\n",
       "<style scoped>\n",
       "    .dataframe tbody tr th:only-of-type {\n",
       "        vertical-align: middle;\n",
       "    }\n",
       "\n",
       "    .dataframe tbody tr th {\n",
       "        vertical-align: top;\n",
       "    }\n",
       "\n",
       "    .dataframe thead th {\n",
       "        text-align: right;\n",
       "    }\n",
       "</style>\n",
       "<table border=\"1\" class=\"dataframe\">\n",
       "  <thead>\n",
       "    <tr style=\"text-align: right;\">\n",
       "      <th></th>\n",
       "      <th>Country</th>\n",
       "      <th>min</th>\n",
       "      <th>max</th>\n",
       "    </tr>\n",
       "  </thead>\n",
       "  <tbody>\n",
       "    <tr>\n",
       "      <th>105</th>\n",
       "      <td>Luxembourg</td>\n",
       "      <td>2020-02-29</td>\n",
       "      <td>2022-02-12</td>\n",
       "    </tr>\n",
       "    <tr>\n",
       "      <th>149</th>\n",
       "      <td>Saint Vincent and the Grenadines</td>\n",
       "      <td>2020-03-14</td>\n",
       "      <td>2022-02-10</td>\n",
       "    </tr>\n",
       "    <tr>\n",
       "      <th>68</th>\n",
       "      <td>Ghana</td>\n",
       "      <td>2020-03-14</td>\n",
       "      <td>2022-02-08</td>\n",
       "    </tr>\n",
       "    <tr>\n",
       "      <th>81</th>\n",
       "      <td>Indonesia</td>\n",
       "      <td>2020-03-02</td>\n",
       "      <td>2022-02-12</td>\n",
       "    </tr>\n",
       "    <tr>\n",
       "      <th>114</th>\n",
       "      <td>Mauritania</td>\n",
       "      <td>2020-03-14</td>\n",
       "      <td>2022-02-12</td>\n",
       "    </tr>\n",
       "  </tbody>\n",
       "</table>\n",
       "</div>"
      ],
      "text/plain": [
       "                              Country         min         max\n",
       "105                        Luxembourg  2020-02-29  2022-02-12\n",
       "149  Saint Vincent and the Grenadines  2020-03-14  2022-02-10\n",
       "68                              Ghana  2020-03-14  2022-02-08\n",
       "81                          Indonesia  2020-03-02  2022-02-12\n",
       "114                        Mauritania  2020-03-14  2022-02-12"
      ]
     },
     "execution_count": 186,
     "metadata": {},
     "output_type": "execute_result"
    }
   ],
   "source": [
    "first_last['max'] = first_last['max'] + pd.Timedelta(days = 1)      # add one day to avoid subtracting a day from itself\n",
    "first_last.sample(5)"
   ]
  },
  {
   "cell_type": "markdown",
   "id": "541677a7",
   "metadata": {},
   "source": [
    "**Let's calculate the number of days between first reported case and last reported case for each country**"
   ]
  },
  {
   "cell_type": "code",
   "execution_count": 187,
   "id": "d976477e",
   "metadata": {},
   "outputs": [
    {
     "data": {
      "text/html": [
       "<div>\n",
       "<style scoped>\n",
       "    .dataframe tbody tr th:only-of-type {\n",
       "        vertical-align: middle;\n",
       "    }\n",
       "\n",
       "    .dataframe tbody tr th {\n",
       "        vertical-align: top;\n",
       "    }\n",
       "\n",
       "    .dataframe thead th {\n",
       "        text-align: right;\n",
       "    }\n",
       "</style>\n",
       "<table border=\"1\" class=\"dataframe\">\n",
       "  <thead>\n",
       "    <tr style=\"text-align: right;\">\n",
       "      <th></th>\n",
       "      <th>Country</th>\n",
       "      <th>min</th>\n",
       "      <th>max</th>\n",
       "      <th>Days</th>\n",
       "    </tr>\n",
       "  </thead>\n",
       "  <tbody>\n",
       "    <tr>\n",
       "      <th>49</th>\n",
       "      <td>Diamond Princess</td>\n",
       "      <td>2020-02-07</td>\n",
       "      <td>2020-03-19</td>\n",
       "      <td>41</td>\n",
       "    </tr>\n",
       "    <tr>\n",
       "      <th>160</th>\n",
       "      <td>Slovenia</td>\n",
       "      <td>2020-03-05</td>\n",
       "      <td>2022-02-12</td>\n",
       "      <td>709</td>\n",
       "    </tr>\n",
       "    <tr>\n",
       "      <th>17</th>\n",
       "      <td>Belgium</td>\n",
       "      <td>2020-02-04</td>\n",
       "      <td>2022-02-12</td>\n",
       "      <td>739</td>\n",
       "    </tr>\n",
       "    <tr>\n",
       "      <th>123</th>\n",
       "      <td>Mozambique</td>\n",
       "      <td>2020-03-22</td>\n",
       "      <td>2022-02-12</td>\n",
       "      <td>692</td>\n",
       "    </tr>\n",
       "    <tr>\n",
       "      <th>58</th>\n",
       "      <td>Estonia</td>\n",
       "      <td>2020-02-27</td>\n",
       "      <td>2022-02-12</td>\n",
       "      <td>716</td>\n",
       "    </tr>\n",
       "  </tbody>\n",
       "</table>\n",
       "</div>"
      ],
      "text/plain": [
       "              Country         min         max  Days\n",
       "49   Diamond Princess  2020-02-07  2020-03-19    41\n",
       "160          Slovenia  2020-03-05  2022-02-12   709\n",
       "17            Belgium  2020-02-04  2022-02-12   739\n",
       "123        Mozambique  2020-03-22  2022-02-12   692\n",
       "58            Estonia  2020-02-27  2022-02-12   716"
      ]
     },
     "execution_count": 187,
     "metadata": {},
     "output_type": "execute_result"
    }
   ],
   "source": [
    "first_last['Days'] = (first_last['max'] - first_last['min']).map(lambda d: d.days)\n",
    "first_last.sample(5)"
   ]
  },
  {
   "cell_type": "code",
   "execution_count": 189,
   "id": "1d3508c6",
   "metadata": {},
   "outputs": [
    {
     "data": {
      "text/html": [
       "<div>\n",
       "<style scoped>\n",
       "    .dataframe tbody tr th:only-of-type {\n",
       "        vertical-align: middle;\n",
       "    }\n",
       "\n",
       "    .dataframe tbody tr th {\n",
       "        vertical-align: top;\n",
       "    }\n",
       "\n",
       "    .dataframe thead th {\n",
       "        text-align: right;\n",
       "    }\n",
       "</style>\n",
       "<table border=\"1\" class=\"dataframe\">\n",
       "  <thead>\n",
       "    <tr style=\"text-align: right;\">\n",
       "      <th></th>\n",
       "      <th>Country</th>\n",
       "      <th>StartDate</th>\n",
       "      <th>LastDate</th>\n",
       "      <th>Days</th>\n",
       "      <th>Task</th>\n",
       "    </tr>\n",
       "  </thead>\n",
       "  <tbody>\n",
       "    <tr>\n",
       "      <th>101</th>\n",
       "      <td>Liberia</td>\n",
       "      <td>2020-03-17</td>\n",
       "      <td>2022-02-11</td>\n",
       "      <td>696</td>\n",
       "      <td>Liberia</td>\n",
       "    </tr>\n",
       "    <tr>\n",
       "      <th>135</th>\n",
       "      <td>Palau</td>\n",
       "      <td>2021-08-22</td>\n",
       "      <td>2022-02-12</td>\n",
       "      <td>174</td>\n",
       "      <td>Palau</td>\n",
       "    </tr>\n",
       "    <tr>\n",
       "      <th>82</th>\n",
       "      <td>Iran</td>\n",
       "      <td>2020-02-19</td>\n",
       "      <td>2022-02-12</td>\n",
       "      <td>724</td>\n",
       "      <td>Iran</td>\n",
       "    </tr>\n",
       "    <tr>\n",
       "      <th>113</th>\n",
       "      <td>Marshall Islands</td>\n",
       "      <td>2020-10-28</td>\n",
       "      <td>2022-01-07</td>\n",
       "      <td>436</td>\n",
       "      <td>Marshall Islands</td>\n",
       "    </tr>\n",
       "    <tr>\n",
       "      <th>107</th>\n",
       "      <td>Madagascar</td>\n",
       "      <td>2020-03-20</td>\n",
       "      <td>2022-02-06</td>\n",
       "      <td>688</td>\n",
       "      <td>Madagascar</td>\n",
       "    </tr>\n",
       "  </tbody>\n",
       "</table>\n",
       "</div>"
      ],
      "text/plain": [
       "              Country   StartDate    LastDate  Days              Task\n",
       "101           Liberia  2020-03-17  2022-02-11   696           Liberia\n",
       "135             Palau  2021-08-22  2022-02-12   174             Palau\n",
       "82               Iran  2020-02-19  2022-02-12   724              Iran\n",
       "113  Marshall Islands  2020-10-28  2022-01-07   436  Marshall Islands\n",
       "107        Madagascar  2020-03-20  2022-02-06   688        Madagascar"
      ]
     },
     "execution_count": 189,
     "metadata": {},
     "output_type": "execute_result"
    }
   ],
   "source": [
    "first_last['Task'] = first_last['Country']              # Task key is required by figure factory plot\n",
    "#first_last.rename(columns = {'min': 'StartDate', 'max': 'LastDate'}, inplace = True)\n",
    "first_last.rename(columns = {'min': 'Start', 'max': 'Finish'}, inplace = True)     # required by figure factory plot\n",
    "first_last.sample(5)"
   ]
  },
  {
   "cell_type": "code",
   "execution_count": 190,
   "id": "5dffad1a",
   "metadata": {},
   "outputs": [
    {
     "data": {
      "text/html": [
       "<div>\n",
       "<style scoped>\n",
       "    .dataframe tbody tr th:only-of-type {\n",
       "        vertical-align: middle;\n",
       "    }\n",
       "\n",
       "    .dataframe tbody tr th {\n",
       "        vertical-align: top;\n",
       "    }\n",
       "\n",
       "    .dataframe thead th {\n",
       "        text-align: right;\n",
       "    }\n",
       "</style>\n",
       "<table border=\"1\" class=\"dataframe\">\n",
       "  <thead>\n",
       "    <tr style=\"text-align: right;\">\n",
       "      <th></th>\n",
       "      <th>Country</th>\n",
       "      <th>StartDate</th>\n",
       "      <th>LastDate</th>\n",
       "      <th>Days</th>\n",
       "      <th>Task</th>\n",
       "    </tr>\n",
       "  </thead>\n",
       "  <tbody>\n",
       "    <tr>\n",
       "      <th>37</th>\n",
       "      <td>China</td>\n",
       "      <td>2020-01-22</td>\n",
       "      <td>2022-02-12</td>\n",
       "      <td>752</td>\n",
       "      <td>China</td>\n",
       "    </tr>\n",
       "    <tr>\n",
       "      <th>88</th>\n",
       "      <td>Japan</td>\n",
       "      <td>2020-01-22</td>\n",
       "      <td>2022-02-12</td>\n",
       "      <td>752</td>\n",
       "      <td>Japan</td>\n",
       "    </tr>\n",
       "    <tr>\n",
       "      <th>183</th>\n",
       "      <td>US</td>\n",
       "      <td>2020-01-22</td>\n",
       "      <td>2022-02-12</td>\n",
       "      <td>752</td>\n",
       "      <td>US</td>\n",
       "    </tr>\n",
       "    <tr>\n",
       "      <th>176</th>\n",
       "      <td>Thailand</td>\n",
       "      <td>2020-01-22</td>\n",
       "      <td>2022-02-12</td>\n",
       "      <td>752</td>\n",
       "      <td>Thailand</td>\n",
       "    </tr>\n",
       "    <tr>\n",
       "      <th>173</th>\n",
       "      <td>Taiwan*</td>\n",
       "      <td>2020-01-22</td>\n",
       "      <td>2022-02-12</td>\n",
       "      <td>752</td>\n",
       "      <td>Taiwan*</td>\n",
       "    </tr>\n",
       "  </tbody>\n",
       "</table>\n",
       "</div>"
      ],
      "text/plain": [
       "      Country   StartDate    LastDate  Days      Task\n",
       "37      China  2020-01-22  2022-02-12   752     China\n",
       "88      Japan  2020-01-22  2022-02-12   752     Japan\n",
       "183        US  2020-01-22  2022-02-12   752        US\n",
       "176  Thailand  2020-01-22  2022-02-12   752  Thailand\n",
       "173   Taiwan*  2020-01-22  2022-02-12   752   Taiwan*"
      ]
     },
     "execution_count": 190,
     "metadata": {},
     "output_type": "execute_result"
    }
   ],
   "source": [
    "first_last = first_last.sort_values(by = 'Days', ascending = False)\n",
    "first_last.head()"
   ]
  },
  {
   "cell_type": "code",
   "execution_count": 191,
   "id": "79509bec",
   "metadata": {},
   "outputs": [
    {
     "data": {
      "text/html": [
       "<div>\n",
       "<style scoped>\n",
       "    .dataframe tbody tr th:only-of-type {\n",
       "        vertical-align: middle;\n",
       "    }\n",
       "\n",
       "    .dataframe tbody tr th {\n",
       "        vertical-align: top;\n",
       "    }\n",
       "\n",
       "    .dataframe thead th {\n",
       "        text-align: right;\n",
       "    }\n",
       "</style>\n",
       "<table border=\"1\" class=\"dataframe\">\n",
       "  <thead>\n",
       "    <tr style=\"text-align: right;\">\n",
       "      <th></th>\n",
       "      <th>Country</th>\n",
       "      <th>StartDate</th>\n",
       "      <th>LastDate</th>\n",
       "      <th>Days</th>\n",
       "      <th>Task</th>\n",
       "    </tr>\n",
       "  </thead>\n",
       "  <tbody>\n",
       "    <tr>\n",
       "      <th>49</th>\n",
       "      <td>Diamond Princess</td>\n",
       "      <td>2020-02-07</td>\n",
       "      <td>2020-03-19</td>\n",
       "      <td>41</td>\n",
       "      <td>Diamond Princess</td>\n",
       "    </tr>\n",
       "    <tr>\n",
       "      <th>194</th>\n",
       "      <td>Winter Olympics 2022</td>\n",
       "      <td>2022-01-23</td>\n",
       "      <td>2022-02-12</td>\n",
       "      <td>20</td>\n",
       "      <td>Winter Olympics 2022</td>\n",
       "    </tr>\n",
       "    <tr>\n",
       "      <th>106</th>\n",
       "      <td>MS Zaandam</td>\n",
       "      <td>2020-03-28</td>\n",
       "      <td>2020-04-02</td>\n",
       "      <td>5</td>\n",
       "      <td>MS Zaandam</td>\n",
       "    </tr>\n",
       "    <tr>\n",
       "      <th>5</th>\n",
       "      <td>Antarctica</td>\n",
       "      <td>2021-12-14</td>\n",
       "      <td>2021-12-15</td>\n",
       "      <td>1</td>\n",
       "      <td>Antarctica</td>\n",
       "    </tr>\n",
       "    <tr>\n",
       "      <th>117</th>\n",
       "      <td>Micronesia</td>\n",
       "      <td>2021-01-21</td>\n",
       "      <td>2021-01-22</td>\n",
       "      <td>1</td>\n",
       "      <td>Micronesia</td>\n",
       "    </tr>\n",
       "  </tbody>\n",
       "</table>\n",
       "</div>"
      ],
      "text/plain": [
       "                  Country   StartDate    LastDate  Days                  Task\n",
       "49       Diamond Princess  2020-02-07  2020-03-19    41      Diamond Princess\n",
       "194  Winter Olympics 2022  2022-01-23  2022-02-12    20  Winter Olympics 2022\n",
       "106            MS Zaandam  2020-03-28  2020-04-02     5            MS Zaandam\n",
       "5              Antarctica  2021-12-14  2021-12-15     1            Antarctica\n",
       "117            Micronesia  2021-01-21  2021-01-22     1            Micronesia"
      ]
     },
     "execution_count": 191,
     "metadata": {},
     "output_type": "execute_result"
    }
   ],
   "source": [
    "first_last.tail()"
   ]
  },
  {
   "cell_type": "markdown",
   "id": "708c4e04",
   "metadata": {},
   "source": [
    "#### Visualisation"
   ]
  },
  {
   "cell_type": "code",
   "execution_count": 198,
   "id": "c7748443",
   "metadata": {},
   "outputs": [],
   "source": [
    "colors = ['#' + ''.join([random.choice('0123456789abcdef') for i in range(6)]) for j in range(len(first_last))]"
   ]
  },
  {
   "cell_type": "code",
   "execution_count": null,
   "id": "e5a5980c",
   "metadata": {},
   "outputs": [],
   "source": [
    "# PlotlyError: The columns in your dataframe must include the following keys: Task, Start, Finish\n",
    "first_last.rename(columns = {'StartDate': 'Start', 'LastDate': 'Finish'}, inplace = True)"
   ]
  },
  {
   "cell_type": "code",
   "execution_count": 202,
   "id": "8611c1c0",
   "metadata": {},
   "outputs": [],
   "source": [
    "# fig = ff.create_gantt(first_last, index_col = 'Country', colors = colors, \n",
    "#                       show_colorbar = False, bar_width = 0.2, showgrid_x = True, showgrid_y = True, height = 2500)\n",
    "# fig.show()"
   ]
  },
  {
   "cell_type": "markdown",
   "id": "16bc00e6",
   "metadata": {},
   "source": [
    "### Confirmed Cases by Country and Day"
   ]
  },
  {
   "cell_type": "code",
   "execution_count": 203,
   "id": "bd063ffa",
   "metadata": {},
   "outputs": [
    {
     "data": {
      "text/html": [
       "<div>\n",
       "<style scoped>\n",
       "    .dataframe tbody tr th:only-of-type {\n",
       "        vertical-align: middle;\n",
       "    }\n",
       "\n",
       "    .dataframe tbody tr th {\n",
       "        vertical-align: top;\n",
       "    }\n",
       "\n",
       "    .dataframe thead th {\n",
       "        text-align: right;\n",
       "    }\n",
       "</style>\n",
       "<table border=\"1\" class=\"dataframe\">\n",
       "  <thead>\n",
       "    <tr style=\"text-align: right;\">\n",
       "      <th></th>\n",
       "      <th>Date</th>\n",
       "      <th>Country</th>\n",
       "      <th>Confirmed</th>\n",
       "      <th>Deaths</th>\n",
       "      <th>Recovered</th>\n",
       "      <th>Active</th>\n",
       "      <th>New Cases</th>\n",
       "      <th>New Recovered</th>\n",
       "      <th>New Deaths</th>\n",
       "    </tr>\n",
       "  </thead>\n",
       "  <tbody>\n",
       "    <tr>\n",
       "      <th>16887</th>\n",
       "      <td>2021-03-07</td>\n",
       "      <td>Bosnia and Herzegovina</td>\n",
       "      <td>135513</td>\n",
       "      <td>5228</td>\n",
       "      <td>117885</td>\n",
       "      <td>12400</td>\n",
       "      <td>0</td>\n",
       "      <td>0</td>\n",
       "      <td>0</td>\n",
       "    </tr>\n",
       "    <tr>\n",
       "      <th>121007</th>\n",
       "      <td>2021-03-16</td>\n",
       "      <td>Solomon Islands</td>\n",
       "      <td>18</td>\n",
       "      <td>0</td>\n",
       "      <td>16</td>\n",
       "      <td>2</td>\n",
       "      <td>0</td>\n",
       "      <td>0</td>\n",
       "      <td>0</td>\n",
       "    </tr>\n",
       "    <tr>\n",
       "      <th>49609</th>\n",
       "      <td>2020-07-16</td>\n",
       "      <td>Georgia</td>\n",
       "      <td>1006</td>\n",
       "      <td>15</td>\n",
       "      <td>883</td>\n",
       "      <td>108</td>\n",
       "      <td>2</td>\n",
       "      <td>10</td>\n",
       "      <td>0</td>\n",
       "    </tr>\n",
       "    <tr>\n",
       "      <th>20285</th>\n",
       "      <td>2020-03-25</td>\n",
       "      <td>Burkina Faso</td>\n",
       "      <td>146</td>\n",
       "      <td>4</td>\n",
       "      <td>10</td>\n",
       "      <td>132</td>\n",
       "      <td>32</td>\n",
       "      <td>3</td>\n",
       "      <td>0</td>\n",
       "    </tr>\n",
       "    <tr>\n",
       "      <th>110167</th>\n",
       "      <td>2020-03-27</td>\n",
       "      <td>Saint Kitts and Nevis</td>\n",
       "      <td>2</td>\n",
       "      <td>0</td>\n",
       "      <td>0</td>\n",
       "      <td>2</td>\n",
       "      <td>0</td>\n",
       "      <td>0</td>\n",
       "      <td>0</td>\n",
       "    </tr>\n",
       "  </tbody>\n",
       "</table>\n",
       "</div>"
      ],
      "text/plain": [
       "              Date                 Country  Confirmed  Deaths  Recovered  \\\n",
       "16887   2021-03-07  Bosnia and Herzegovina     135513    5228     117885   \n",
       "121007  2021-03-16         Solomon Islands         18       0         16   \n",
       "49609   2020-07-16                 Georgia       1006      15        883   \n",
       "20285   2020-03-25            Burkina Faso        146       4         10   \n",
       "110167  2020-03-27   Saint Kitts and Nevis          2       0          0   \n",
       "\n",
       "        Active  New Cases  New Recovered  New Deaths  \n",
       "16887    12400          0              0           0  \n",
       "121007       2          0              0           0  \n",
       "49609      108          2             10           0  \n",
       "20285      132         32              3           0  \n",
       "110167       2          0              0           0  "
      ]
     },
     "execution_count": 203,
     "metadata": {},
     "output_type": "execute_result"
    }
   ],
   "source": [
    "country_daywise.sample(5)"
   ]
  },
  {
   "cell_type": "code",
   "execution_count": 206,
   "id": "eeb6c10e",
   "metadata": {},
   "outputs": [],
   "source": [
    "confirmed_country_day = country_daywise.groupby(['Country', 'Date'])['Confirmed'].sum().reset_index()\n",
    "confirmed_country_day = confirmed_country_day[confirmed_country_day['Country'].isin(gt_10000)]\n",
    "countries = confirmed_country_day['Country'].unique()"
   ]
  },
  {
   "cell_type": "code",
   "execution_count": 210,
   "id": "5857dbb4",
   "metadata": {},
   "outputs": [],
   "source": [
    "# ncols = 3\n",
    "# nrows = math.ceil(len(countries) / ncols)\n",
    "\n",
    "# fig = make_subplots(rows = nrows, cols = ncols, shared_xaxes = False, subplot_titles = countries)\n",
    "\n",
    "# for idx, country in enumerate(countries):\n",
    "#     row = int((idx/ncols) + 1)\n",
    "#     col = int((idx % ncols) + 1)\n",
    "#     fig.add_trace(go.Bar(x = confirmed_country_day.Date, \n",
    "#                          y = confirmed_country_day.loc[confirmed_country_day.Country == country, 'Confirmed'], \n",
    "#                          name = country), row = row, col = col)\n",
    "# fig.update_layout(height = 4000, title_text = 'Confirmed Cases in each Country')\n",
    "# fig.update_layout(showlegend = False)\n",
    "# fig.show()"
   ]
  },
  {
   "cell_type": "markdown",
   "id": "b484bf8d",
   "metadata": {},
   "source": [
    "### Covid-19 vs Other Similar Epidemics\n",
    "*Data from wiki*"
   ]
  },
  {
   "cell_type": "code",
   "execution_count": 215,
   "id": "3e796a5e",
   "metadata": {},
   "outputs": [
    {
     "data": {
      "text/html": [
       "<div>\n",
       "<style scoped>\n",
       "    .dataframe tbody tr th:only-of-type {\n",
       "        vertical-align: middle;\n",
       "    }\n",
       "\n",
       "    .dataframe tbody tr th {\n",
       "        vertical-align: top;\n",
       "    }\n",
       "\n",
       "    .dataframe thead th {\n",
       "        text-align: right;\n",
       "    }\n",
       "</style>\n",
       "<table border=\"1\" class=\"dataframe\">\n",
       "  <thead>\n",
       "    <tr style=\"text-align: right;\">\n",
       "      <th></th>\n",
       "      <th>epidemic</th>\n",
       "      <th>start_year</th>\n",
       "      <th>end_year</th>\n",
       "      <th>confirmed</th>\n",
       "      <th>deaths</th>\n",
       "    </tr>\n",
       "  </thead>\n",
       "  <tbody>\n",
       "    <tr>\n",
       "      <th>0</th>\n",
       "      <td>COVID-19</td>\n",
       "      <td>2019</td>\n",
       "      <td>2022</td>\n",
       "      <td>408442142</td>\n",
       "      <td>5802000</td>\n",
       "    </tr>\n",
       "    <tr>\n",
       "      <th>1</th>\n",
       "      <td>EBOLA</td>\n",
       "      <td>2013</td>\n",
       "      <td>2016</td>\n",
       "      <td>28646</td>\n",
       "      <td>11323</td>\n",
       "    </tr>\n",
       "    <tr>\n",
       "      <th>2</th>\n",
       "      <td>MERS</td>\n",
       "      <td>2012</td>\n",
       "      <td>2020</td>\n",
       "      <td>2519</td>\n",
       "      <td>866</td>\n",
       "    </tr>\n",
       "    <tr>\n",
       "      <th>3</th>\n",
       "      <td>H1N1</td>\n",
       "      <td>2009</td>\n",
       "      <td>2010</td>\n",
       "      <td>6724149</td>\n",
       "      <td>19454</td>\n",
       "    </tr>\n",
       "    <tr>\n",
       "      <th>4</th>\n",
       "      <td>SARS</td>\n",
       "      <td>2002</td>\n",
       "      <td>2004</td>\n",
       "      <td>8422</td>\n",
       "      <td>813</td>\n",
       "    </tr>\n",
       "  </tbody>\n",
       "</table>\n",
       "</div>"
      ],
      "text/plain": [
       "   epidemic  start_year  end_year  confirmed   deaths\n",
       "0  COVID-19        2019      2022  408442142  5802000\n",
       "1     EBOLA        2013      2016      28646    11323\n",
       "2      MERS        2012      2020       2519      866\n",
       "3      H1N1        2009      2010    6724149    19454\n",
       "4      SARS        2002      2004       8422      813"
      ]
     },
     "execution_count": 215,
     "metadata": {},
     "output_type": "execute_result"
    }
   ],
   "source": [
    "epidemic_data = {'epidemic': ['COVID-19', 'EBOLA', 'MERS', 'H1N1', 'SARS'],\n",
    "             'start_year': [2019, 2013, 2012, 2009, 2002],\n",
    "             'end_year': [2022, 2016, 2020, 2010, 2004],\n",
    "             'confirmed': [full_latest.Confirmed.sum(), 28646, 2519, 6724149, 8422],\n",
    "             'deaths': [full_latest.Deaths.sum(), 11323, 866, 19454, 813]\n",
    "            }\n",
    "\n",
    "epidemics = pd.DataFrame(epidemic_data)\n",
    "epidemics"
   ]
  },
  {
   "cell_type": "code",
   "execution_count": 216,
   "id": "c2b8ce3e",
   "metadata": {},
   "outputs": [
    {
     "data": {
      "text/html": [
       "<div>\n",
       "<style scoped>\n",
       "    .dataframe tbody tr th:only-of-type {\n",
       "        vertical-align: middle;\n",
       "    }\n",
       "\n",
       "    .dataframe tbody tr th {\n",
       "        vertical-align: top;\n",
       "    }\n",
       "\n",
       "    .dataframe thead th {\n",
       "        text-align: right;\n",
       "    }\n",
       "</style>\n",
       "<table border=\"1\" class=\"dataframe\">\n",
       "  <thead>\n",
       "    <tr style=\"text-align: right;\">\n",
       "      <th></th>\n",
       "      <th>epidemic</th>\n",
       "      <th>start_year</th>\n",
       "      <th>end_year</th>\n",
       "      <th>confirmed</th>\n",
       "      <th>deaths</th>\n",
       "      <th>mortality</th>\n",
       "    </tr>\n",
       "  </thead>\n",
       "  <tbody>\n",
       "    <tr>\n",
       "      <th>0</th>\n",
       "      <td>COVID-19</td>\n",
       "      <td>2019</td>\n",
       "      <td>2022</td>\n",
       "      <td>408442142</td>\n",
       "      <td>5802000</td>\n",
       "      <td>1.42</td>\n",
       "    </tr>\n",
       "    <tr>\n",
       "      <th>1</th>\n",
       "      <td>EBOLA</td>\n",
       "      <td>2013</td>\n",
       "      <td>2016</td>\n",
       "      <td>28646</td>\n",
       "      <td>11323</td>\n",
       "      <td>39.53</td>\n",
       "    </tr>\n",
       "    <tr>\n",
       "      <th>2</th>\n",
       "      <td>MERS</td>\n",
       "      <td>2012</td>\n",
       "      <td>2020</td>\n",
       "      <td>2519</td>\n",
       "      <td>866</td>\n",
       "      <td>34.38</td>\n",
       "    </tr>\n",
       "    <tr>\n",
       "      <th>3</th>\n",
       "      <td>H1N1</td>\n",
       "      <td>2009</td>\n",
       "      <td>2010</td>\n",
       "      <td>6724149</td>\n",
       "      <td>19454</td>\n",
       "      <td>0.29</td>\n",
       "    </tr>\n",
       "    <tr>\n",
       "      <th>4</th>\n",
       "      <td>SARS</td>\n",
       "      <td>2002</td>\n",
       "      <td>2004</td>\n",
       "      <td>8422</td>\n",
       "      <td>813</td>\n",
       "      <td>9.65</td>\n",
       "    </tr>\n",
       "  </tbody>\n",
       "</table>\n",
       "</div>"
      ],
      "text/plain": [
       "   epidemic  start_year  end_year  confirmed   deaths  mortality\n",
       "0  COVID-19        2019      2022  408442142  5802000       1.42\n",
       "1     EBOLA        2013      2016      28646    11323      39.53\n",
       "2      MERS        2012      2020       2519      866      34.38\n",
       "3      H1N1        2009      2010    6724149    19454       0.29\n",
       "4      SARS        2002      2004       8422      813       9.65"
      ]
     },
     "execution_count": 216,
     "metadata": {},
     "output_type": "execute_result"
    }
   ],
   "source": [
    "epidemics['mortality'] = round(epidemics.deaths / epidemics.confirmed * 100, 2)\n",
    "epidemics"
   ]
  },
  {
   "cell_type": "code",
   "execution_count": 217,
   "id": "e0393060",
   "metadata": {},
   "outputs": [],
   "source": [
    "temp = epidemics.melt(id_vars = 'epidemic', value_vars = ['confirmed', 'deaths', 'mortality'], \n",
    "                     var_name = 'Case', value_name = 'Value')"
   ]
  },
  {
   "cell_type": "code",
   "execution_count": 218,
   "id": "1b4f6c18",
   "metadata": {},
   "outputs": [
    {
     "data": {
      "text/html": [
       "<div>\n",
       "<style scoped>\n",
       "    .dataframe tbody tr th:only-of-type {\n",
       "        vertical-align: middle;\n",
       "    }\n",
       "\n",
       "    .dataframe tbody tr th {\n",
       "        vertical-align: top;\n",
       "    }\n",
       "\n",
       "    .dataframe thead th {\n",
       "        text-align: right;\n",
       "    }\n",
       "</style>\n",
       "<table border=\"1\" class=\"dataframe\">\n",
       "  <thead>\n",
       "    <tr style=\"text-align: right;\">\n",
       "      <th></th>\n",
       "      <th>epidemic</th>\n",
       "      <th>Case</th>\n",
       "      <th>Value</th>\n",
       "    </tr>\n",
       "  </thead>\n",
       "  <tbody>\n",
       "    <tr>\n",
       "      <th>0</th>\n",
       "      <td>COVID-19</td>\n",
       "      <td>confirmed</td>\n",
       "      <td>4.084421e+08</td>\n",
       "    </tr>\n",
       "    <tr>\n",
       "      <th>1</th>\n",
       "      <td>EBOLA</td>\n",
       "      <td>confirmed</td>\n",
       "      <td>2.864600e+04</td>\n",
       "    </tr>\n",
       "    <tr>\n",
       "      <th>2</th>\n",
       "      <td>MERS</td>\n",
       "      <td>confirmed</td>\n",
       "      <td>2.519000e+03</td>\n",
       "    </tr>\n",
       "    <tr>\n",
       "      <th>3</th>\n",
       "      <td>H1N1</td>\n",
       "      <td>confirmed</td>\n",
       "      <td>6.724149e+06</td>\n",
       "    </tr>\n",
       "    <tr>\n",
       "      <th>4</th>\n",
       "      <td>SARS</td>\n",
       "      <td>confirmed</td>\n",
       "      <td>8.422000e+03</td>\n",
       "    </tr>\n",
       "    <tr>\n",
       "      <th>5</th>\n",
       "      <td>COVID-19</td>\n",
       "      <td>deaths</td>\n",
       "      <td>5.802000e+06</td>\n",
       "    </tr>\n",
       "    <tr>\n",
       "      <th>6</th>\n",
       "      <td>EBOLA</td>\n",
       "      <td>deaths</td>\n",
       "      <td>1.132300e+04</td>\n",
       "    </tr>\n",
       "    <tr>\n",
       "      <th>7</th>\n",
       "      <td>MERS</td>\n",
       "      <td>deaths</td>\n",
       "      <td>8.660000e+02</td>\n",
       "    </tr>\n",
       "    <tr>\n",
       "      <th>8</th>\n",
       "      <td>H1N1</td>\n",
       "      <td>deaths</td>\n",
       "      <td>1.945400e+04</td>\n",
       "    </tr>\n",
       "    <tr>\n",
       "      <th>9</th>\n",
       "      <td>SARS</td>\n",
       "      <td>deaths</td>\n",
       "      <td>8.130000e+02</td>\n",
       "    </tr>\n",
       "    <tr>\n",
       "      <th>10</th>\n",
       "      <td>COVID-19</td>\n",
       "      <td>mortality</td>\n",
       "      <td>1.420000e+00</td>\n",
       "    </tr>\n",
       "    <tr>\n",
       "      <th>11</th>\n",
       "      <td>EBOLA</td>\n",
       "      <td>mortality</td>\n",
       "      <td>3.953000e+01</td>\n",
       "    </tr>\n",
       "    <tr>\n",
       "      <th>12</th>\n",
       "      <td>MERS</td>\n",
       "      <td>mortality</td>\n",
       "      <td>3.438000e+01</td>\n",
       "    </tr>\n",
       "    <tr>\n",
       "      <th>13</th>\n",
       "      <td>H1N1</td>\n",
       "      <td>mortality</td>\n",
       "      <td>2.900000e-01</td>\n",
       "    </tr>\n",
       "    <tr>\n",
       "      <th>14</th>\n",
       "      <td>SARS</td>\n",
       "      <td>mortality</td>\n",
       "      <td>9.650000e+00</td>\n",
       "    </tr>\n",
       "  </tbody>\n",
       "</table>\n",
       "</div>"
      ],
      "text/plain": [
       "    epidemic       Case         Value\n",
       "0   COVID-19  confirmed  4.084421e+08\n",
       "1      EBOLA  confirmed  2.864600e+04\n",
       "2       MERS  confirmed  2.519000e+03\n",
       "3       H1N1  confirmed  6.724149e+06\n",
       "4       SARS  confirmed  8.422000e+03\n",
       "5   COVID-19     deaths  5.802000e+06\n",
       "6      EBOLA     deaths  1.132300e+04\n",
       "7       MERS     deaths  8.660000e+02\n",
       "8       H1N1     deaths  1.945400e+04\n",
       "9       SARS     deaths  8.130000e+02\n",
       "10  COVID-19  mortality  1.420000e+00\n",
       "11     EBOLA  mortality  3.953000e+01\n",
       "12      MERS  mortality  3.438000e+01\n",
       "13      H1N1  mortality  2.900000e-01\n",
       "14      SARS  mortality  9.650000e+00"
      ]
     },
     "execution_count": 218,
     "metadata": {},
     "output_type": "execute_result"
    }
   ],
   "source": [
    "temp"
   ]
  },
  {
   "cell_type": "code",
   "execution_count": 220,
   "id": "29aaf93e",
   "metadata": {},
   "outputs": [
    {
     "data": {
      "application/vnd.plotly.v1+json": {
       "config": {
        "plotlyServerURL": "https://plot.ly"
       },
       "data": [
        {
         "alignmentgroup": "True",
         "hovertemplate": "epidemic=%{x}<br>Case=confirmed<br>Value=%{text}<extra></extra>",
         "legendgroup": "COVID-19",
         "marker": {
          "color": "rgb(127, 60, 141)",
          "pattern": {
           "shape": ""
          }
         },
         "name": "COVID-19",
         "offsetgroup": "COVID-19",
         "orientation": "v",
         "showlegend": true,
         "text": [
          408442142
         ],
         "textposition": "outside",
         "type": "bar",
         "x": [
          "COVID-19"
         ],
         "xaxis": "x",
         "y": [
          408442142
         ],
         "yaxis": "y"
        },
        {
         "alignmentgroup": "True",
         "hovertemplate": "epidemic=%{x}<br>Case=deaths<br>Value=%{text}<extra></extra>",
         "legendgroup": "COVID-19",
         "marker": {
          "color": "rgb(127, 60, 141)",
          "pattern": {
           "shape": ""
          }
         },
         "name": "COVID-19",
         "offsetgroup": "COVID-19",
         "orientation": "v",
         "showlegend": false,
         "text": [
          5802000
         ],
         "textposition": "outside",
         "type": "bar",
         "x": [
          "COVID-19"
         ],
         "xaxis": "x2",
         "y": [
          5802000
         ],
         "yaxis": "y2"
        },
        {
         "alignmentgroup": "True",
         "hovertemplate": "epidemic=%{x}<br>Case=mortality<br>Value=%{text}<extra></extra>",
         "legendgroup": "COVID-19",
         "marker": {
          "color": "rgb(127, 60, 141)",
          "pattern": {
           "shape": ""
          }
         },
         "name": "COVID-19",
         "offsetgroup": "COVID-19",
         "orientation": "v",
         "showlegend": false,
         "text": [
          1.42
         ],
         "textposition": "outside",
         "type": "bar",
         "x": [
          "COVID-19"
         ],
         "xaxis": "x3",
         "y": [
          1.42
         ],
         "yaxis": "y3"
        },
        {
         "alignmentgroup": "True",
         "hovertemplate": "epidemic=%{x}<br>Case=confirmed<br>Value=%{text}<extra></extra>",
         "legendgroup": "EBOLA",
         "marker": {
          "color": "rgb(17, 165, 121)",
          "pattern": {
           "shape": ""
          }
         },
         "name": "EBOLA",
         "offsetgroup": "EBOLA",
         "orientation": "v",
         "showlegend": true,
         "text": [
          28646
         ],
         "textposition": "outside",
         "type": "bar",
         "x": [
          "EBOLA"
         ],
         "xaxis": "x",
         "y": [
          28646
         ],
         "yaxis": "y"
        },
        {
         "alignmentgroup": "True",
         "hovertemplate": "epidemic=%{x}<br>Case=deaths<br>Value=%{text}<extra></extra>",
         "legendgroup": "EBOLA",
         "marker": {
          "color": "rgb(17, 165, 121)",
          "pattern": {
           "shape": ""
          }
         },
         "name": "EBOLA",
         "offsetgroup": "EBOLA",
         "orientation": "v",
         "showlegend": false,
         "text": [
          11323
         ],
         "textposition": "outside",
         "type": "bar",
         "x": [
          "EBOLA"
         ],
         "xaxis": "x2",
         "y": [
          11323
         ],
         "yaxis": "y2"
        },
        {
         "alignmentgroup": "True",
         "hovertemplate": "epidemic=%{x}<br>Case=mortality<br>Value=%{text}<extra></extra>",
         "legendgroup": "EBOLA",
         "marker": {
          "color": "rgb(17, 165, 121)",
          "pattern": {
           "shape": ""
          }
         },
         "name": "EBOLA",
         "offsetgroup": "EBOLA",
         "orientation": "v",
         "showlegend": false,
         "text": [
          39.53
         ],
         "textposition": "outside",
         "type": "bar",
         "x": [
          "EBOLA"
         ],
         "xaxis": "x3",
         "y": [
          39.53
         ],
         "yaxis": "y3"
        },
        {
         "alignmentgroup": "True",
         "hovertemplate": "epidemic=%{x}<br>Case=confirmed<br>Value=%{text}<extra></extra>",
         "legendgroup": "MERS",
         "marker": {
          "color": "rgb(57, 105, 172)",
          "pattern": {
           "shape": ""
          }
         },
         "name": "MERS",
         "offsetgroup": "MERS",
         "orientation": "v",
         "showlegend": true,
         "text": [
          2519
         ],
         "textposition": "outside",
         "type": "bar",
         "x": [
          "MERS"
         ],
         "xaxis": "x",
         "y": [
          2519
         ],
         "yaxis": "y"
        },
        {
         "alignmentgroup": "True",
         "hovertemplate": "epidemic=%{x}<br>Case=deaths<br>Value=%{text}<extra></extra>",
         "legendgroup": "MERS",
         "marker": {
          "color": "rgb(57, 105, 172)",
          "pattern": {
           "shape": ""
          }
         },
         "name": "MERS",
         "offsetgroup": "MERS",
         "orientation": "v",
         "showlegend": false,
         "text": [
          866
         ],
         "textposition": "outside",
         "type": "bar",
         "x": [
          "MERS"
         ],
         "xaxis": "x2",
         "y": [
          866
         ],
         "yaxis": "y2"
        },
        {
         "alignmentgroup": "True",
         "hovertemplate": "epidemic=%{x}<br>Case=mortality<br>Value=%{text}<extra></extra>",
         "legendgroup": "MERS",
         "marker": {
          "color": "rgb(57, 105, 172)",
          "pattern": {
           "shape": ""
          }
         },
         "name": "MERS",
         "offsetgroup": "MERS",
         "orientation": "v",
         "showlegend": false,
         "text": [
          34.38
         ],
         "textposition": "outside",
         "type": "bar",
         "x": [
          "MERS"
         ],
         "xaxis": "x3",
         "y": [
          34.38
         ],
         "yaxis": "y3"
        },
        {
         "alignmentgroup": "True",
         "hovertemplate": "epidemic=%{x}<br>Case=confirmed<br>Value=%{text}<extra></extra>",
         "legendgroup": "H1N1",
         "marker": {
          "color": "rgb(242, 183, 1)",
          "pattern": {
           "shape": ""
          }
         },
         "name": "H1N1",
         "offsetgroup": "H1N1",
         "orientation": "v",
         "showlegend": true,
         "text": [
          6724149
         ],
         "textposition": "outside",
         "type": "bar",
         "x": [
          "H1N1"
         ],
         "xaxis": "x",
         "y": [
          6724149
         ],
         "yaxis": "y"
        },
        {
         "alignmentgroup": "True",
         "hovertemplate": "epidemic=%{x}<br>Case=deaths<br>Value=%{text}<extra></extra>",
         "legendgroup": "H1N1",
         "marker": {
          "color": "rgb(242, 183, 1)",
          "pattern": {
           "shape": ""
          }
         },
         "name": "H1N1",
         "offsetgroup": "H1N1",
         "orientation": "v",
         "showlegend": false,
         "text": [
          19454
         ],
         "textposition": "outside",
         "type": "bar",
         "x": [
          "H1N1"
         ],
         "xaxis": "x2",
         "y": [
          19454
         ],
         "yaxis": "y2"
        },
        {
         "alignmentgroup": "True",
         "hovertemplate": "epidemic=%{x}<br>Case=mortality<br>Value=%{text}<extra></extra>",
         "legendgroup": "H1N1",
         "marker": {
          "color": "rgb(242, 183, 1)",
          "pattern": {
           "shape": ""
          }
         },
         "name": "H1N1",
         "offsetgroup": "H1N1",
         "orientation": "v",
         "showlegend": false,
         "text": [
          0.29
         ],
         "textposition": "outside",
         "type": "bar",
         "x": [
          "H1N1"
         ],
         "xaxis": "x3",
         "y": [
          0.29
         ],
         "yaxis": "y3"
        },
        {
         "alignmentgroup": "True",
         "hovertemplate": "epidemic=%{x}<br>Case=confirmed<br>Value=%{text}<extra></extra>",
         "legendgroup": "SARS",
         "marker": {
          "color": "rgb(231, 63, 116)",
          "pattern": {
           "shape": ""
          }
         },
         "name": "SARS",
         "offsetgroup": "SARS",
         "orientation": "v",
         "showlegend": true,
         "text": [
          8422
         ],
         "textposition": "outside",
         "type": "bar",
         "x": [
          "SARS"
         ],
         "xaxis": "x",
         "y": [
          8422
         ],
         "yaxis": "y"
        },
        {
         "alignmentgroup": "True",
         "hovertemplate": "epidemic=%{x}<br>Case=deaths<br>Value=%{text}<extra></extra>",
         "legendgroup": "SARS",
         "marker": {
          "color": "rgb(231, 63, 116)",
          "pattern": {
           "shape": ""
          }
         },
         "name": "SARS",
         "offsetgroup": "SARS",
         "orientation": "v",
         "showlegend": false,
         "text": [
          813
         ],
         "textposition": "outside",
         "type": "bar",
         "x": [
          "SARS"
         ],
         "xaxis": "x2",
         "y": [
          813
         ],
         "yaxis": "y2"
        },
        {
         "alignmentgroup": "True",
         "hovertemplate": "epidemic=%{x}<br>Case=mortality<br>Value=%{text}<extra></extra>",
         "legendgroup": "SARS",
         "marker": {
          "color": "rgb(231, 63, 116)",
          "pattern": {
           "shape": ""
          }
         },
         "name": "SARS",
         "offsetgroup": "SARS",
         "orientation": "v",
         "showlegend": false,
         "text": [
          9.65
         ],
         "textposition": "outside",
         "type": "bar",
         "x": [
          "SARS"
         ],
         "xaxis": "x3",
         "y": [
          9.65
         ],
         "yaxis": "y3"
        }
       ],
       "layout": {
        "annotations": [
         {
          "font": {},
          "showarrow": false,
          "text": "Case=confirmed",
          "x": 0.15999999999999998,
          "xanchor": "center",
          "xref": "paper",
          "y": 1,
          "yanchor": "bottom",
          "yref": "paper"
         },
         {
          "font": {},
          "showarrow": false,
          "text": "Case=deaths",
          "x": 0.49999999999999994,
          "xanchor": "center",
          "xref": "paper",
          "y": 1,
          "yanchor": "bottom",
          "yref": "paper"
         },
         {
          "font": {},
          "showarrow": false,
          "text": "Case=mortality",
          "x": 0.8399999999999999,
          "xanchor": "center",
          "xref": "paper",
          "y": 1,
          "yanchor": "bottom",
          "yref": "paper"
         }
        ],
        "barmode": "relative",
        "legend": {
         "title": {
          "text": "epidemic"
         },
         "tracegroupgap": 0
        },
        "margin": {
         "t": 60
        },
        "template": {
         "data": {
          "bar": [
           {
            "error_x": {
             "color": "#2a3f5f"
            },
            "error_y": {
             "color": "#2a3f5f"
            },
            "marker": {
             "line": {
              "color": "#E5ECF6",
              "width": 0.5
             },
             "pattern": {
              "fillmode": "overlay",
              "size": 10,
              "solidity": 0.2
             }
            },
            "type": "bar"
           }
          ],
          "barpolar": [
           {
            "marker": {
             "line": {
              "color": "#E5ECF6",
              "width": 0.5
             },
             "pattern": {
              "fillmode": "overlay",
              "size": 10,
              "solidity": 0.2
             }
            },
            "type": "barpolar"
           }
          ],
          "carpet": [
           {
            "aaxis": {
             "endlinecolor": "#2a3f5f",
             "gridcolor": "white",
             "linecolor": "white",
             "minorgridcolor": "white",
             "startlinecolor": "#2a3f5f"
            },
            "baxis": {
             "endlinecolor": "#2a3f5f",
             "gridcolor": "white",
             "linecolor": "white",
             "minorgridcolor": "white",
             "startlinecolor": "#2a3f5f"
            },
            "type": "carpet"
           }
          ],
          "choropleth": [
           {
            "colorbar": {
             "outlinewidth": 0,
             "ticks": ""
            },
            "type": "choropleth"
           }
          ],
          "contour": [
           {
            "colorbar": {
             "outlinewidth": 0,
             "ticks": ""
            },
            "colorscale": [
             [
              0,
              "#0d0887"
             ],
             [
              0.1111111111111111,
              "#46039f"
             ],
             [
              0.2222222222222222,
              "#7201a8"
             ],
             [
              0.3333333333333333,
              "#9c179e"
             ],
             [
              0.4444444444444444,
              "#bd3786"
             ],
             [
              0.5555555555555556,
              "#d8576b"
             ],
             [
              0.6666666666666666,
              "#ed7953"
             ],
             [
              0.7777777777777778,
              "#fb9f3a"
             ],
             [
              0.8888888888888888,
              "#fdca26"
             ],
             [
              1,
              "#f0f921"
             ]
            ],
            "type": "contour"
           }
          ],
          "contourcarpet": [
           {
            "colorbar": {
             "outlinewidth": 0,
             "ticks": ""
            },
            "type": "contourcarpet"
           }
          ],
          "heatmap": [
           {
            "colorbar": {
             "outlinewidth": 0,
             "ticks": ""
            },
            "colorscale": [
             [
              0,
              "#0d0887"
             ],
             [
              0.1111111111111111,
              "#46039f"
             ],
             [
              0.2222222222222222,
              "#7201a8"
             ],
             [
              0.3333333333333333,
              "#9c179e"
             ],
             [
              0.4444444444444444,
              "#bd3786"
             ],
             [
              0.5555555555555556,
              "#d8576b"
             ],
             [
              0.6666666666666666,
              "#ed7953"
             ],
             [
              0.7777777777777778,
              "#fb9f3a"
             ],
             [
              0.8888888888888888,
              "#fdca26"
             ],
             [
              1,
              "#f0f921"
             ]
            ],
            "type": "heatmap"
           }
          ],
          "heatmapgl": [
           {
            "colorbar": {
             "outlinewidth": 0,
             "ticks": ""
            },
            "colorscale": [
             [
              0,
              "#0d0887"
             ],
             [
              0.1111111111111111,
              "#46039f"
             ],
             [
              0.2222222222222222,
              "#7201a8"
             ],
             [
              0.3333333333333333,
              "#9c179e"
             ],
             [
              0.4444444444444444,
              "#bd3786"
             ],
             [
              0.5555555555555556,
              "#d8576b"
             ],
             [
              0.6666666666666666,
              "#ed7953"
             ],
             [
              0.7777777777777778,
              "#fb9f3a"
             ],
             [
              0.8888888888888888,
              "#fdca26"
             ],
             [
              1,
              "#f0f921"
             ]
            ],
            "type": "heatmapgl"
           }
          ],
          "histogram": [
           {
            "marker": {
             "pattern": {
              "fillmode": "overlay",
              "size": 10,
              "solidity": 0.2
             }
            },
            "type": "histogram"
           }
          ],
          "histogram2d": [
           {
            "colorbar": {
             "outlinewidth": 0,
             "ticks": ""
            },
            "colorscale": [
             [
              0,
              "#0d0887"
             ],
             [
              0.1111111111111111,
              "#46039f"
             ],
             [
              0.2222222222222222,
              "#7201a8"
             ],
             [
              0.3333333333333333,
              "#9c179e"
             ],
             [
              0.4444444444444444,
              "#bd3786"
             ],
             [
              0.5555555555555556,
              "#d8576b"
             ],
             [
              0.6666666666666666,
              "#ed7953"
             ],
             [
              0.7777777777777778,
              "#fb9f3a"
             ],
             [
              0.8888888888888888,
              "#fdca26"
             ],
             [
              1,
              "#f0f921"
             ]
            ],
            "type": "histogram2d"
           }
          ],
          "histogram2dcontour": [
           {
            "colorbar": {
             "outlinewidth": 0,
             "ticks": ""
            },
            "colorscale": [
             [
              0,
              "#0d0887"
             ],
             [
              0.1111111111111111,
              "#46039f"
             ],
             [
              0.2222222222222222,
              "#7201a8"
             ],
             [
              0.3333333333333333,
              "#9c179e"
             ],
             [
              0.4444444444444444,
              "#bd3786"
             ],
             [
              0.5555555555555556,
              "#d8576b"
             ],
             [
              0.6666666666666666,
              "#ed7953"
             ],
             [
              0.7777777777777778,
              "#fb9f3a"
             ],
             [
              0.8888888888888888,
              "#fdca26"
             ],
             [
              1,
              "#f0f921"
             ]
            ],
            "type": "histogram2dcontour"
           }
          ],
          "mesh3d": [
           {
            "colorbar": {
             "outlinewidth": 0,
             "ticks": ""
            },
            "type": "mesh3d"
           }
          ],
          "parcoords": [
           {
            "line": {
             "colorbar": {
              "outlinewidth": 0,
              "ticks": ""
             }
            },
            "type": "parcoords"
           }
          ],
          "pie": [
           {
            "automargin": true,
            "type": "pie"
           }
          ],
          "scatter": [
           {
            "marker": {
             "colorbar": {
              "outlinewidth": 0,
              "ticks": ""
             }
            },
            "type": "scatter"
           }
          ],
          "scatter3d": [
           {
            "line": {
             "colorbar": {
              "outlinewidth": 0,
              "ticks": ""
             }
            },
            "marker": {
             "colorbar": {
              "outlinewidth": 0,
              "ticks": ""
             }
            },
            "type": "scatter3d"
           }
          ],
          "scattercarpet": [
           {
            "marker": {
             "colorbar": {
              "outlinewidth": 0,
              "ticks": ""
             }
            },
            "type": "scattercarpet"
           }
          ],
          "scattergeo": [
           {
            "marker": {
             "colorbar": {
              "outlinewidth": 0,
              "ticks": ""
             }
            },
            "type": "scattergeo"
           }
          ],
          "scattergl": [
           {
            "marker": {
             "colorbar": {
              "outlinewidth": 0,
              "ticks": ""
             }
            },
            "type": "scattergl"
           }
          ],
          "scattermapbox": [
           {
            "marker": {
             "colorbar": {
              "outlinewidth": 0,
              "ticks": ""
             }
            },
            "type": "scattermapbox"
           }
          ],
          "scatterpolar": [
           {
            "marker": {
             "colorbar": {
              "outlinewidth": 0,
              "ticks": ""
             }
            },
            "type": "scatterpolar"
           }
          ],
          "scatterpolargl": [
           {
            "marker": {
             "colorbar": {
              "outlinewidth": 0,
              "ticks": ""
             }
            },
            "type": "scatterpolargl"
           }
          ],
          "scatterternary": [
           {
            "marker": {
             "colorbar": {
              "outlinewidth": 0,
              "ticks": ""
             }
            },
            "type": "scatterternary"
           }
          ],
          "surface": [
           {
            "colorbar": {
             "outlinewidth": 0,
             "ticks": ""
            },
            "colorscale": [
             [
              0,
              "#0d0887"
             ],
             [
              0.1111111111111111,
              "#46039f"
             ],
             [
              0.2222222222222222,
              "#7201a8"
             ],
             [
              0.3333333333333333,
              "#9c179e"
             ],
             [
              0.4444444444444444,
              "#bd3786"
             ],
             [
              0.5555555555555556,
              "#d8576b"
             ],
             [
              0.6666666666666666,
              "#ed7953"
             ],
             [
              0.7777777777777778,
              "#fb9f3a"
             ],
             [
              0.8888888888888888,
              "#fdca26"
             ],
             [
              1,
              "#f0f921"
             ]
            ],
            "type": "surface"
           }
          ],
          "table": [
           {
            "cells": {
             "fill": {
              "color": "#EBF0F8"
             },
             "line": {
              "color": "white"
             }
            },
            "header": {
             "fill": {
              "color": "#C8D4E3"
             },
             "line": {
              "color": "white"
             }
            },
            "type": "table"
           }
          ]
         },
         "layout": {
          "annotationdefaults": {
           "arrowcolor": "#2a3f5f",
           "arrowhead": 0,
           "arrowwidth": 1
          },
          "autotypenumbers": "strict",
          "coloraxis": {
           "colorbar": {
            "outlinewidth": 0,
            "ticks": ""
           }
          },
          "colorscale": {
           "diverging": [
            [
             0,
             "#8e0152"
            ],
            [
             0.1,
             "#c51b7d"
            ],
            [
             0.2,
             "#de77ae"
            ],
            [
             0.3,
             "#f1b6da"
            ],
            [
             0.4,
             "#fde0ef"
            ],
            [
             0.5,
             "#f7f7f7"
            ],
            [
             0.6,
             "#e6f5d0"
            ],
            [
             0.7,
             "#b8e186"
            ],
            [
             0.8,
             "#7fbc41"
            ],
            [
             0.9,
             "#4d9221"
            ],
            [
             1,
             "#276419"
            ]
           ],
           "sequential": [
            [
             0,
             "#0d0887"
            ],
            [
             0.1111111111111111,
             "#46039f"
            ],
            [
             0.2222222222222222,
             "#7201a8"
            ],
            [
             0.3333333333333333,
             "#9c179e"
            ],
            [
             0.4444444444444444,
             "#bd3786"
            ],
            [
             0.5555555555555556,
             "#d8576b"
            ],
            [
             0.6666666666666666,
             "#ed7953"
            ],
            [
             0.7777777777777778,
             "#fb9f3a"
            ],
            [
             0.8888888888888888,
             "#fdca26"
            ],
            [
             1,
             "#f0f921"
            ]
           ],
           "sequentialminus": [
            [
             0,
             "#0d0887"
            ],
            [
             0.1111111111111111,
             "#46039f"
            ],
            [
             0.2222222222222222,
             "#7201a8"
            ],
            [
             0.3333333333333333,
             "#9c179e"
            ],
            [
             0.4444444444444444,
             "#bd3786"
            ],
            [
             0.5555555555555556,
             "#d8576b"
            ],
            [
             0.6666666666666666,
             "#ed7953"
            ],
            [
             0.7777777777777778,
             "#fb9f3a"
            ],
            [
             0.8888888888888888,
             "#fdca26"
            ],
            [
             1,
             "#f0f921"
            ]
           ]
          },
          "colorway": [
           "#636efa",
           "#EF553B",
           "#00cc96",
           "#ab63fa",
           "#FFA15A",
           "#19d3f3",
           "#FF6692",
           "#B6E880",
           "#FF97FF",
           "#FECB52"
          ],
          "font": {
           "color": "#2a3f5f"
          },
          "geo": {
           "bgcolor": "white",
           "lakecolor": "white",
           "landcolor": "#E5ECF6",
           "showlakes": true,
           "showland": true,
           "subunitcolor": "white"
          },
          "hoverlabel": {
           "align": "left"
          },
          "hovermode": "closest",
          "mapbox": {
           "style": "light"
          },
          "paper_bgcolor": "white",
          "plot_bgcolor": "#E5ECF6",
          "polar": {
           "angularaxis": {
            "gridcolor": "white",
            "linecolor": "white",
            "ticks": ""
           },
           "bgcolor": "#E5ECF6",
           "radialaxis": {
            "gridcolor": "white",
            "linecolor": "white",
            "ticks": ""
           }
          },
          "scene": {
           "xaxis": {
            "backgroundcolor": "#E5ECF6",
            "gridcolor": "white",
            "gridwidth": 2,
            "linecolor": "white",
            "showbackground": true,
            "ticks": "",
            "zerolinecolor": "white"
           },
           "yaxis": {
            "backgroundcolor": "#E5ECF6",
            "gridcolor": "white",
            "gridwidth": 2,
            "linecolor": "white",
            "showbackground": true,
            "ticks": "",
            "zerolinecolor": "white"
           },
           "zaxis": {
            "backgroundcolor": "#E5ECF6",
            "gridcolor": "white",
            "gridwidth": 2,
            "linecolor": "white",
            "showbackground": true,
            "ticks": "",
            "zerolinecolor": "white"
           }
          },
          "shapedefaults": {
           "line": {
            "color": "#2a3f5f"
           }
          },
          "ternary": {
           "aaxis": {
            "gridcolor": "white",
            "linecolor": "white",
            "ticks": ""
           },
           "baxis": {
            "gridcolor": "white",
            "linecolor": "white",
            "ticks": ""
           },
           "bgcolor": "#E5ECF6",
           "caxis": {
            "gridcolor": "white",
            "linecolor": "white",
            "ticks": ""
           }
          },
          "title": {
           "x": 0.05
          },
          "xaxis": {
           "automargin": true,
           "gridcolor": "white",
           "linecolor": "white",
           "ticks": "",
           "title": {
            "standoff": 15
           },
           "zerolinecolor": "white",
           "zerolinewidth": 2
          },
          "yaxis": {
           "automargin": true,
           "gridcolor": "white",
           "linecolor": "white",
           "ticks": "",
           "title": {
            "standoff": 15
           },
           "zerolinecolor": "white",
           "zerolinewidth": 2
          }
         }
        },
        "uniformtext": {
         "minsize": 8,
         "mode": "hide"
        },
        "xaxis": {
         "anchor": "y",
         "categoryarray": [
          "COVID-19",
          "EBOLA",
          "MERS",
          "H1N1",
          "SARS"
         ],
         "categoryorder": "array",
         "domain": [
          0,
          0.31999999999999995
         ],
         "title": {
          "text": "epidemic"
         }
        },
        "xaxis2": {
         "anchor": "y2",
         "categoryarray": [
          "COVID-19",
          "EBOLA",
          "MERS",
          "H1N1",
          "SARS"
         ],
         "categoryorder": "array",
         "domain": [
          0.33999999999999997,
          0.6599999999999999
         ],
         "matches": "x",
         "title": {
          "text": "epidemic"
         }
        },
        "xaxis3": {
         "anchor": "y3",
         "categoryarray": [
          "COVID-19",
          "EBOLA",
          "MERS",
          "H1N1",
          "SARS"
         ],
         "categoryorder": "array",
         "domain": [
          0.6799999999999999,
          0.9999999999999999
         ],
         "matches": "x",
         "title": {
          "text": "epidemic"
         }
        },
        "yaxis": {
         "anchor": "x",
         "domain": [
          0,
          1
         ],
         "showticklabels": false,
         "title": {
          "text": "Value"
         }
        },
        "yaxis2": {
         "anchor": "x2",
         "domain": [
          0,
          1
         ],
         "showticklabels": false
        },
        "yaxis3": {
         "anchor": "x3",
         "domain": [
          0,
          1
         ],
         "showticklabels": false
        }
       }
      },
      "text/html": [
       "<div>                            <div id=\"67b6a3dd-3f8a-4f28-9048-47326a3661c6\" class=\"plotly-graph-div\" style=\"height:525px; width:100%;\"></div>            <script type=\"text/javascript\">                require([\"plotly\"], function(Plotly) {                    window.PLOTLYENV=window.PLOTLYENV || {};                                    if (document.getElementById(\"67b6a3dd-3f8a-4f28-9048-47326a3661c6\")) {                    Plotly.newPlot(                        \"67b6a3dd-3f8a-4f28-9048-47326a3661c6\",                        [{\"alignmentgroup\":\"True\",\"hovertemplate\":\"epidemic=%{x}<br>Case=confirmed<br>Value=%{text}<extra></extra>\",\"legendgroup\":\"COVID-19\",\"marker\":{\"color\":\"rgb(127, 60, 141)\",\"pattern\":{\"shape\":\"\"}},\"name\":\"COVID-19\",\"offsetgroup\":\"COVID-19\",\"orientation\":\"v\",\"showlegend\":true,\"text\":[408442142.0],\"textposition\":\"outside\",\"type\":\"bar\",\"x\":[\"COVID-19\"],\"xaxis\":\"x\",\"y\":[408442142.0],\"yaxis\":\"y\"},{\"alignmentgroup\":\"True\",\"hovertemplate\":\"epidemic=%{x}<br>Case=deaths<br>Value=%{text}<extra></extra>\",\"legendgroup\":\"COVID-19\",\"marker\":{\"color\":\"rgb(127, 60, 141)\",\"pattern\":{\"shape\":\"\"}},\"name\":\"COVID-19\",\"offsetgroup\":\"COVID-19\",\"orientation\":\"v\",\"showlegend\":false,\"text\":[5802000.0],\"textposition\":\"outside\",\"type\":\"bar\",\"x\":[\"COVID-19\"],\"xaxis\":\"x2\",\"y\":[5802000.0],\"yaxis\":\"y2\"},{\"alignmentgroup\":\"True\",\"hovertemplate\":\"epidemic=%{x}<br>Case=mortality<br>Value=%{text}<extra></extra>\",\"legendgroup\":\"COVID-19\",\"marker\":{\"color\":\"rgb(127, 60, 141)\",\"pattern\":{\"shape\":\"\"}},\"name\":\"COVID-19\",\"offsetgroup\":\"COVID-19\",\"orientation\":\"v\",\"showlegend\":false,\"text\":[1.42],\"textposition\":\"outside\",\"type\":\"bar\",\"x\":[\"COVID-19\"],\"xaxis\":\"x3\",\"y\":[1.42],\"yaxis\":\"y3\"},{\"alignmentgroup\":\"True\",\"hovertemplate\":\"epidemic=%{x}<br>Case=confirmed<br>Value=%{text}<extra></extra>\",\"legendgroup\":\"EBOLA\",\"marker\":{\"color\":\"rgb(17, 165, 121)\",\"pattern\":{\"shape\":\"\"}},\"name\":\"EBOLA\",\"offsetgroup\":\"EBOLA\",\"orientation\":\"v\",\"showlegend\":true,\"text\":[28646.0],\"textposition\":\"outside\",\"type\":\"bar\",\"x\":[\"EBOLA\"],\"xaxis\":\"x\",\"y\":[28646.0],\"yaxis\":\"y\"},{\"alignmentgroup\":\"True\",\"hovertemplate\":\"epidemic=%{x}<br>Case=deaths<br>Value=%{text}<extra></extra>\",\"legendgroup\":\"EBOLA\",\"marker\":{\"color\":\"rgb(17, 165, 121)\",\"pattern\":{\"shape\":\"\"}},\"name\":\"EBOLA\",\"offsetgroup\":\"EBOLA\",\"orientation\":\"v\",\"showlegend\":false,\"text\":[11323.0],\"textposition\":\"outside\",\"type\":\"bar\",\"x\":[\"EBOLA\"],\"xaxis\":\"x2\",\"y\":[11323.0],\"yaxis\":\"y2\"},{\"alignmentgroup\":\"True\",\"hovertemplate\":\"epidemic=%{x}<br>Case=mortality<br>Value=%{text}<extra></extra>\",\"legendgroup\":\"EBOLA\",\"marker\":{\"color\":\"rgb(17, 165, 121)\",\"pattern\":{\"shape\":\"\"}},\"name\":\"EBOLA\",\"offsetgroup\":\"EBOLA\",\"orientation\":\"v\",\"showlegend\":false,\"text\":[39.53],\"textposition\":\"outside\",\"type\":\"bar\",\"x\":[\"EBOLA\"],\"xaxis\":\"x3\",\"y\":[39.53],\"yaxis\":\"y3\"},{\"alignmentgroup\":\"True\",\"hovertemplate\":\"epidemic=%{x}<br>Case=confirmed<br>Value=%{text}<extra></extra>\",\"legendgroup\":\"MERS\",\"marker\":{\"color\":\"rgb(57, 105, 172)\",\"pattern\":{\"shape\":\"\"}},\"name\":\"MERS\",\"offsetgroup\":\"MERS\",\"orientation\":\"v\",\"showlegend\":true,\"text\":[2519.0],\"textposition\":\"outside\",\"type\":\"bar\",\"x\":[\"MERS\"],\"xaxis\":\"x\",\"y\":[2519.0],\"yaxis\":\"y\"},{\"alignmentgroup\":\"True\",\"hovertemplate\":\"epidemic=%{x}<br>Case=deaths<br>Value=%{text}<extra></extra>\",\"legendgroup\":\"MERS\",\"marker\":{\"color\":\"rgb(57, 105, 172)\",\"pattern\":{\"shape\":\"\"}},\"name\":\"MERS\",\"offsetgroup\":\"MERS\",\"orientation\":\"v\",\"showlegend\":false,\"text\":[866.0],\"textposition\":\"outside\",\"type\":\"bar\",\"x\":[\"MERS\"],\"xaxis\":\"x2\",\"y\":[866.0],\"yaxis\":\"y2\"},{\"alignmentgroup\":\"True\",\"hovertemplate\":\"epidemic=%{x}<br>Case=mortality<br>Value=%{text}<extra></extra>\",\"legendgroup\":\"MERS\",\"marker\":{\"color\":\"rgb(57, 105, 172)\",\"pattern\":{\"shape\":\"\"}},\"name\":\"MERS\",\"offsetgroup\":\"MERS\",\"orientation\":\"v\",\"showlegend\":false,\"text\":[34.38],\"textposition\":\"outside\",\"type\":\"bar\",\"x\":[\"MERS\"],\"xaxis\":\"x3\",\"y\":[34.38],\"yaxis\":\"y3\"},{\"alignmentgroup\":\"True\",\"hovertemplate\":\"epidemic=%{x}<br>Case=confirmed<br>Value=%{text}<extra></extra>\",\"legendgroup\":\"H1N1\",\"marker\":{\"color\":\"rgb(242, 183, 1)\",\"pattern\":{\"shape\":\"\"}},\"name\":\"H1N1\",\"offsetgroup\":\"H1N1\",\"orientation\":\"v\",\"showlegend\":true,\"text\":[6724149.0],\"textposition\":\"outside\",\"type\":\"bar\",\"x\":[\"H1N1\"],\"xaxis\":\"x\",\"y\":[6724149.0],\"yaxis\":\"y\"},{\"alignmentgroup\":\"True\",\"hovertemplate\":\"epidemic=%{x}<br>Case=deaths<br>Value=%{text}<extra></extra>\",\"legendgroup\":\"H1N1\",\"marker\":{\"color\":\"rgb(242, 183, 1)\",\"pattern\":{\"shape\":\"\"}},\"name\":\"H1N1\",\"offsetgroup\":\"H1N1\",\"orientation\":\"v\",\"showlegend\":false,\"text\":[19454.0],\"textposition\":\"outside\",\"type\":\"bar\",\"x\":[\"H1N1\"],\"xaxis\":\"x2\",\"y\":[19454.0],\"yaxis\":\"y2\"},{\"alignmentgroup\":\"True\",\"hovertemplate\":\"epidemic=%{x}<br>Case=mortality<br>Value=%{text}<extra></extra>\",\"legendgroup\":\"H1N1\",\"marker\":{\"color\":\"rgb(242, 183, 1)\",\"pattern\":{\"shape\":\"\"}},\"name\":\"H1N1\",\"offsetgroup\":\"H1N1\",\"orientation\":\"v\",\"showlegend\":false,\"text\":[0.29],\"textposition\":\"outside\",\"type\":\"bar\",\"x\":[\"H1N1\"],\"xaxis\":\"x3\",\"y\":[0.29],\"yaxis\":\"y3\"},{\"alignmentgroup\":\"True\",\"hovertemplate\":\"epidemic=%{x}<br>Case=confirmed<br>Value=%{text}<extra></extra>\",\"legendgroup\":\"SARS\",\"marker\":{\"color\":\"rgb(231, 63, 116)\",\"pattern\":{\"shape\":\"\"}},\"name\":\"SARS\",\"offsetgroup\":\"SARS\",\"orientation\":\"v\",\"showlegend\":true,\"text\":[8422.0],\"textposition\":\"outside\",\"type\":\"bar\",\"x\":[\"SARS\"],\"xaxis\":\"x\",\"y\":[8422.0],\"yaxis\":\"y\"},{\"alignmentgroup\":\"True\",\"hovertemplate\":\"epidemic=%{x}<br>Case=deaths<br>Value=%{text}<extra></extra>\",\"legendgroup\":\"SARS\",\"marker\":{\"color\":\"rgb(231, 63, 116)\",\"pattern\":{\"shape\":\"\"}},\"name\":\"SARS\",\"offsetgroup\":\"SARS\",\"orientation\":\"v\",\"showlegend\":false,\"text\":[813.0],\"textposition\":\"outside\",\"type\":\"bar\",\"x\":[\"SARS\"],\"xaxis\":\"x2\",\"y\":[813.0],\"yaxis\":\"y2\"},{\"alignmentgroup\":\"True\",\"hovertemplate\":\"epidemic=%{x}<br>Case=mortality<br>Value=%{text}<extra></extra>\",\"legendgroup\":\"SARS\",\"marker\":{\"color\":\"rgb(231, 63, 116)\",\"pattern\":{\"shape\":\"\"}},\"name\":\"SARS\",\"offsetgroup\":\"SARS\",\"orientation\":\"v\",\"showlegend\":false,\"text\":[9.65],\"textposition\":\"outside\",\"type\":\"bar\",\"x\":[\"SARS\"],\"xaxis\":\"x3\",\"y\":[9.65],\"yaxis\":\"y3\"}],                        {\"annotations\":[{\"font\":{},\"showarrow\":false,\"text\":\"Case=confirmed\",\"x\":0.15999999999999998,\"xanchor\":\"center\",\"xref\":\"paper\",\"y\":1.0,\"yanchor\":\"bottom\",\"yref\":\"paper\"},{\"font\":{},\"showarrow\":false,\"text\":\"Case=deaths\",\"x\":0.49999999999999994,\"xanchor\":\"center\",\"xref\":\"paper\",\"y\":1.0,\"yanchor\":\"bottom\",\"yref\":\"paper\"},{\"font\":{},\"showarrow\":false,\"text\":\"Case=mortality\",\"x\":0.8399999999999999,\"xanchor\":\"center\",\"xref\":\"paper\",\"y\":1.0,\"yanchor\":\"bottom\",\"yref\":\"paper\"}],\"barmode\":\"relative\",\"legend\":{\"title\":{\"text\":\"epidemic\"},\"tracegroupgap\":0},\"margin\":{\"t\":60},\"template\":{\"data\":{\"bar\":[{\"error_x\":{\"color\":\"#2a3f5f\"},\"error_y\":{\"color\":\"#2a3f5f\"},\"marker\":{\"line\":{\"color\":\"#E5ECF6\",\"width\":0.5},\"pattern\":{\"fillmode\":\"overlay\",\"size\":10,\"solidity\":0.2}},\"type\":\"bar\"}],\"barpolar\":[{\"marker\":{\"line\":{\"color\":\"#E5ECF6\",\"width\":0.5},\"pattern\":{\"fillmode\":\"overlay\",\"size\":10,\"solidity\":0.2}},\"type\":\"barpolar\"}],\"carpet\":[{\"aaxis\":{\"endlinecolor\":\"#2a3f5f\",\"gridcolor\":\"white\",\"linecolor\":\"white\",\"minorgridcolor\":\"white\",\"startlinecolor\":\"#2a3f5f\"},\"baxis\":{\"endlinecolor\":\"#2a3f5f\",\"gridcolor\":\"white\",\"linecolor\":\"white\",\"minorgridcolor\":\"white\",\"startlinecolor\":\"#2a3f5f\"},\"type\":\"carpet\"}],\"choropleth\":[{\"colorbar\":{\"outlinewidth\":0,\"ticks\":\"\"},\"type\":\"choropleth\"}],\"contour\":[{\"colorbar\":{\"outlinewidth\":0,\"ticks\":\"\"},\"colorscale\":[[0.0,\"#0d0887\"],[0.1111111111111111,\"#46039f\"],[0.2222222222222222,\"#7201a8\"],[0.3333333333333333,\"#9c179e\"],[0.4444444444444444,\"#bd3786\"],[0.5555555555555556,\"#d8576b\"],[0.6666666666666666,\"#ed7953\"],[0.7777777777777778,\"#fb9f3a\"],[0.8888888888888888,\"#fdca26\"],[1.0,\"#f0f921\"]],\"type\":\"contour\"}],\"contourcarpet\":[{\"colorbar\":{\"outlinewidth\":0,\"ticks\":\"\"},\"type\":\"contourcarpet\"}],\"heatmap\":[{\"colorbar\":{\"outlinewidth\":0,\"ticks\":\"\"},\"colorscale\":[[0.0,\"#0d0887\"],[0.1111111111111111,\"#46039f\"],[0.2222222222222222,\"#7201a8\"],[0.3333333333333333,\"#9c179e\"],[0.4444444444444444,\"#bd3786\"],[0.5555555555555556,\"#d8576b\"],[0.6666666666666666,\"#ed7953\"],[0.7777777777777778,\"#fb9f3a\"],[0.8888888888888888,\"#fdca26\"],[1.0,\"#f0f921\"]],\"type\":\"heatmap\"}],\"heatmapgl\":[{\"colorbar\":{\"outlinewidth\":0,\"ticks\":\"\"},\"colorscale\":[[0.0,\"#0d0887\"],[0.1111111111111111,\"#46039f\"],[0.2222222222222222,\"#7201a8\"],[0.3333333333333333,\"#9c179e\"],[0.4444444444444444,\"#bd3786\"],[0.5555555555555556,\"#d8576b\"],[0.6666666666666666,\"#ed7953\"],[0.7777777777777778,\"#fb9f3a\"],[0.8888888888888888,\"#fdca26\"],[1.0,\"#f0f921\"]],\"type\":\"heatmapgl\"}],\"histogram\":[{\"marker\":{\"pattern\":{\"fillmode\":\"overlay\",\"size\":10,\"solidity\":0.2}},\"type\":\"histogram\"}],\"histogram2d\":[{\"colorbar\":{\"outlinewidth\":0,\"ticks\":\"\"},\"colorscale\":[[0.0,\"#0d0887\"],[0.1111111111111111,\"#46039f\"],[0.2222222222222222,\"#7201a8\"],[0.3333333333333333,\"#9c179e\"],[0.4444444444444444,\"#bd3786\"],[0.5555555555555556,\"#d8576b\"],[0.6666666666666666,\"#ed7953\"],[0.7777777777777778,\"#fb9f3a\"],[0.8888888888888888,\"#fdca26\"],[1.0,\"#f0f921\"]],\"type\":\"histogram2d\"}],\"histogram2dcontour\":[{\"colorbar\":{\"outlinewidth\":0,\"ticks\":\"\"},\"colorscale\":[[0.0,\"#0d0887\"],[0.1111111111111111,\"#46039f\"],[0.2222222222222222,\"#7201a8\"],[0.3333333333333333,\"#9c179e\"],[0.4444444444444444,\"#bd3786\"],[0.5555555555555556,\"#d8576b\"],[0.6666666666666666,\"#ed7953\"],[0.7777777777777778,\"#fb9f3a\"],[0.8888888888888888,\"#fdca26\"],[1.0,\"#f0f921\"]],\"type\":\"histogram2dcontour\"}],\"mesh3d\":[{\"colorbar\":{\"outlinewidth\":0,\"ticks\":\"\"},\"type\":\"mesh3d\"}],\"parcoords\":[{\"line\":{\"colorbar\":{\"outlinewidth\":0,\"ticks\":\"\"}},\"type\":\"parcoords\"}],\"pie\":[{\"automargin\":true,\"type\":\"pie\"}],\"scatter\":[{\"marker\":{\"colorbar\":{\"outlinewidth\":0,\"ticks\":\"\"}},\"type\":\"scatter\"}],\"scatter3d\":[{\"line\":{\"colorbar\":{\"outlinewidth\":0,\"ticks\":\"\"}},\"marker\":{\"colorbar\":{\"outlinewidth\":0,\"ticks\":\"\"}},\"type\":\"scatter3d\"}],\"scattercarpet\":[{\"marker\":{\"colorbar\":{\"outlinewidth\":0,\"ticks\":\"\"}},\"type\":\"scattercarpet\"}],\"scattergeo\":[{\"marker\":{\"colorbar\":{\"outlinewidth\":0,\"ticks\":\"\"}},\"type\":\"scattergeo\"}],\"scattergl\":[{\"marker\":{\"colorbar\":{\"outlinewidth\":0,\"ticks\":\"\"}},\"type\":\"scattergl\"}],\"scattermapbox\":[{\"marker\":{\"colorbar\":{\"outlinewidth\":0,\"ticks\":\"\"}},\"type\":\"scattermapbox\"}],\"scatterpolar\":[{\"marker\":{\"colorbar\":{\"outlinewidth\":0,\"ticks\":\"\"}},\"type\":\"scatterpolar\"}],\"scatterpolargl\":[{\"marker\":{\"colorbar\":{\"outlinewidth\":0,\"ticks\":\"\"}},\"type\":\"scatterpolargl\"}],\"scatterternary\":[{\"marker\":{\"colorbar\":{\"outlinewidth\":0,\"ticks\":\"\"}},\"type\":\"scatterternary\"}],\"surface\":[{\"colorbar\":{\"outlinewidth\":0,\"ticks\":\"\"},\"colorscale\":[[0.0,\"#0d0887\"],[0.1111111111111111,\"#46039f\"],[0.2222222222222222,\"#7201a8\"],[0.3333333333333333,\"#9c179e\"],[0.4444444444444444,\"#bd3786\"],[0.5555555555555556,\"#d8576b\"],[0.6666666666666666,\"#ed7953\"],[0.7777777777777778,\"#fb9f3a\"],[0.8888888888888888,\"#fdca26\"],[1.0,\"#f0f921\"]],\"type\":\"surface\"}],\"table\":[{\"cells\":{\"fill\":{\"color\":\"#EBF0F8\"},\"line\":{\"color\":\"white\"}},\"header\":{\"fill\":{\"color\":\"#C8D4E3\"},\"line\":{\"color\":\"white\"}},\"type\":\"table\"}]},\"layout\":{\"annotationdefaults\":{\"arrowcolor\":\"#2a3f5f\",\"arrowhead\":0,\"arrowwidth\":1},\"autotypenumbers\":\"strict\",\"coloraxis\":{\"colorbar\":{\"outlinewidth\":0,\"ticks\":\"\"}},\"colorscale\":{\"diverging\":[[0,\"#8e0152\"],[0.1,\"#c51b7d\"],[0.2,\"#de77ae\"],[0.3,\"#f1b6da\"],[0.4,\"#fde0ef\"],[0.5,\"#f7f7f7\"],[0.6,\"#e6f5d0\"],[0.7,\"#b8e186\"],[0.8,\"#7fbc41\"],[0.9,\"#4d9221\"],[1,\"#276419\"]],\"sequential\":[[0.0,\"#0d0887\"],[0.1111111111111111,\"#46039f\"],[0.2222222222222222,\"#7201a8\"],[0.3333333333333333,\"#9c179e\"],[0.4444444444444444,\"#bd3786\"],[0.5555555555555556,\"#d8576b\"],[0.6666666666666666,\"#ed7953\"],[0.7777777777777778,\"#fb9f3a\"],[0.8888888888888888,\"#fdca26\"],[1.0,\"#f0f921\"]],\"sequentialminus\":[[0.0,\"#0d0887\"],[0.1111111111111111,\"#46039f\"],[0.2222222222222222,\"#7201a8\"],[0.3333333333333333,\"#9c179e\"],[0.4444444444444444,\"#bd3786\"],[0.5555555555555556,\"#d8576b\"],[0.6666666666666666,\"#ed7953\"],[0.7777777777777778,\"#fb9f3a\"],[0.8888888888888888,\"#fdca26\"],[1.0,\"#f0f921\"]]},\"colorway\":[\"#636efa\",\"#EF553B\",\"#00cc96\",\"#ab63fa\",\"#FFA15A\",\"#19d3f3\",\"#FF6692\",\"#B6E880\",\"#FF97FF\",\"#FECB52\"],\"font\":{\"color\":\"#2a3f5f\"},\"geo\":{\"bgcolor\":\"white\",\"lakecolor\":\"white\",\"landcolor\":\"#E5ECF6\",\"showlakes\":true,\"showland\":true,\"subunitcolor\":\"white\"},\"hoverlabel\":{\"align\":\"left\"},\"hovermode\":\"closest\",\"mapbox\":{\"style\":\"light\"},\"paper_bgcolor\":\"white\",\"plot_bgcolor\":\"#E5ECF6\",\"polar\":{\"angularaxis\":{\"gridcolor\":\"white\",\"linecolor\":\"white\",\"ticks\":\"\"},\"bgcolor\":\"#E5ECF6\",\"radialaxis\":{\"gridcolor\":\"white\",\"linecolor\":\"white\",\"ticks\":\"\"}},\"scene\":{\"xaxis\":{\"backgroundcolor\":\"#E5ECF6\",\"gridcolor\":\"white\",\"gridwidth\":2,\"linecolor\":\"white\",\"showbackground\":true,\"ticks\":\"\",\"zerolinecolor\":\"white\"},\"yaxis\":{\"backgroundcolor\":\"#E5ECF6\",\"gridcolor\":\"white\",\"gridwidth\":2,\"linecolor\":\"white\",\"showbackground\":true,\"ticks\":\"\",\"zerolinecolor\":\"white\"},\"zaxis\":{\"backgroundcolor\":\"#E5ECF6\",\"gridcolor\":\"white\",\"gridwidth\":2,\"linecolor\":\"white\",\"showbackground\":true,\"ticks\":\"\",\"zerolinecolor\":\"white\"}},\"shapedefaults\":{\"line\":{\"color\":\"#2a3f5f\"}},\"ternary\":{\"aaxis\":{\"gridcolor\":\"white\",\"linecolor\":\"white\",\"ticks\":\"\"},\"baxis\":{\"gridcolor\":\"white\",\"linecolor\":\"white\",\"ticks\":\"\"},\"bgcolor\":\"#E5ECF6\",\"caxis\":{\"gridcolor\":\"white\",\"linecolor\":\"white\",\"ticks\":\"\"}},\"title\":{\"x\":0.05},\"xaxis\":{\"automargin\":true,\"gridcolor\":\"white\",\"linecolor\":\"white\",\"ticks\":\"\",\"title\":{\"standoff\":15},\"zerolinecolor\":\"white\",\"zerolinewidth\":2},\"yaxis\":{\"automargin\":true,\"gridcolor\":\"white\",\"linecolor\":\"white\",\"ticks\":\"\",\"title\":{\"standoff\":15},\"zerolinecolor\":\"white\",\"zerolinewidth\":2}}},\"uniformtext\":{\"minsize\":8,\"mode\":\"hide\"},\"xaxis\":{\"anchor\":\"y\",\"categoryarray\":[\"COVID-19\",\"EBOLA\",\"MERS\",\"H1N1\",\"SARS\"],\"categoryorder\":\"array\",\"domain\":[0.0,0.31999999999999995],\"title\":{\"text\":\"epidemic\"}},\"xaxis2\":{\"anchor\":\"y2\",\"categoryarray\":[\"COVID-19\",\"EBOLA\",\"MERS\",\"H1N1\",\"SARS\"],\"categoryorder\":\"array\",\"domain\":[0.33999999999999997,0.6599999999999999],\"matches\":\"x\",\"title\":{\"text\":\"epidemic\"}},\"xaxis3\":{\"anchor\":\"y3\",\"categoryarray\":[\"COVID-19\",\"EBOLA\",\"MERS\",\"H1N1\",\"SARS\"],\"categoryorder\":\"array\",\"domain\":[0.6799999999999999,0.9999999999999999],\"matches\":\"x\",\"title\":{\"text\":\"epidemic\"}},\"yaxis\":{\"anchor\":\"x\",\"domain\":[0.0,1.0],\"showticklabels\":false,\"title\":{\"text\":\"Value\"}},\"yaxis2\":{\"anchor\":\"x2\",\"domain\":[0.0,1.0],\"showticklabels\":false},\"yaxis3\":{\"anchor\":\"x3\",\"domain\":[0.0,1.0],\"showticklabels\":false}},                        {\"responsive\": true}                    ).then(function(){\n",
       "                            \n",
       "var gd = document.getElementById('67b6a3dd-3f8a-4f28-9048-47326a3661c6');\n",
       "var x = new MutationObserver(function (mutations, observer) {{\n",
       "        var display = window.getComputedStyle(gd).display;\n",
       "        if (!display || display === 'none') {{\n",
       "            console.log([gd, 'removed!']);\n",
       "            Plotly.purge(gd);\n",
       "            observer.disconnect();\n",
       "        }}\n",
       "}});\n",
       "\n",
       "// Listen for the removal of the full notebook cells\n",
       "var notebookContainer = gd.closest('#notebook-container');\n",
       "if (notebookContainer) {{\n",
       "    x.observe(notebookContainer, {childList: true});\n",
       "}}\n",
       "\n",
       "// Listen for the clearing of the current output cell\n",
       "var outputEl = gd.closest('.output');\n",
       "if (outputEl) {{\n",
       "    x.observe(outputEl, {childList: true});\n",
       "}}\n",
       "\n",
       "                        })                };                });            </script>        </div>"
      ]
     },
     "metadata": {},
     "output_type": "display_data"
    }
   ],
   "source": [
    "fig = px.bar(temp, x = 'epidemic', y = 'Value', color = 'epidemic', text = 'Value', facet_col = 'Case', \n",
    "            color_discrete_sequence = px.colors.qualitative.Bold)\n",
    "fig.update_traces(textposition = 'outside')\n",
    "fig.update_layout(uniformtext_minsize = 8, uniformtext_mode = 'hide')\n",
    "fig.update_yaxes(showticklabels = False)\n",
    "fig.layout.yaxis2.update(matches = None)\n",
    "fig.layout.yaxis3.update(matches = None)\n",
    "fig.show()"
   ]
  },
  {
   "cell_type": "markdown",
   "id": "6e21b96e",
   "metadata": {},
   "source": [
    "As we can see **COVID-19** has the highest number of **confirmed and deaths cases** but a very **low mortality rate** when compared with **EBOLA, MERS** and **SARS**."
   ]
  },
  {
   "cell_type": "code",
   "execution_count": null,
   "id": "b55727f1",
   "metadata": {},
   "outputs": [],
   "source": []
  }
 ],
 "metadata": {
  "kernelspec": {
   "display_name": "Python 3",
   "language": "python",
   "name": "python3"
  },
  "language_info": {
   "codemirror_mode": {
    "name": "ipython",
    "version": 3
   },
   "file_extension": ".py",
   "mimetype": "text/x-python",
   "name": "python",
   "nbconvert_exporter": "python",
   "pygments_lexer": "ipython3",
   "version": "3.8.8"
  }
 },
 "nbformat": 4,
 "nbformat_minor": 5
}
